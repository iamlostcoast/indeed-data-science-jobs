{
 "cells": [
  {
   "cell_type": "markdown",
   "metadata": {
    "collapsed": true
   },
   "source": [
    "# Project 4: Scraping Job Postings\n",
    "\n",
    "Going to use indeed to get job data and find out what factors affect salary."
   ]
  },
  {
   "cell_type": "code",
   "execution_count": 227,
   "metadata": {
    "collapsed": true
   },
   "outputs": [],
   "source": [
    "import pandas as pd\n",
    "import numpy as np\n",
    "from bs4 import BeautifulSoup\n",
    "import matplotlib.pyplot as plt\n",
    "import seaborn as sns\n",
    "\n",
    "%matplotlib inline"
   ]
  },
  {
   "cell_type": "markdown",
   "metadata": {},
   "source": [
    "# Question 1: Predicting Salary"
   ]
  },
  {
   "cell_type": "code",
   "execution_count": 2,
   "metadata": {
    "collapsed": true
   },
   "outputs": [],
   "source": [
    "df65 = pd.read_csv(\"./indeed65k.csv\")"
   ]
  },
  {
   "cell_type": "code",
   "execution_count": 45,
   "metadata": {},
   "outputs": [
    {
     "data": {
      "text/html": [
       "<div>\n",
       "<table border=\"1\" class=\"dataframe\">\n",
       "  <thead>\n",
       "    <tr style=\"text-align: right;\">\n",
       "      <th></th>\n",
       "      <th>salary</th>\n",
       "      <th>star_rating</th>\n",
       "      <th>summary</th>\n",
       "      <th>reviews</th>\n",
       "      <th>sponsored</th>\n",
       "      <th>location</th>\n",
       "      <th>job_title</th>\n",
       "      <th>company_name</th>\n",
       "    </tr>\n",
       "  </thead>\n",
       "  <tbody>\n",
       "    <tr>\n",
       "      <th>0</th>\n",
       "      <td>NaN</td>\n",
       "      <td>width:43.2px</td>\n",
       "      <td>&lt;span class=\"summary\"&gt;ZapLabs’ &lt;b&gt;Data&lt;/b&gt; tea...</td>\n",
       "      <td>50</td>\n",
       "      <td>NaN</td>\n",
       "      <td>Emeryville, CA</td>\n",
       "      <td>Junior Data Analyst</td>\n",
       "      <td>&lt;span class=\"company\"&gt;\\n    &lt;a data-tn-element...</td>\n",
       "    </tr>\n",
       "    <tr>\n",
       "      <th>1</th>\n",
       "      <td>NaN</td>\n",
       "      <td>NaN</td>\n",
       "      <td>&lt;span class=\"summary\" itemprop=\"description\"&gt;\\...</td>\n",
       "      <td>NaN</td>\n",
       "      <td>NaN</td>\n",
       "      <td>San Francisco, CA</td>\n",
       "      <td>Risk Data Scientist</td>\n",
       "      <td>&lt;span class=\"company\" itemprop=\"hiringOrganiza...</td>\n",
       "    </tr>\n",
       "    <tr>\n",
       "      <th>2</th>\n",
       "      <td>NaN</td>\n",
       "      <td>width:51.0px</td>\n",
       "      <td>&lt;span class=\"summary\" itemprop=\"description\"&gt;\\...</td>\n",
       "      <td>335</td>\n",
       "      <td>NaN</td>\n",
       "      <td>San Francisco, CA 94107</td>\n",
       "      <td>Data Scientist - San Francisco, CA</td>\n",
       "      <td>&lt;span class=\"company\" itemprop=\"hiringOrganiza...</td>\n",
       "    </tr>\n",
       "    <tr>\n",
       "      <th>3</th>\n",
       "      <td>NaN</td>\n",
       "      <td>width:44.4px</td>\n",
       "      <td>&lt;span class=\"summary\" itemprop=\"description\"&gt;\\...</td>\n",
       "      <td>2,494</td>\n",
       "      <td>NaN</td>\n",
       "      <td>San Francisco, CA 94109</td>\n",
       "      <td>Data Scientist 2 | Utilities SaaS Analytics</td>\n",
       "      <td>&lt;span class=\"company\" itemprop=\"hiringOrganiza...</td>\n",
       "    </tr>\n",
       "    <tr>\n",
       "      <th>4</th>\n",
       "      <td>NaN</td>\n",
       "      <td>width:54.0px</td>\n",
       "      <td>&lt;span class=\"summary\" itemprop=\"description\"&gt;\\...</td>\n",
       "      <td>2</td>\n",
       "      <td>NaN</td>\n",
       "      <td>San Francisco, CA 94107</td>\n",
       "      <td>Data Scientist</td>\n",
       "      <td>&lt;span class=\"company\" itemprop=\"hiringOrganiza...</td>\n",
       "    </tr>\n",
       "  </tbody>\n",
       "</table>\n",
       "</div>"
      ],
      "text/plain": [
       "  salary   star_rating                                            summary  \\\n",
       "0    NaN  width:43.2px  <span class=\"summary\">ZapLabs’ <b>Data</b> tea...   \n",
       "1    NaN           NaN  <span class=\"summary\" itemprop=\"description\">\\...   \n",
       "2    NaN  width:51.0px  <span class=\"summary\" itemprop=\"description\">\\...   \n",
       "3    NaN  width:44.4px  <span class=\"summary\" itemprop=\"description\">\\...   \n",
       "4    NaN  width:54.0px  <span class=\"summary\" itemprop=\"description\">\\...   \n",
       "\n",
       "  reviews  sponsored                  location  \\\n",
       "0      50        NaN            Emeryville, CA   \n",
       "1     NaN        NaN         San Francisco, CA   \n",
       "2     335        NaN  San Francisco, CA 94107    \n",
       "3   2,494        NaN  San Francisco, CA 94109    \n",
       "4       2        NaN  San Francisco, CA 94107    \n",
       "\n",
       "                                     job_title  \\\n",
       "0                          Junior Data Analyst   \n",
       "1                          Risk Data Scientist   \n",
       "2           Data Scientist - San Francisco, CA   \n",
       "3  Data Scientist 2 | Utilities SaaS Analytics   \n",
       "4                               Data Scientist   \n",
       "\n",
       "                                        company_name  \n",
       "0  <span class=\"company\">\\n    <a data-tn-element...  \n",
       "1  <span class=\"company\" itemprop=\"hiringOrganiza...  \n",
       "2  <span class=\"company\" itemprop=\"hiringOrganiza...  \n",
       "3  <span class=\"company\" itemprop=\"hiringOrganiza...  \n",
       "4  <span class=\"company\" itemprop=\"hiringOrganiza...  "
      ]
     },
     "execution_count": 45,
     "metadata": {},
     "output_type": "execute_result"
    }
   ],
   "source": [
    "df65.head()"
   ]
  },
  {
   "cell_type": "markdown",
   "metadata": {},
   "source": [
    "Need to do a little cleaning on this, summary and company name didn't come in right"
   ]
  },
  {
   "cell_type": "code",
   "execution_count": 3,
   "metadata": {
    "collapsed": true
   },
   "outputs": [],
   "source": [
    "# parsing out the text from summary html\n",
    "\n",
    "summaries = [BeautifulSoup(summary, 'html.parser').get_text() for summary in df65['summary']]"
   ]
  },
  {
   "cell_type": "code",
   "execution_count": 4,
   "metadata": {
    "collapsed": true
   },
   "outputs": [],
   "source": [
    "# filling nas on company name so we can do the same.\n",
    "\n",
    "df65['company_name'].fillna(\"no company name\", inplace=True)"
   ]
  },
  {
   "cell_type": "code",
   "execution_count": 5,
   "metadata": {
    "collapsed": true
   },
   "outputs": [],
   "source": [
    "# parsing out company names from html\n",
    "\n",
    "company_names = [BeautifulSoup(name, 'html.parser').get_text() if name != \"no company name\" else name for name in df65['company_name']]"
   ]
  },
  {
   "cell_type": "code",
   "execution_count": 53,
   "metadata": {},
   "outputs": [
    {
     "data": {
      "text/plain": [
       "[u'\\n\\n        Realogy Corporate',\n",
       " u'\\n\\n    LendingHome\\n',\n",
       " u'\\n\\n\\n        PG&E\\n',\n",
       " u'\\n\\n\\n        Oracle\\n',\n",
       " u'\\n\\n\\n        Smule\\n',\n",
       " u'\\n\\n    Winton Capital\\n',\n",
       " u'\\n\\n    Grammarly\\n',\n",
       " u'\\n\\n\\n        Uber\\n',\n",
       " u'\\n\\n    Rakuten, Inc.\\n',\n",
       " u'\\n\\n\\n        Fanatics Inc.\\n']"
      ]
     },
     "execution_count": 53,
     "metadata": {},
     "output_type": "execute_result"
    }
   ],
   "source": [
    "company_names[0:10]"
   ]
  },
  {
   "cell_type": "code",
   "execution_count": 6,
   "metadata": {
    "collapsed": true
   },
   "outputs": [],
   "source": [
    "# getting rid of extra characters on company name and summary\n",
    "\n",
    "company_names = [name.replace(\"\\n\", \"\").replace(\"  \", \"\") for name in company_names]\n",
    "summaries = [summary.replace(\"\\n\", \"\") for summary in summaries]"
   ]
  },
  {
   "cell_type": "code",
   "execution_count": 7,
   "metadata": {
    "collapsed": true
   },
   "outputs": [],
   "source": [
    "# updating dataframe with cleaned data for companies and summary.\n",
    "\n",
    "df65['company_name'] = company_names\n",
    "df65['summary'] = summaries"
   ]
  },
  {
   "cell_type": "code",
   "execution_count": 8,
   "metadata": {
    "collapsed": true
   },
   "outputs": [],
   "source": [
    "del(df65['sponsored'])"
   ]
  },
  {
   "cell_type": "code",
   "execution_count": null,
   "metadata": {
    "collapsed": true
   },
   "outputs": [],
   "source": [
    "# We can get an actual number out of the star ratings block by getting rid of the 'width' and 'px' strings\n",
    "# and then scaling it a bit."
   ]
  },
  {
   "cell_type": "code",
   "execution_count": 9,
   "metadata": {
    "collapsed": true
   },
   "outputs": [],
   "source": [
    "star_ratings = [rating[6:10] if not pd.isnull(rating) else rating for rating in df65['star_rating']]"
   ]
  },
  {
   "cell_type": "code",
   "execution_count": 10,
   "metadata": {
    "collapsed": true
   },
   "outputs": [],
   "source": [
    "df65['star_rating'] = star_ratings"
   ]
  },
  {
   "cell_type": "code",
   "execution_count": 11,
   "metadata": {
    "collapsed": true
   },
   "outputs": [],
   "source": [
    "df65['star_rating'] = (pd.to_numeric(df65['star_rating']) - 10) / 10."
   ]
  },
  {
   "cell_type": "code",
   "execution_count": 12,
   "metadata": {
    "collapsed": true
   },
   "outputs": [],
   "source": [
    "# I'm also just going to get rid of the zipcode from location.\n",
    "\n",
    "locations = []\n",
    "\n",
    "for location in df65.location:\n",
    "    location = location.replace(\"0\", \"\").replace(\"1\", \"\").replace(\"2\", \"\").replace(\"3\", \"\").replace(\"4\", \"\").replace(\"5\", \"\").replace(\"6\", \"\").replace(\"7\", \"\").replace(\"8\", \"\").replace(\"9\", \"\")\n",
    "    locations.append(location)"
   ]
  },
  {
   "cell_type": "code",
   "execution_count": 13,
   "metadata": {
    "collapsed": true
   },
   "outputs": [],
   "source": [
    "df65.location = locations"
   ]
  },
  {
   "cell_type": "markdown",
   "metadata": {},
   "source": [
    "### Imputing missing data\n",
    "\n",
    "I'd like to impute missing values for star rating and reviews.  For star rating, I'll look at the distribution, and probably impute with the mean or median.  for reviews I'll just imput nan's with 0, they just don't have any reviews."
   ]
  },
  {
   "cell_type": "code",
   "execution_count": 89,
   "metadata": {},
   "outputs": [
    {
     "data": {
      "text/plain": [
       "<matplotlib.collections.LineCollection at 0x1159d3c10>"
      ]
     },
     "execution_count": 89,
     "metadata": {},
     "output_type": "execute_result"
    },
    {
     "data": {
      "image/png": "[encoded data removed]",
      "text/plain": [
       "<matplotlib.figure.Figure at 0x114b9b890>"
      ]
     },
     "metadata": {},
     "output_type": "display_data"
    }
   ],
   "source": [
    "sns.distplot(df65.loc[df65['star_rating'].notnull(), 'star_rating'])\n",
    "plt.vlines(df65.loc[df65['star_rating'].notnull(), 'star_rating'].mean(), 0,3, color='red')\n",
    "plt.vlines(df65.loc[df65['star_rating'].notnull(), 'star_rating'].median(), 0,3, color='green')\n",
    "\n",
    "\n",
    "# There's kind of an odd jump from 3.5 to 4.\n",
    "# I think I'll impute the missing values with the median, both because it reps the skew of the data a little better\n",
    "# and because it's closer to where there actually seem to be values."
   ]
  },
  {
   "cell_type": "code",
   "execution_count": 14,
   "metadata": {
    "collapsed": true
   },
   "outputs": [],
   "source": [
    "df65.star_rating.fillna(df65.loc[df65['star_rating'].notnull(), 'star_rating'].median(), inplace=True)"
   ]
  },
  {
   "cell_type": "code",
   "execution_count": 15,
   "metadata": {
    "collapsed": true
   },
   "outputs": [],
   "source": [
    "df65.reviews.fillna(0, inplace=True)"
   ]
  },
  {
   "cell_type": "code",
   "execution_count": 98,
   "metadata": {},
   "outputs": [
    {
     "name": "stdout",
     "output_type": "stream",
     "text": [
      "<class 'pandas.core.frame.DataFrame'>\n",
      "RangeIndex: 17907 entries, 0 to 17906\n",
      "Data columns (total 7 columns):\n",
      "salary          1789 non-null object\n",
      "star_rating     17907 non-null float64\n",
      "summary         17907 non-null object\n",
      "reviews         17907 non-null object\n",
      "location        17907 non-null object\n",
      "job_title       17907 non-null object\n",
      "company_name    17907 non-null object\n",
      "dtypes: float64(1), object(6)\n",
      "memory usage: 979.4+ KB\n"
     ]
    }
   ],
   "source": [
    "df65.info()"
   ]
  },
  {
   "cell_type": "code",
   "execution_count": 96,
   "metadata": {},
   "outputs": [
    {
     "data": {
      "text/html": [
       "<div>\n",
       "<table border=\"1\" class=\"dataframe\">\n",
       "  <thead>\n",
       "    <tr style=\"text-align: right;\">\n",
       "      <th></th>\n",
       "      <th>salary</th>\n",
       "      <th>star_rating</th>\n",
       "      <th>summary</th>\n",
       "      <th>reviews</th>\n",
       "      <th>location</th>\n",
       "      <th>job_title</th>\n",
       "      <th>company_name</th>\n",
       "    </tr>\n",
       "  </thead>\n",
       "  <tbody>\n",
       "    <tr>\n",
       "      <th>0</th>\n",
       "      <td>NaN</td>\n",
       "      <td>3.32</td>\n",
       "      <td>ZapLabsâ Data team is looking for data geeks...</td>\n",
       "      <td>50</td>\n",
       "      <td>Emeryville, CA</td>\n",
       "      <td>Junior Data Analyst</td>\n",
       "      <td>Realogy Corporate</td>\n",
       "    </tr>\n",
       "    <tr>\n",
       "      <th>1</th>\n",
       "      <td>NaN</td>\n",
       "      <td>3.44</td>\n",
       "      <td>LendingHome is seeking a talented and highly a...</td>\n",
       "      <td>0</td>\n",
       "      <td>San Francisco, CA</td>\n",
       "      <td>Risk Data Scientist</td>\n",
       "      <td>LendingHome</td>\n",
       "    </tr>\n",
       "    <tr>\n",
       "      <th>2</th>\n",
       "      <td>NaN</td>\n",
       "      <td>4.10</td>\n",
       "      <td>The Data Scientist will work ontechnical devel...</td>\n",
       "      <td>335</td>\n",
       "      <td>San Francisco, CA</td>\n",
       "      <td>Data Scientist - San Francisco, CA</td>\n",
       "      <td>PG&amp;E</td>\n",
       "    </tr>\n",
       "    <tr>\n",
       "      <th>3</th>\n",
       "      <td>NaN</td>\n",
       "      <td>3.44</td>\n",
       "      <td>Team of Data Scientists and Data Analysts to p...</td>\n",
       "      <td>2,494</td>\n",
       "      <td>San Francisco, CA</td>\n",
       "      <td>Data Scientist 2 | Utilities SaaS Analytics</td>\n",
       "      <td>Oracle</td>\n",
       "    </tr>\n",
       "    <tr>\n",
       "      <th>4</th>\n",
       "      <td>NaN</td>\n",
       "      <td>4.40</td>\n",
       "      <td>Familiarity with \"big data\" tools:. Ability to...</td>\n",
       "      <td>2</td>\n",
       "      <td>San Francisco, CA</td>\n",
       "      <td>Data Scientist</td>\n",
       "      <td>Smule</td>\n",
       "    </tr>\n",
       "    <tr>\n",
       "      <th>5</th>\n",
       "      <td>NaN</td>\n",
       "      <td>3.44</td>\n",
       "      <td>Data Visualization Developer. As the companyâ...</td>\n",
       "      <td>0</td>\n",
       "      <td>San Francisco, CA</td>\n",
       "      <td>Data Visualization Developer (Data)</td>\n",
       "      <td>Winton Capital</td>\n",
       "    </tr>\n",
       "    <tr>\n",
       "      <th>6</th>\n",
       "      <td>NaN</td>\n",
       "      <td>3.44</td>\n",
       "      <td>To help us reach that goal, Grammarly is looki...</td>\n",
       "      <td>0</td>\n",
       "      <td>San Francisco, CA</td>\n",
       "      <td>Data Scientist</td>\n",
       "      <td>Grammarly</td>\n",
       "    </tr>\n",
       "    <tr>\n",
       "      <th>7</th>\n",
       "      <td>NaN</td>\n",
       "      <td>3.44</td>\n",
       "      <td>Identify and own data latency and data quality...</td>\n",
       "      <td>169</td>\n",
       "      <td>San Francisco, CA</td>\n",
       "      <td>Data Scientist and Data Analyst - Communicatio...</td>\n",
       "      <td>Uber</td>\n",
       "    </tr>\n",
       "    <tr>\n",
       "      <th>8</th>\n",
       "      <td>NaN</td>\n",
       "      <td>3.44</td>\n",
       "      <td>Apply machine learning, deep learning algorith...</td>\n",
       "      <td>0</td>\n",
       "      <td>San Mateo, CA</td>\n",
       "      <td>Data Scientist</td>\n",
       "      <td>Rakuten, Inc.</td>\n",
       "    </tr>\n",
       "    <tr>\n",
       "      <th>9</th>\n",
       "      <td>NaN</td>\n",
       "      <td>3.26</td>\n",
       "      <td>Data Science Engineer. Experience with big dat...</td>\n",
       "      <td>216</td>\n",
       "      <td>San Mateo, CA</td>\n",
       "      <td>Data Scientist</td>\n",
       "      <td>Fanatics Inc.</td>\n",
       "    </tr>\n",
       "  </tbody>\n",
       "</table>\n",
       "</div>"
      ],
      "text/plain": [
       "  salary  star_rating                                            summary  \\\n",
       "0    NaN         3.32  ZapLabsâ Data team is looking for data geeks...   \n",
       "1    NaN         3.44  LendingHome is seeking a talented and highly a...   \n",
       "2    NaN         4.10  The Data Scientist will work ontechnical devel...   \n",
       "3    NaN         3.44  Team of Data Scientists and Data Analysts to p...   \n",
       "4    NaN         4.40  Familiarity with \"big data\" tools:. Ability to...   \n",
       "5    NaN         3.44  Data Visualization Developer. As the companyâ...   \n",
       "6    NaN         3.44  To help us reach that goal, Grammarly is looki...   \n",
       "7    NaN         3.44  Identify and own data latency and data quality...   \n",
       "8    NaN         3.44  Apply machine learning, deep learning algorith...   \n",
       "9    NaN         3.26  Data Science Engineer. Experience with big dat...   \n",
       "\n",
       "  reviews             location  \\\n",
       "0      50       Emeryville, CA   \n",
       "1       0    San Francisco, CA   \n",
       "2     335  San Francisco, CA     \n",
       "3   2,494  San Francisco, CA     \n",
       "4       2  San Francisco, CA     \n",
       "5       0    San Francisco, CA   \n",
       "6       0    San Francisco, CA   \n",
       "7     169  San Francisco, CA     \n",
       "8       0        San Mateo, CA   \n",
       "9     216        San Mateo, CA   \n",
       "\n",
       "                                           job_title       company_name  \n",
       "0                                Junior Data Analyst  Realogy Corporate  \n",
       "1                                Risk Data Scientist        LendingHome  \n",
       "2                 Data Scientist - San Francisco, CA               PG&E  \n",
       "3        Data Scientist 2 | Utilities SaaS Analytics             Oracle  \n",
       "4                                     Data Scientist              Smule  \n",
       "5                Data Visualization Developer (Data)     Winton Capital  \n",
       "6                                     Data Scientist          Grammarly  \n",
       "7  Data Scientist and Data Analyst - Communicatio...               Uber  \n",
       "8                                     Data Scientist      Rakuten, Inc.  \n",
       "9                                     Data Scientist      Fanatics Inc.  "
      ]
     },
     "execution_count": 96,
     "metadata": {},
     "output_type": "execute_result"
    }
   ],
   "source": [
    "df65.head(10)"
   ]
  },
  {
   "cell_type": "code",
   "execution_count": null,
   "metadata": {
    "collapsed": true
   },
   "outputs": [],
   "source": [
    "# now let's load in the rest of the data sets, and do the same cleaning on those."
   ]
  },
  {
   "cell_type": "code",
   "execution_count": 16,
   "metadata": {
    "collapsed": true
   },
   "outputs": [],
   "source": [
    "df90 = pd.read_csv(\"./indeed90k.csv\")\n",
    "df105 = pd.read_csv(\"./indeed105k.csv\")\n",
    "df130 = pd.read_csv(\"./indeed130k.csv\")"
   ]
  },
  {
   "cell_type": "code",
   "execution_count": 17,
   "metadata": {
    "collapsed": true
   },
   "outputs": [],
   "source": [
    "dfs = [df90, df105, df130]\n",
    "\n",
    "for df in dfs:\n",
    "    \n",
    "    # parsing out the text from summary html\n",
    "\n",
    "    summaries = [BeautifulSoup(summary, 'html.parser').get_text() for summary in df['summary']]\n",
    "\n",
    "    # filling nas on company name so we can do the same.\n",
    "\n",
    "    df['company_name'].fillna(\"no company name\", inplace=True)\n",
    "    company_names = [BeautifulSoup(name, 'html.parser').get_text() if name != \"no company name\" else name for name in df['company_name']]\n",
    "\n",
    "    # getting rid of extra characters on company name and summary\n",
    "\n",
    "    company_names = [name.replace(\"\\n\", \"\").replace(\"  \", \"\") for name in company_names]\n",
    "    summaries = [summary.replace(\"\\n\", \"\") for summary in summaries]\n",
    "\n",
    "    # updating to cleaned data.\n",
    "\n",
    "    df['company_name'] = company_names\n",
    "    df['summary'] = summaries\n",
    "\n",
    "    del(df['sponsored'])\n",
    "\n",
    "    star_ratings = [rating[6:10] if not pd.isnull(rating) else rating for rating in df['star_rating']]\n",
    "\n",
    "    df['star_rating'] = star_ratings\n",
    "    df['star_rating'] = (pd.to_numeric(df['star_rating']) - 10) / 10.\n",
    "\n",
    "    # I'm also just going to get rid of the zipcode from location.\n",
    "\n",
    "    locations = []\n",
    "\n",
    "    for location in df.location:\n",
    "        location = location.replace(\"0\", \"\").replace(\"1\", \"\").replace(\"2\", \"\").replace(\"3\", \"\").replace(\"4\", \"\").replace(\"5\", \"\").replace(\"6\", \"\").replace(\"7\", \"\").replace(\"8\", \"\").replace(\"9\", \"\")\n",
    "        locations.append(location)\n",
    "\n",
    "    df.location = locations\n",
    "\n",
    "    df.star_rating.fillna(df.loc[df['star_rating'].notnull(), 'star_rating'].median(), inplace=True)\n",
    "\n",
    "    df.reviews.fillna(0, inplace=True)"
   ]
  },
  {
   "cell_type": "code",
   "execution_count": 105,
   "metadata": {},
   "outputs": [
    {
     "data": {
      "text/html": [
       "<div>\n",
       "<table border=\"1\" class=\"dataframe\">\n",
       "  <thead>\n",
       "    <tr style=\"text-align: right;\">\n",
       "      <th></th>\n",
       "      <th>salary</th>\n",
       "      <th>star_rating</th>\n",
       "      <th>summary</th>\n",
       "      <th>reviews</th>\n",
       "      <th>location</th>\n",
       "      <th>job_title</th>\n",
       "      <th>company_name</th>\n",
       "    </tr>\n",
       "  </thead>\n",
       "  <tbody>\n",
       "    <tr>\n",
       "      <th>0</th>\n",
       "      <td>NaN</td>\n",
       "      <td>4.28</td>\n",
       "      <td>As a Data Scientist , you will work in a team ...</td>\n",
       "      <td>790</td>\n",
       "      <td>Palo Alto, CA</td>\n",
       "      <td>Data Scientist</td>\n",
       "      <td>SAP</td>\n",
       "    </tr>\n",
       "    <tr>\n",
       "      <th>1</th>\n",
       "      <td>NaN</td>\n",
       "      <td>4.10</td>\n",
       "      <td>LendingHome is seeking a talented and highly a...</td>\n",
       "      <td>0</td>\n",
       "      <td>San Francisco, CA</td>\n",
       "      <td>Risk Data Scientist</td>\n",
       "      <td>LendingHome</td>\n",
       "    </tr>\n",
       "    <tr>\n",
       "      <th>2</th>\n",
       "      <td>NaN</td>\n",
       "      <td>4.10</td>\n",
       "      <td>The Data Scientist will work ontechnical devel...</td>\n",
       "      <td>335</td>\n",
       "      <td>San Francisco, CA</td>\n",
       "      <td>Data Scientist - San Francisco, CA</td>\n",
       "      <td>PG&amp;E</td>\n",
       "    </tr>\n",
       "    <tr>\n",
       "      <th>3</th>\n",
       "      <td>NaN</td>\n",
       "      <td>3.44</td>\n",
       "      <td>Team of Data Scientists and Data Analysts to p...</td>\n",
       "      <td>2,493</td>\n",
       "      <td>San Francisco, CA</td>\n",
       "      <td>Data Scientist 2 | Utilities SaaS Analytics</td>\n",
       "      <td>Oracle</td>\n",
       "    </tr>\n",
       "    <tr>\n",
       "      <th>4</th>\n",
       "      <td>NaN</td>\n",
       "      <td>4.10</td>\n",
       "      <td>Data Visualization Developer. As the companyâ...</td>\n",
       "      <td>0</td>\n",
       "      <td>San Francisco, CA</td>\n",
       "      <td>Data Visualization Developer (Data)</td>\n",
       "      <td>Winton Capital</td>\n",
       "    </tr>\n",
       "  </tbody>\n",
       "</table>\n",
       "</div>"
      ],
      "text/plain": [
       "  salary  star_rating                                            summary  \\\n",
       "0    NaN         4.28  As a Data Scientist , you will work in a team ...   \n",
       "1    NaN         4.10  LendingHome is seeking a talented and highly a...   \n",
       "2    NaN         4.10  The Data Scientist will work ontechnical devel...   \n",
       "3    NaN         3.44  Team of Data Scientists and Data Analysts to p...   \n",
       "4    NaN         4.10  Data Visualization Developer. As the companyâ...   \n",
       "\n",
       "  reviews             location                                    job_title  \\\n",
       "0     790        Palo Alto, CA                               Data Scientist   \n",
       "1       0    San Francisco, CA                          Risk Data Scientist   \n",
       "2     335  San Francisco, CA             Data Scientist - San Francisco, CA   \n",
       "3   2,493  San Francisco, CA    Data Scientist 2 | Utilities SaaS Analytics   \n",
       "4       0    San Francisco, CA          Data Visualization Developer (Data)   \n",
       "\n",
       "     company_name  \n",
       "0             SAP  \n",
       "1     LendingHome  \n",
       "2            PG&E  \n",
       "3          Oracle  \n",
       "4  Winton Capital  "
      ]
     },
     "execution_count": 105,
     "metadata": {},
     "output_type": "execute_result"
    }
   ],
   "source": [
    "df90.head()"
   ]
  },
  {
   "cell_type": "code",
   "execution_count": 107,
   "metadata": {},
   "outputs": [
    {
     "data": {
      "text/html": [
       "<div>\n",
       "<table border=\"1\" class=\"dataframe\">\n",
       "  <thead>\n",
       "    <tr style=\"text-align: right;\">\n",
       "      <th></th>\n",
       "      <th>salary</th>\n",
       "      <th>star_rating</th>\n",
       "      <th>summary</th>\n",
       "      <th>reviews</th>\n",
       "      <th>location</th>\n",
       "      <th>job_title</th>\n",
       "      <th>company_name</th>\n",
       "    </tr>\n",
       "  </thead>\n",
       "  <tbody>\n",
       "    <tr>\n",
       "      <th>0</th>\n",
       "      <td>NaN</td>\n",
       "      <td>4.28</td>\n",
       "      <td>As a Data Scientist , you will work in a team ...</td>\n",
       "      <td>790</td>\n",
       "      <td>Palo Alto, CA</td>\n",
       "      <td>Data Scientist</td>\n",
       "      <td>SAP</td>\n",
       "    </tr>\n",
       "    <tr>\n",
       "      <th>1</th>\n",
       "      <td>NaN</td>\n",
       "      <td>3.44</td>\n",
       "      <td>Identify and own data latency and data quality...</td>\n",
       "      <td>169</td>\n",
       "      <td>San Francisco, CA</td>\n",
       "      <td>Data Scientist and Data Analyst - Communicatio...</td>\n",
       "      <td>Uber</td>\n",
       "    </tr>\n",
       "    <tr>\n",
       "      <th>2</th>\n",
       "      <td>NaN</td>\n",
       "      <td>4.10</td>\n",
       "      <td>Data Scientist- Digital. Writing software to c...</td>\n",
       "      <td>3,852</td>\n",
       "      <td>San Francisco, CA</td>\n",
       "      <td>Data Scientist- Digital</td>\n",
       "      <td>Capital One</td>\n",
       "    </tr>\n",
       "    <tr>\n",
       "      <th>3</th>\n",
       "      <td>NaN</td>\n",
       "      <td>4.22</td>\n",
       "      <td>You are good at build collaborative relationsh...</td>\n",
       "      <td>172</td>\n",
       "      <td>San Francisco, CA</td>\n",
       "      <td>Data Scientist</td>\n",
       "      <td>Autodesk</td>\n",
       "    </tr>\n",
       "    <tr>\n",
       "      <th>4</th>\n",
       "      <td>NaN</td>\n",
       "      <td>4.16</td>\n",
       "      <td>Common data structures and algorithms. Youâr...</td>\n",
       "      <td>37</td>\n",
       "      <td>San Francisco, CA</td>\n",
       "      <td>Machine Learning Infrastructure Engineer</td>\n",
       "      <td>Twitter</td>\n",
       "    </tr>\n",
       "  </tbody>\n",
       "</table>\n",
       "</div>"
      ],
      "text/plain": [
       "  salary  star_rating                                            summary  \\\n",
       "0    NaN         4.28  As a Data Scientist , you will work in a team ...   \n",
       "1    NaN         3.44  Identify and own data latency and data quality...   \n",
       "2    NaN         4.10  Data Scientist- Digital. Writing software to c...   \n",
       "3    NaN         4.22  You are good at build collaborative relationsh...   \n",
       "4    NaN         4.16  Common data structures and algorithms. Youâr...   \n",
       "\n",
       "  reviews             location  \\\n",
       "0     790        Palo Alto, CA   \n",
       "1     169  San Francisco, CA     \n",
       "2   3,852    San Francisco, CA   \n",
       "3     172    San Francisco, CA   \n",
       "4      37  San Francisco, CA     \n",
       "\n",
       "                                           job_title company_name  \n",
       "0                                     Data Scientist          SAP  \n",
       "1  Data Scientist and Data Analyst - Communicatio...         Uber  \n",
       "2                            Data Scientist- Digital  Capital One  \n",
       "3                                     Data Scientist     Autodesk  \n",
       "4           Machine Learning Infrastructure Engineer      Twitter  "
      ]
     },
     "execution_count": 107,
     "metadata": {},
     "output_type": "execute_result"
    }
   ],
   "source": [
    "df105.head()"
   ]
  },
  {
   "cell_type": "code",
   "execution_count": 108,
   "metadata": {},
   "outputs": [
    {
     "name": "stdout",
     "output_type": "stream",
     "text": [
      "<class 'pandas.core.frame.DataFrame'>\n",
      "RangeIndex: 20268 entries, 0 to 20267\n",
      "Data columns (total 7 columns):\n",
      "salary          896 non-null object\n",
      "star_rating     20268 non-null float64\n",
      "summary         20268 non-null object\n",
      "reviews         20268 non-null object\n",
      "location        20268 non-null object\n",
      "job_title       20268 non-null object\n",
      "company_name    20268 non-null object\n",
      "dtypes: float64(1), object(6)\n",
      "memory usage: 1.1+ MB\n"
     ]
    }
   ],
   "source": [
    "df105.info()"
   ]
  },
  {
   "cell_type": "code",
   "execution_count": 109,
   "metadata": {},
   "outputs": [
    {
     "name": "stdout",
     "output_type": "stream",
     "text": [
      "<class 'pandas.core.frame.DataFrame'>\n",
      "RangeIndex: 413 entries, 0 to 412\n",
      "Data columns (total 7 columns):\n",
      "salary          48 non-null object\n",
      "star_rating     413 non-null float64\n",
      "summary         413 non-null object\n",
      "reviews         413 non-null object\n",
      "location        413 non-null object\n",
      "job_title       413 non-null object\n",
      "company_name    413 non-null object\n",
      "dtypes: float64(1), object(6)\n",
      "memory usage: 22.7+ KB\n"
     ]
    }
   ],
   "source": [
    "df130.info()"
   ]
  },
  {
   "cell_type": "code",
   "execution_count": 114,
   "metadata": {},
   "outputs": [
    {
     "data": {
      "text/plain": [
       "(9600, 7)"
      ]
     },
     "execution_count": 114,
     "metadata": {},
     "output_type": "execute_result"
    }
   ],
   "source": [
    "df65.shape"
   ]
  },
  {
   "cell_type": "code",
   "execution_count": 18,
   "metadata": {
    "collapsed": true
   },
   "outputs": [],
   "source": [
    "# Going to drop duplicates from everything\n",
    "\n",
    "df65 = df65.drop_duplicates()\n",
    "df90 = df90.drop_duplicates()\n",
    "df105 = df105.drop_duplicates()\n",
    "df130 = df130.drop_duplicates()"
   ]
  },
  {
   "cell_type": "code",
   "execution_count": 19,
   "metadata": {},
   "outputs": [
    {
     "name": "stdout",
     "output_type": "stream",
     "text": [
      "1334\n"
     ]
    }
   ],
   "source": [
    "# Looks like this is all good!  Now I need to add the salary group labels and then do outer joins to get rid of overlap.\n",
    "\n",
    "common_65 = df65.merge(df90,on=['summary', 'job_title']).drop_duplicates()\n",
    "print len(common_65)"
   ]
  },
  {
   "cell_type": "code",
   "execution_count": 123,
   "metadata": {},
   "outputs": [
    {
     "data": {
      "text/plain": [
       "11624"
      ]
     },
     "execution_count": 123,
     "metadata": {},
     "output_type": "execute_result"
    }
   ],
   "source": [
    "len(df65)"
   ]
  },
  {
   "cell_type": "code",
   "execution_count": 124,
   "metadata": {},
   "outputs": [
    {
     "data": {
      "text/plain": [
       "10012"
      ]
     },
     "execution_count": 124,
     "metadata": {},
     "output_type": "execute_result"
    }
   ],
   "source": [
    "len(df65[~df65.summary.isin(common_65.summary)])"
   ]
  },
  {
   "cell_type": "code",
   "execution_count": 125,
   "metadata": {},
   "outputs": [
    {
     "data": {
      "text/plain": [
       "10290"
      ]
     },
     "execution_count": 125,
     "metadata": {},
     "output_type": "execute_result"
    }
   ],
   "source": [
    "# There's some stuff getting deleted from the 65 k that's extra, but it must be duplicate summaries, which \n",
    "# I'm fine losing\n",
    "\n",
    "11624 - 1334"
   ]
  },
  {
   "cell_type": "code",
   "execution_count": 20,
   "metadata": {
    "collapsed": true
   },
   "outputs": [],
   "source": [
    "# Making a new data frame that's just the lower salary group.\n",
    "\n",
    "df_65_90 = df65[~df65.summary.isin(common_65.summary)]"
   ]
  },
  {
   "cell_type": "code",
   "execution_count": 21,
   "metadata": {
    "collapsed": true
   },
   "outputs": [],
   "source": [
    "common_90 = df90.merge(df105,on=['summary', 'job_title']).drop_duplicates()\n",
    "df_90_105 = df90[~df90.summary.isin(common_90.summary)]\n",
    "\n",
    "common_105 = df105.merge(df130,on=['summary', 'job_title']).drop_duplicates()\n",
    "df_105_130 = df105[~df105.summary.isin(common_90.summary)]"
   ]
  },
  {
   "cell_type": "code",
   "execution_count": 22,
   "metadata": {},
   "outputs": [
    {
     "name": "stderr",
     "output_type": "stream",
     "text": [
      "/anaconda/lib/python2.7/site-packages/ipykernel_launcher.py:3: SettingWithCopyWarning: \n",
      "A value is trying to be set on a copy of a slice from a DataFrame.\n",
      "Try using .loc[row_indexer,col_indexer] = value instead\n",
      "\n",
      "See the caveats in the documentation: http://pandas.pydata.org/pandas-docs/stable/indexing.html#indexing-view-versus-copy\n",
      "  This is separate from the ipykernel package so we can avoid doing imports until\n",
      "/anaconda/lib/python2.7/site-packages/ipykernel_launcher.py:4: SettingWithCopyWarning: \n",
      "A value is trying to be set on a copy of a slice from a DataFrame.\n",
      "Try using .loc[row_indexer,col_indexer] = value instead\n",
      "\n",
      "See the caveats in the documentation: http://pandas.pydata.org/pandas-docs/stable/indexing.html#indexing-view-versus-copy\n",
      "  after removing the cwd from sys.path.\n",
      "/anaconda/lib/python2.7/site-packages/ipykernel_launcher.py:5: SettingWithCopyWarning: \n",
      "A value is trying to be set on a copy of a slice from a DataFrame.\n",
      "Try using .loc[row_indexer,col_indexer] = value instead\n",
      "\n",
      "See the caveats in the documentation: http://pandas.pydata.org/pandas-docs/stable/indexing.html#indexing-view-versus-copy\n",
      "  \"\"\"\n",
      "/anaconda/lib/python2.7/site-packages/ipykernel_launcher.py:6: SettingWithCopyWarning: \n",
      "A value is trying to be set on a copy of a slice from a DataFrame.\n",
      "Try using .loc[row_indexer,col_indexer] = value instead\n",
      "\n",
      "See the caveats in the documentation: http://pandas.pydata.org/pandas-docs/stable/indexing.html#indexing-view-versus-copy\n",
      "  \n"
     ]
    }
   ],
   "source": [
    "# Ok, now each dataframe just includes jobs from it's particular salary range.  Now let's add the salary labels.\n",
    "\n",
    "df_65_90[\"salary_range\"] = \"65000 to 90000\"\n",
    "df_90_105[\"salary_range\"] = \"90000 to 105000\"\n",
    "df_105_130[\"salary_range\"] = \"105000 to 130000\"\n",
    "df130[\"salary_range\"] = \"Over 130000\""
   ]
  },
  {
   "cell_type": "code",
   "execution_count": 130,
   "metadata": {},
   "outputs": [
    {
     "data": {
      "text/html": [
       "<div>\n",
       "<table border=\"1\" class=\"dataframe\">\n",
       "  <thead>\n",
       "    <tr style=\"text-align: right;\">\n",
       "      <th></th>\n",
       "      <th>salary</th>\n",
       "      <th>star_rating</th>\n",
       "      <th>summary</th>\n",
       "      <th>reviews</th>\n",
       "      <th>location</th>\n",
       "      <th>job_title</th>\n",
       "      <th>company_name</th>\n",
       "      <th>salary_range</th>\n",
       "    </tr>\n",
       "  </thead>\n",
       "  <tbody>\n",
       "    <tr>\n",
       "      <th>0</th>\n",
       "      <td>NaN</td>\n",
       "      <td>4.22</td>\n",
       "      <td>Working closely with Subject Matter Experts (S...</td>\n",
       "      <td>673</td>\n",
       "      <td>Mountain View, CA</td>\n",
       "      <td>Data Scientist</td>\n",
       "      <td>Intuit</td>\n",
       "      <td>Over 130000</td>\n",
       "    </tr>\n",
       "    <tr>\n",
       "      <th>1</th>\n",
       "      <td>NaN</td>\n",
       "      <td>4.40</td>\n",
       "      <td>Senior Data Scientists solve problems through ...</td>\n",
       "      <td>10</td>\n",
       "      <td>San Francisco, CA</td>\n",
       "      <td>Senior Data Scientist - Web Clients</td>\n",
       "      <td>Twitch</td>\n",
       "      <td>Over 130000</td>\n",
       "    </tr>\n",
       "    <tr>\n",
       "      <th>2</th>\n",
       "      <td>NaN</td>\n",
       "      <td>4.16</td>\n",
       "      <td>Collaborate closely with qualitative researche...</td>\n",
       "      <td>37</td>\n",
       "      <td>San Francisco, CA</td>\n",
       "      <td>Quantitative User Researcher</td>\n",
       "      <td>Twitter</td>\n",
       "      <td>Over 130000</td>\n",
       "    </tr>\n",
       "    <tr>\n",
       "      <th>3</th>\n",
       "      <td>NaN</td>\n",
       "      <td>4.16</td>\n",
       "      <td>Twitter data scientists create increasingly so...</td>\n",
       "      <td>37</td>\n",
       "      <td>San Francisco, CA</td>\n",
       "      <td>Senior Data Scientist, Product</td>\n",
       "      <td>Twitter</td>\n",
       "      <td>Over 130000</td>\n",
       "    </tr>\n",
       "    <tr>\n",
       "      <th>4</th>\n",
       "      <td>NaN</td>\n",
       "      <td>4.16</td>\n",
       "      <td>Work with data engineers on data quality asses...</td>\n",
       "      <td>2,053</td>\n",
       "      <td>San Francisco, CA</td>\n",
       "      <td>Sr Data Scientist</td>\n",
       "      <td>General Electric</td>\n",
       "      <td>Over 130000</td>\n",
       "    </tr>\n",
       "  </tbody>\n",
       "</table>\n",
       "</div>"
      ],
      "text/plain": [
       "  salary  star_rating                                            summary  \\\n",
       "0    NaN         4.22  Working closely with Subject Matter Experts (S...   \n",
       "1    NaN         4.40  Senior Data Scientists solve problems through ...   \n",
       "2    NaN         4.16  Collaborate closely with qualitative researche...   \n",
       "3    NaN         4.16  Twitter data scientists create increasingly so...   \n",
       "4    NaN         4.16  Work with data engineers on data quality asses...   \n",
       "\n",
       "  reviews             location                            job_title  \\\n",
       "0     673   Mountain View, CA                        Data Scientist   \n",
       "1      10    San Francisco, CA  Senior Data Scientist - Web Clients   \n",
       "2      37  San Francisco, CA           Quantitative User Researcher   \n",
       "3      37  San Francisco, CA         Senior Data Scientist, Product   \n",
       "4   2,053  San Francisco, CA                      Sr Data Scientist   \n",
       "\n",
       "       company_name salary_range  \n",
       "0            Intuit  Over 130000  \n",
       "1            Twitch  Over 130000  \n",
       "2           Twitter  Over 130000  \n",
       "3           Twitter  Over 130000  \n",
       "4  General Electric  Over 130000  "
      ]
     },
     "execution_count": 130,
     "metadata": {},
     "output_type": "execute_result"
    }
   ],
   "source": [
    "df130.head()"
   ]
  },
  {
   "cell_type": "code",
   "execution_count": 23,
   "metadata": {
    "collapsed": true
   },
   "outputs": [],
   "source": [
    "# Now let's put them all in the same dataframe\n",
    "\n",
    "frames = [df_65_90, df_90_105, df_105_130, df130]\n",
    "\n",
    "df = pd.concat(frames, axis=0)"
   ]
  },
  {
   "cell_type": "code",
   "execution_count": 24,
   "metadata": {},
   "outputs": [
    {
     "name": "stdout",
     "output_type": "stream",
     "text": [
      "<class 'pandas.core.frame.DataFrame'>\n",
      "Int64Index: 20454 entries, 0 to 411\n",
      "Data columns (total 8 columns):\n",
      "salary          1494 non-null object\n",
      "star_rating     20454 non-null float64\n",
      "summary         20454 non-null object\n",
      "reviews         20454 non-null object\n",
      "location        20454 non-null object\n",
      "job_title       20454 non-null object\n",
      "company_name    20454 non-null object\n",
      "salary_range    20454 non-null object\n",
      "dtypes: float64(1), object(7)\n",
      "memory usage: 1.4+ MB\n"
     ]
    }
   ],
   "source": [
    "df.info()"
   ]
  },
  {
   "cell_type": "markdown",
   "metadata": {},
   "source": [
    "# Let's do a little EDA "
   ]
  },
  {
   "cell_type": "code",
   "execution_count": 157,
   "metadata": {},
   "outputs": [
    {
     "data": {
      "text/plain": [
       "10048"
      ]
     },
     "execution_count": 157,
     "metadata": {},
     "output_type": "execute_result"
    }
   ],
   "source": [
    "len(df.company_name.value_counts()) # There's a ton of different companies... may be tough to use this."
   ]
  },
  {
   "cell_type": "code",
   "execution_count": 145,
   "metadata": {},
   "outputs": [
    {
     "data": {
      "image/png": "[encoded data removed]",
      "text/plain": [
       "<matplotlib.figure.Figure at 0x118cab390>"
      ]
     },
     "metadata": {},
     "output_type": "display_data"
    }
   ],
   "source": [
    "# How does star rating look over the different categories?\n",
    "\n",
    "fig, ax = plt.subplots(1, 1, figsize=(10,7))\n",
    "\n",
    "for salary in list(df['salary_range'].unique()):\n",
    "    ax.hist(df.loc[df['salary_range'] == salary, 'star_rating'], stacked=True, label=salary, bins=20)\n",
    "    ax.legend(loc=\"upper right\")\n",
    "    \n",
    "# it's a bit hard to tell from this, but it does look like the 130k jobs skew a bit higher\n",
    "# also looks like 90 to 105 group might not have a lot of data."
   ]
  },
  {
   "cell_type": "code",
   "execution_count": 153,
   "metadata": {
    "collapsed": true
   },
   "outputs": [],
   "source": [
    "df['reviews'] = [int(str(review).replace(\",\", \"\")) for review in df['reviews']]"
   ]
  },
  {
   "cell_type": "code",
   "execution_count": 155,
   "metadata": {},
   "outputs": [
    {
     "data": {
      "text/plain": [
       "65000 to 90000      10012\n",
       "105000 to 130000     8809\n",
       "90000 to 105000      1250\n",
       "Over 130000           383\n",
       "Name: salary_range, dtype: int64"
      ]
     },
     "execution_count": 155,
     "metadata": {},
     "output_type": "execute_result"
    }
   ],
   "source": [
    "df.salary_range.value_counts()"
   ]
  },
  {
   "cell_type": "code",
   "execution_count": 154,
   "metadata": {},
   "outputs": [
    {
     "data": {
      "image/png": "[encoded data removed]",
      "text/plain": [
       "<matplotlib.figure.Figure at 0x117cf0d10>"
      ]
     },
     "metadata": {},
     "output_type": "display_data"
    }
   ],
   "source": [
    "# What about reviews?\n",
    "\n",
    "fig, ax = plt.subplots(1, 1, figsize=(10,7))\n",
    "\n",
    "for salary in list(df['salary_range'].unique()):\n",
    "    ax.hist(df.loc[df['salary_range'] == salary, 'reviews'], stacked=True, label=salary, bins=20)\n",
    "    ax.legend(loc=\"upper right\")\n",
    "    \n",
    "# Not super helpful either."
   ]
  },
  {
   "cell_type": "code",
   "execution_count": 2,
   "metadata": {
    "collapsed": true
   },
   "outputs": [],
   "source": [
    "import sqlite3\n",
    "\n",
    "conn = sqlite3.Connection(\"./project4.sqlite\")"
   ]
  },
  {
   "cell_type": "code",
   "execution_count": 3,
   "metadata": {
    "collapsed": true
   },
   "outputs": [],
   "source": [
    "conn.text_factory = str"
   ]
  },
  {
   "cell_type": "code",
   "execution_count": 29,
   "metadata": {
    "collapsed": true
   },
   "outputs": [],
   "source": [
    "df.to_sql(\"project_4_data\", con=conn, if_exists='replace')"
   ]
  },
  {
   "cell_type": "markdown",
   "metadata": {},
   "source": [
    "# Introducing some NLP elements.\n",
    "\n",
    "I'm going to go ahead and count vectorize the summary column./"
   ]
  },
  {
   "cell_type": "code",
   "execution_count": 232,
   "metadata": {
    "collapsed": true
   },
   "outputs": [],
   "source": [
    "df = pd.read_sql(\"SELECT * from project_4_data\", con=conn)"
   ]
  },
  {
   "cell_type": "code",
   "execution_count": 229,
   "metadata": {
    "collapsed": true
   },
   "outputs": [],
   "source": [
    "del(df['index'])"
   ]
  },
  {
   "cell_type": "code",
   "execution_count": 230,
   "metadata": {
    "collapsed": true
   },
   "outputs": [],
   "source": [
    "from sklearn.feature_extraction.text import CountVectorizer"
   ]
  },
  {
   "cell_type": "code",
   "execution_count": 233,
   "metadata": {},
   "outputs": [
    {
     "data": {
      "text/html": [
       "<div>\n",
       "<table border=\"1\" class=\"dataframe\">\n",
       "  <thead>\n",
       "    <tr style=\"text-align: right;\">\n",
       "      <th></th>\n",
       "      <th>freq</th>\n",
       "    </tr>\n",
       "  </thead>\n",
       "  <tbody>\n",
       "    <tr>\n",
       "      <th>sales</th>\n",
       "      <td>3174</td>\n",
       "    </tr>\n",
       "    <tr>\n",
       "      <th>position</th>\n",
       "      <td>2345</td>\n",
       "    </tr>\n",
       "    <tr>\n",
       "      <th>time</th>\n",
       "      <td>2169</td>\n",
       "    </tr>\n",
       "    <tr>\n",
       "      <th>experience</th>\n",
       "      <td>2071</td>\n",
       "    </tr>\n",
       "    <tr>\n",
       "      <th>work</th>\n",
       "      <td>2052</td>\n",
       "    </tr>\n",
       "    <tr>\n",
       "      <th>looking</th>\n",
       "      <td>1814</td>\n",
       "    </tr>\n",
       "    <tr>\n",
       "      <th>team</th>\n",
       "      <td>1700</td>\n",
       "    </tr>\n",
       "    <tr>\n",
       "      <th>service</th>\n",
       "      <td>1685</td>\n",
       "    </tr>\n",
       "    <tr>\n",
       "      <th>company</th>\n",
       "      <td>1646</td>\n",
       "    </tr>\n",
       "    <tr>\n",
       "      <th>data</th>\n",
       "      <td>1634</td>\n",
       "    </tr>\n",
       "  </tbody>\n",
       "</table>\n",
       "</div>"
      ],
      "text/plain": [
       "            freq\n",
       "sales       3174\n",
       "position    2345\n",
       "time        2169\n",
       "experience  2071\n",
       "work        2052\n",
       "looking     1814\n",
       "team        1700\n",
       "service     1685\n",
       "company     1646\n",
       "data        1634"
      ]
     },
     "execution_count": 233,
     "metadata": {},
     "output_type": "execute_result"
    }
   ],
   "source": [
    "cvt      =  CountVectorizer(strip_accents='unicode', ngram_range=(1,4), stop_words=\"english\", min_df=.001, max_df = .75)\n",
    "X_all    =  cvt.fit_transform(df['summary'])\n",
    "columns  =  cvt.get_feature_names()\n",
    "\n",
    "x_df     =  pd.DataFrame(X_all.toarray(), columns=columns)\n",
    "tf_df    =  pd.DataFrame(x_df.sum(), columns=[\"freq\"])\n",
    "tf_df.sort_values(\"freq\", ascending=False).head(10)"
   ]
  },
  {
   "cell_type": "code",
   "execution_count": 41,
   "metadata": {
    "collapsed": true
   },
   "outputs": [],
   "source": [
    "# There seems to be a lot of \"kwik trip\" references in here.  My search clearly went beyond data jobs it would appear.\n",
    "# That should be fine, but we may have to go back and refine the data mining process.\n",
    "\n",
    "# What's good to see fromthis is it's not readily apparent that we need stop words other than just \"english\""
   ]
  },
  {
   "cell_type": "code",
   "execution_count": 42,
   "metadata": {},
   "outputs": [
    {
     "data": {
      "text/html": [
       "<div>\n",
       "<table border=\"1\" class=\"dataframe\">\n",
       "  <thead>\n",
       "    <tr style=\"text-align: right;\">\n",
       "      <th></th>\n",
       "      <th>freq</th>\n",
       "    </tr>\n",
       "  </thead>\n",
       "  <tbody>\n",
       "    <tr>\n",
       "      <th>sales</th>\n",
       "      <td>3174</td>\n",
       "    </tr>\n",
       "    <tr>\n",
       "      <th>position</th>\n",
       "      <td>2345</td>\n",
       "    </tr>\n",
       "    <tr>\n",
       "      <th>time</th>\n",
       "      <td>2169</td>\n",
       "    </tr>\n",
       "    <tr>\n",
       "      <th>experience</th>\n",
       "      <td>2071</td>\n",
       "    </tr>\n",
       "    <tr>\n",
       "      <th>work</th>\n",
       "      <td>2052</td>\n",
       "    </tr>\n",
       "    <tr>\n",
       "      <th>looking</th>\n",
       "      <td>1814</td>\n",
       "    </tr>\n",
       "    <tr>\n",
       "      <th>team</th>\n",
       "      <td>1700</td>\n",
       "    </tr>\n",
       "    <tr>\n",
       "      <th>service</th>\n",
       "      <td>1685</td>\n",
       "    </tr>\n",
       "    <tr>\n",
       "      <th>company</th>\n",
       "      <td>1646</td>\n",
       "    </tr>\n",
       "    <tr>\n",
       "      <th>data</th>\n",
       "      <td>1634</td>\n",
       "    </tr>\n",
       "    <tr>\n",
       "      <th>store</th>\n",
       "      <td>1633</td>\n",
       "    </tr>\n",
       "    <tr>\n",
       "      <th>job</th>\n",
       "      <td>1409</td>\n",
       "    </tr>\n",
       "    <tr>\n",
       "      <th>customer</th>\n",
       "      <td>1327</td>\n",
       "    </tr>\n",
       "    <tr>\n",
       "      <th>services</th>\n",
       "      <td>1207</td>\n",
       "    </tr>\n",
       "    <tr>\n",
       "      <th>seeking</th>\n",
       "      <td>1050</td>\n",
       "    </tr>\n",
       "    <tr>\n",
       "      <th>manager</th>\n",
       "      <td>1034</td>\n",
       "    </tr>\n",
       "    <tr>\n",
       "      <th>responsible</th>\n",
       "      <td>995</td>\n",
       "    </tr>\n",
       "    <tr>\n",
       "      <th>support</th>\n",
       "      <td>972</td>\n",
       "    </tr>\n",
       "    <tr>\n",
       "      <th>medical</th>\n",
       "      <td>966</td>\n",
       "    </tr>\n",
       "    <tr>\n",
       "      <th>years</th>\n",
       "      <td>956</td>\n",
       "    </tr>\n",
       "    <tr>\n",
       "      <th>opportunity</th>\n",
       "      <td>949</td>\n",
       "    </tr>\n",
       "    <tr>\n",
       "      <th>home</th>\n",
       "      <td>928</td>\n",
       "    </tr>\n",
       "    <tr>\n",
       "      <th>license</th>\n",
       "      <td>925</td>\n",
       "    </tr>\n",
       "    <tr>\n",
       "      <th>management</th>\n",
       "      <td>924</td>\n",
       "    </tr>\n",
       "    <tr>\n",
       "      <th>network</th>\n",
       "      <td>899</td>\n",
       "    </tr>\n",
       "    <tr>\n",
       "      <th>health</th>\n",
       "      <td>893</td>\n",
       "    </tr>\n",
       "    <tr>\n",
       "      <th>office</th>\n",
       "      <td>871</td>\n",
       "    </tr>\n",
       "    <tr>\n",
       "      <th>required</th>\n",
       "      <td>866</td>\n",
       "    </tr>\n",
       "    <tr>\n",
       "      <th>customers</th>\n",
       "      <td>851</td>\n",
       "    </tr>\n",
       "    <tr>\n",
       "      <th>including</th>\n",
       "      <td>850</td>\n",
       "    </tr>\n",
       "    <tr>\n",
       "      <th>...</th>\n",
       "      <td>...</td>\n",
       "    </tr>\n",
       "    <tr>\n",
       "      <th>week elmwood park nj</th>\n",
       "      <td>21</td>\n",
       "    </tr>\n",
       "    <tr>\n",
       "      <th>job location</th>\n",
       "      <td>21</td>\n",
       "    </tr>\n",
       "    <tr>\n",
       "      <th>work independently</th>\n",
       "      <td>21</td>\n",
       "    </tr>\n",
       "    <tr>\n",
       "      <th>sales opportunities</th>\n",
       "      <td>21</td>\n",
       "    </tr>\n",
       "    <tr>\n",
       "      <th>looking outside sales</th>\n",
       "      <td>21</td>\n",
       "    </tr>\n",
       "    <tr>\n",
       "      <th>driven individuals</th>\n",
       "      <td>21</td>\n",
       "    </tr>\n",
       "    <tr>\n",
       "      <th>therapies merge</th>\n",
       "      <td>21</td>\n",
       "    </tr>\n",
       "    <tr>\n",
       "      <th>therapies merge medicine technology</th>\n",
       "      <td>21</td>\n",
       "    </tr>\n",
       "    <tr>\n",
       "      <th>engaging customers answering questions</th>\n",
       "      <td>21</td>\n",
       "    </tr>\n",
       "    <tr>\n",
       "      <th>days nights</th>\n",
       "      <td>21</td>\n",
       "    </tr>\n",
       "    <tr>\n",
       "      <th>perform demonstrations product recommendations</th>\n",
       "      <td>21</td>\n",
       "    </tr>\n",
       "    <tr>\n",
       "      <th>commission sales</th>\n",
       "      <td>21</td>\n",
       "    </tr>\n",
       "    <tr>\n",
       "      <th>perform demonstrations product</th>\n",
       "      <td>21</td>\n",
       "    </tr>\n",
       "    <tr>\n",
       "      <th>healthcare services maxim healthcare</th>\n",
       "      <td>21</td>\n",
       "    </tr>\n",
       "    <tr>\n",
       "      <th>state law</th>\n",
       "      <td>21</td>\n",
       "    </tr>\n",
       "    <tr>\n",
       "      <th>personally engaging customers answering</th>\n",
       "      <td>21</td>\n",
       "    </tr>\n",
       "    <tr>\n",
       "      <th>perform demonstrations</th>\n",
       "      <td>21</td>\n",
       "    </tr>\n",
       "    <tr>\n",
       "      <th>personally engaging customers</th>\n",
       "      <td>21</td>\n",
       "    </tr>\n",
       "    <tr>\n",
       "      <th>data scientists engineers</th>\n",
       "      <td>21</td>\n",
       "    </tr>\n",
       "    <tr>\n",
       "      <th>engaging customers answering</th>\n",
       "      <td>21</td>\n",
       "    </tr>\n",
       "    <tr>\n",
       "      <th>data management</th>\n",
       "      <td>21</td>\n",
       "    </tr>\n",
       "    <tr>\n",
       "      <th>merge medicine technology</th>\n",
       "      <td>21</td>\n",
       "    </tr>\n",
       "    <tr>\n",
       "      <th>allow</th>\n",
       "      <td>21</td>\n",
       "    </tr>\n",
       "    <tr>\n",
       "      <th>merge medicine</th>\n",
       "      <td>21</td>\n",
       "    </tr>\n",
       "    <tr>\n",
       "      <th>privately owned</th>\n",
       "      <td>21</td>\n",
       "    </tr>\n",
       "    <tr>\n",
       "      <th>vacation sick</th>\n",
       "      <td>21</td>\n",
       "    </tr>\n",
       "    <tr>\n",
       "      <th>drive store sales personally</th>\n",
       "      <td>21</td>\n",
       "    </tr>\n",
       "    <tr>\n",
       "      <th>career path</th>\n",
       "      <td>21</td>\n",
       "    </tr>\n",
       "    <tr>\n",
       "      <th>collaborative</th>\n",
       "      <td>21</td>\n",
       "    </tr>\n",
       "    <tr>\n",
       "      <th>innovative therapies merge</th>\n",
       "      <td>21</td>\n",
       "    </tr>\n",
       "  </tbody>\n",
       "</table>\n",
       "<p>3455 rows × 1 columns</p>\n",
       "</div>"
      ],
      "text/plain": [
       "                                                freq\n",
       "sales                                           3174\n",
       "position                                        2345\n",
       "time                                            2169\n",
       "experience                                      2071\n",
       "work                                            2052\n",
       "looking                                         1814\n",
       "team                                            1700\n",
       "service                                         1685\n",
       "company                                         1646\n",
       "data                                            1634\n",
       "store                                           1633\n",
       "job                                             1409\n",
       "customer                                        1327\n",
       "services                                        1207\n",
       "seeking                                         1050\n",
       "manager                                         1034\n",
       "responsible                                      995\n",
       "support                                          972\n",
       "medical                                          966\n",
       "years                                            956\n",
       "opportunity                                      949\n",
       "home                                             928\n",
       "license                                          925\n",
       "management                                       924\n",
       "network                                          899\n",
       "health                                           893\n",
       "office                                           871\n",
       "required                                         866\n",
       "customers                                        851\n",
       "including                                        850\n",
       "...                                              ...\n",
       "week elmwood park nj                              21\n",
       "job location                                      21\n",
       "work independently                                21\n",
       "sales opportunities                               21\n",
       "looking outside sales                             21\n",
       "driven individuals                                21\n",
       "therapies merge                                   21\n",
       "therapies merge medicine technology               21\n",
       "engaging customers answering questions            21\n",
       "days nights                                       21\n",
       "perform demonstrations product recommendations    21\n",
       "commission sales                                  21\n",
       "perform demonstrations product                    21\n",
       "healthcare services maxim healthcare              21\n",
       "state law                                         21\n",
       "personally engaging customers answering           21\n",
       "perform demonstrations                            21\n",
       "personally engaging customers                     21\n",
       "data scientists engineers                         21\n",
       "engaging customers answering                      21\n",
       "data management                                   21\n",
       "merge medicine technology                         21\n",
       "allow                                             21\n",
       "merge medicine                                    21\n",
       "privately owned                                   21\n",
       "vacation sick                                     21\n",
       "drive store sales personally                      21\n",
       "career path                                       21\n",
       "collaborative                                     21\n",
       "innovative therapies merge                        21\n",
       "\n",
       "[3455 rows x 1 columns]"
      ]
     },
     "execution_count": 42,
     "metadata": {},
     "output_type": "execute_result"
    }
   ],
   "source": [
    "tf_df.sort_values(\"freq\", ascending=False)"
   ]
  },
  {
   "cell_type": "code",
   "execution_count": 43,
   "metadata": {},
   "outputs": [
    {
     "data": {
      "text/plain": [
       "3455"
      ]
     },
     "execution_count": 43,
     "metadata": {},
     "output_type": "execute_result"
    }
   ],
   "source": [
    "# This may be getting a bit more useful.\n",
    "\n",
    "len(tf_df)"
   ]
  },
  {
   "cell_type": "code",
   "execution_count": null,
   "metadata": {
    "collapsed": true
   },
   "outputs": [],
   "source": [
    "# it's hard for me to imagine that we're going to get much signal out of using single words, our dataset will\n",
    "# just be so much wider than it is long.  I'd like to go ahead and do some modeling with this"
   ]
  },
  {
   "cell_type": "code",
   "execution_count": 49,
   "metadata": {},
   "outputs": [
    {
     "data": {
      "text/plain": [
       "(20454, 3455)"
      ]
     },
     "execution_count": 49,
     "metadata": {},
     "output_type": "execute_result"
    }
   ],
   "source": [
    "x_df.shape"
   ]
  },
  {
   "cell_type": "code",
   "execution_count": 50,
   "metadata": {},
   "outputs": [
    {
     "data": {
      "text/plain": [
       "(20454, 8)"
      ]
     },
     "execution_count": 50,
     "metadata": {},
     "output_type": "execute_result"
    }
   ],
   "source": [
    "df.shape"
   ]
  },
  {
   "cell_type": "code",
   "execution_count": 234,
   "metadata": {
    "collapsed": true
   },
   "outputs": [],
   "source": [
    "df_words = df.join(x_df, lsuffix = '_VALUE', rsuffix='_WORD')"
   ]
  },
  {
   "cell_type": "code",
   "execution_count": 60,
   "metadata": {},
   "outputs": [
    {
     "data": {
      "text/plain": [
       "(20454, 3463)"
      ]
     },
     "execution_count": 60,
     "metadata": {},
     "output_type": "execute_result"
    }
   ],
   "source": [
    "# seems like that did the trick.\n",
    "\n",
    "df_words.shape"
   ]
  },
  {
   "cell_type": "code",
   "execution_count": 68,
   "metadata": {},
   "outputs": [
    {
     "name": "stdout",
     "output_type": "stream",
     "text": [
      "salaryvalue\n",
      "salary_range\n",
      "base salary\n",
      "competitive salary\n",
      "job type time salary\n",
      "salaryword\n",
      "salary benefits\n",
      "salary dependent\n",
      "salary plus\n",
      "time salary\n",
      "type time salary\n"
     ]
    }
   ],
   "source": [
    "for c in df_words.columns:\n",
    "    if 'salary' in c:\n",
    "        print c"
   ]
  },
  {
   "cell_type": "markdown",
   "metadata": {},
   "source": [
    "# One Hot Encoding \n",
    "\n",
    "For the categorical data we grabbed from Indeed, we need to do some one hot encoding so we can put it into our model"
   ]
  },
  {
   "cell_type": "code",
   "execution_count": null,
   "metadata": {
    "collapsed": true
   },
   "outputs": [],
   "source": [
    "# I'm just going to group companies that don't have that many values together."
   ]
  },
  {
   "cell_type": "code",
   "execution_count": 78,
   "metadata": {},
   "outputs": [
    {
     "data": {
      "text/plain": [
       "6898"
      ]
     },
     "execution_count": 78,
     "metadata": {},
     "output_type": "execute_result"
    }
   ],
   "source": [
    "# Taking the first 400 seems to get about 70%, let's do that.\n",
    "\n",
    "sum(df['company_name'].value_counts()[0:400])"
   ]
  },
  {
   "cell_type": "code",
   "execution_count": 235,
   "metadata": {
    "collapsed": true
   },
   "outputs": [],
   "source": [
    "below_5_comp = list(df['company_name'].value_counts()[400:].index)"
   ]
  },
  {
   "cell_type": "code",
   "execution_count": 21,
   "metadata": {},
   "outputs": [
    {
     "data": {
      "text/plain": [
       "['A&A Transfer, Inc.',\n",
       " 'Hallmark',\n",
       " 'Lord & Taylor',\n",
       " 'Clean Harbors',\n",
       " 'NonstopDelivery, Inc.',\n",
       " 'Check Point Software Technologies Ltd.',\n",
       " 'ESF Careers (Engineering Search Firm Inc.)',\n",
       " 'Intarcia Therapeutics',\n",
       " 'Brooks Sports, Inc.',\n",
       " 'Dallas County, TX']"
      ]
     },
     "execution_count": 21,
     "metadata": {},
     "output_type": "execute_result"
    }
   ],
   "source": [
    "below_5_comp[0:10]"
   ]
  },
  {
   "cell_type": "code",
   "execution_count": 236,
   "metadata": {
    "collapsed": true
   },
   "outputs": [],
   "source": [
    "df_words['company_name'] = [company if company not in below_5_comp else \"other_company\" for company in df_words['company_name']]\n"
   ]
  },
  {
   "cell_type": "code",
   "execution_count": 23,
   "metadata": {
    "collapsed": true
   },
   "outputs": [],
   "source": [
    "companies_ohe = pd.get_dummies(df_words['company_name'], prefix=\"company_name\")"
   ]
  },
  {
   "cell_type": "code",
   "execution_count": 88,
   "metadata": {},
   "outputs": [
    {
     "data": {
      "text/html": [
       "<div>\n",
       "<table border=\"1\" class=\"dataframe\">\n",
       "  <thead>\n",
       "    <tr style=\"text-align: right;\">\n",
       "      <th></th>\n",
       "      <th>company_name_24 Hour Fitness</th>\n",
       "      <th>company_name_300-Concentra Health Services, Inc. (Concentra)</th>\n",
       "      <th>company_name_3M</th>\n",
       "      <th>company_name_7-Eleven</th>\n",
       "      <th>company_name_A-Plus Care HHC Inc</th>\n",
       "      <th>company_name_A2Z Development Center, Inc.</th>\n",
       "      <th>company_name_ABCM Corporation</th>\n",
       "      <th>company_name_ATR International, Inc.</th>\n",
       "      <th>company_name_AbbVie</th>\n",
       "      <th>company_name_Accenture</th>\n",
       "      <th>...</th>\n",
       "      <th>company_name_WorkSource Inc.</th>\n",
       "      <th>company_name_Workbridge Associates</th>\n",
       "      <th>company_name_Workplace Alaska</th>\n",
       "      <th>company_name_XPO Logistics</th>\n",
       "      <th>company_name_ZARA</th>\n",
       "      <th>company_name_Zoes Kitchen | Zoes Kitchen, Inc.</th>\n",
       "      <th>company_name_adidas</th>\n",
       "      <th>company_name_eBay Inc.</th>\n",
       "      <th>company_name_eXcell</th>\n",
       "      <th>company_name_other_company</th>\n",
       "    </tr>\n",
       "  </thead>\n",
       "  <tbody>\n",
       "    <tr>\n",
       "      <th>0</th>\n",
       "      <td>0</td>\n",
       "      <td>0</td>\n",
       "      <td>0</td>\n",
       "      <td>0</td>\n",
       "      <td>0</td>\n",
       "      <td>0</td>\n",
       "      <td>0</td>\n",
       "      <td>0</td>\n",
       "      <td>0</td>\n",
       "      <td>0</td>\n",
       "      <td>...</td>\n",
       "      <td>0</td>\n",
       "      <td>0</td>\n",
       "      <td>0</td>\n",
       "      <td>0</td>\n",
       "      <td>0</td>\n",
       "      <td>0</td>\n",
       "      <td>0</td>\n",
       "      <td>0</td>\n",
       "      <td>0</td>\n",
       "      <td>1</td>\n",
       "    </tr>\n",
       "    <tr>\n",
       "      <th>0</th>\n",
       "      <td>0</td>\n",
       "      <td>0</td>\n",
       "      <td>0</td>\n",
       "      <td>0</td>\n",
       "      <td>0</td>\n",
       "      <td>0</td>\n",
       "      <td>0</td>\n",
       "      <td>0</td>\n",
       "      <td>0</td>\n",
       "      <td>0</td>\n",
       "      <td>...</td>\n",
       "      <td>0</td>\n",
       "      <td>0</td>\n",
       "      <td>0</td>\n",
       "      <td>0</td>\n",
       "      <td>0</td>\n",
       "      <td>0</td>\n",
       "      <td>0</td>\n",
       "      <td>0</td>\n",
       "      <td>0</td>\n",
       "      <td>0</td>\n",
       "    </tr>\n",
       "    <tr>\n",
       "      <th>1</th>\n",
       "      <td>0</td>\n",
       "      <td>0</td>\n",
       "      <td>0</td>\n",
       "      <td>0</td>\n",
       "      <td>0</td>\n",
       "      <td>0</td>\n",
       "      <td>0</td>\n",
       "      <td>0</td>\n",
       "      <td>0</td>\n",
       "      <td>0</td>\n",
       "      <td>...</td>\n",
       "      <td>0</td>\n",
       "      <td>0</td>\n",
       "      <td>0</td>\n",
       "      <td>0</td>\n",
       "      <td>0</td>\n",
       "      <td>0</td>\n",
       "      <td>0</td>\n",
       "      <td>0</td>\n",
       "      <td>0</td>\n",
       "      <td>1</td>\n",
       "    </tr>\n",
       "    <tr>\n",
       "      <th>1</th>\n",
       "      <td>0</td>\n",
       "      <td>0</td>\n",
       "      <td>0</td>\n",
       "      <td>0</td>\n",
       "      <td>0</td>\n",
       "      <td>0</td>\n",
       "      <td>0</td>\n",
       "      <td>0</td>\n",
       "      <td>0</td>\n",
       "      <td>0</td>\n",
       "      <td>...</td>\n",
       "      <td>0</td>\n",
       "      <td>0</td>\n",
       "      <td>0</td>\n",
       "      <td>0</td>\n",
       "      <td>0</td>\n",
       "      <td>0</td>\n",
       "      <td>0</td>\n",
       "      <td>0</td>\n",
       "      <td>0</td>\n",
       "      <td>1</td>\n",
       "    </tr>\n",
       "    <tr>\n",
       "      <th>2</th>\n",
       "      <td>0</td>\n",
       "      <td>0</td>\n",
       "      <td>0</td>\n",
       "      <td>0</td>\n",
       "      <td>0</td>\n",
       "      <td>0</td>\n",
       "      <td>0</td>\n",
       "      <td>0</td>\n",
       "      <td>0</td>\n",
       "      <td>0</td>\n",
       "      <td>...</td>\n",
       "      <td>0</td>\n",
       "      <td>0</td>\n",
       "      <td>0</td>\n",
       "      <td>0</td>\n",
       "      <td>0</td>\n",
       "      <td>0</td>\n",
       "      <td>0</td>\n",
       "      <td>0</td>\n",
       "      <td>0</td>\n",
       "      <td>0</td>\n",
       "    </tr>\n",
       "  </tbody>\n",
       "</table>\n",
       "<p>5 rows × 401 columns</p>\n",
       "</div>"
      ],
      "text/plain": [
       "   company_name_24 Hour Fitness  \\\n",
       "0                             0   \n",
       "0                             0   \n",
       "1                             0   \n",
       "1                             0   \n",
       "2                             0   \n",
       "\n",
       "   company_name_300-Concentra Health Services, Inc. (Concentra)  \\\n",
       "0                                                  0              \n",
       "0                                                  0              \n",
       "1                                                  0              \n",
       "1                                                  0              \n",
       "2                                                  0              \n",
       "\n",
       "   company_name_3M  company_name_7-Eleven  company_name_A-Plus Care HHC Inc  \\\n",
       "0                0                      0                                 0   \n",
       "0                0                      0                                 0   \n",
       "1                0                      0                                 0   \n",
       "1                0                      0                                 0   \n",
       "2                0                      0                                 0   \n",
       "\n",
       "   company_name_A2Z Development Center, Inc.  company_name_ABCM Corporation  \\\n",
       "0                                          0                              0   \n",
       "0                                          0                              0   \n",
       "1                                          0                              0   \n",
       "1                                          0                              0   \n",
       "2                                          0                              0   \n",
       "\n",
       "   company_name_ATR International, Inc.  company_name_AbbVie  \\\n",
       "0                                     0                    0   \n",
       "0                                     0                    0   \n",
       "1                                     0                    0   \n",
       "1                                     0                    0   \n",
       "2                                     0                    0   \n",
       "\n",
       "   company_name_Accenture             ...              \\\n",
       "0                       0             ...               \n",
       "0                       0             ...               \n",
       "1                       0             ...               \n",
       "1                       0             ...               \n",
       "2                       0             ...               \n",
       "\n",
       "   company_name_WorkSource Inc.  company_name_Workbridge Associates  \\\n",
       "0                             0                                   0   \n",
       "0                             0                                   0   \n",
       "1                             0                                   0   \n",
       "1                             0                                   0   \n",
       "2                             0                                   0   \n",
       "\n",
       "   company_name_Workplace Alaska  company_name_XPO Logistics  \\\n",
       "0                              0                           0   \n",
       "0                              0                           0   \n",
       "1                              0                           0   \n",
       "1                              0                           0   \n",
       "2                              0                           0   \n",
       "\n",
       "   company_name_ZARA  company_name_Zoes Kitchen | Zoes Kitchen, Inc.  \\\n",
       "0                  0                                               0   \n",
       "0                  0                                               0   \n",
       "1                  0                                               0   \n",
       "1                  0                                               0   \n",
       "2                  0                                               0   \n",
       "\n",
       "   company_name_adidas  company_name_eBay Inc.  company_name_eXcell  \\\n",
       "0                    0                       0                    0   \n",
       "0                    0                       0                    0   \n",
       "1                    0                       0                    0   \n",
       "1                    0                       0                    0   \n",
       "2                    0                       0                    0   \n",
       "\n",
       "   company_name_other_company  \n",
       "0                           1  \n",
       "0                           0  \n",
       "1                           1  \n",
       "1                           1  \n",
       "2                           0  \n",
       "\n",
       "[5 rows x 401 columns]"
      ]
     },
     "execution_count": 88,
     "metadata": {},
     "output_type": "execute_result"
    }
   ],
   "source": [
    "companies_ohe.head()"
   ]
  },
  {
   "cell_type": "code",
   "execution_count": 237,
   "metadata": {
    "collapsed": true
   },
   "outputs": [],
   "source": [
    "df_words = df_words.join(companies_ohe)"
   ]
  },
  {
   "cell_type": "code",
   "execution_count": 238,
   "metadata": {
    "collapsed": true
   },
   "outputs": [],
   "source": [
    "del(df_words['company_name'])"
   ]
  },
  {
   "cell_type": "code",
   "execution_count": 239,
   "metadata": {},
   "outputs": [
    {
     "data": {
      "text/plain": [
       "(20454, 3864)"
      ]
     },
     "execution_count": 239,
     "metadata": {},
     "output_type": "execute_result"
    }
   ],
   "source": [
    "df_words.shape"
   ]
  },
  {
   "cell_type": "code",
   "execution_count": 91,
   "metadata": {},
   "outputs": [
    {
     "name": "stdout",
     "output_type": "stream",
     "text": [
      "<class 'pandas.core.frame.DataFrame'>\n",
      "Int64Index: 20454 entries, 0 to 411\n",
      "Data columns (total 8 columns):\n",
      "salary          1494 non-null object\n",
      "star_rating     20454 non-null float64\n",
      "summary         20454 non-null object\n",
      "reviews         20454 non-null object\n",
      "location        20454 non-null object\n",
      "job_title       20454 non-null object\n",
      "company_name    20454 non-null object\n",
      "salary_range    20454 non-null object\n",
      "dtypes: float64(1), object(7)\n",
      "memory usage: 1.4+ MB\n"
     ]
    }
   ],
   "source": [
    "df.info()"
   ]
  },
  {
   "cell_type": "code",
   "execution_count": null,
   "metadata": {
    "collapsed": true
   },
   "outputs": [],
   "source": [
    "# let's do the same ohe to job title and location"
   ]
  },
  {
   "cell_type": "code",
   "execution_count": 95,
   "metadata": {},
   "outputs": [
    {
     "data": {
      "text/plain": [
       "7188"
      ]
     },
     "execution_count": 95,
     "metadata": {},
     "output_type": "execute_result"
    }
   ],
   "source": [
    "sum(df.job_title.value_counts()[0:1000])"
   ]
  },
  {
   "cell_type": "code",
   "execution_count": 99,
   "metadata": {},
   "outputs": [
    {
     "data": {
      "text/plain": [
       "4346"
      ]
     },
     "execution_count": 99,
     "metadata": {},
     "output_type": "execute_result"
    }
   ],
   "source": [
    "len(df.location.value_counts())"
   ]
  },
  {
   "cell_type": "code",
   "execution_count": 104,
   "metadata": {},
   "outputs": [
    {
     "data": {
      "text/plain": [
       "12213"
      ]
     },
     "execution_count": 104,
     "metadata": {},
     "output_type": "execute_result"
    }
   ],
   "source": [
    "sum(df.location.value_counts()[0:300])"
   ]
  },
  {
   "cell_type": "code",
   "execution_count": 240,
   "metadata": {
    "collapsed": true
   },
   "outputs": [],
   "source": [
    "# getting a list of the job titles that are below the threshold\n",
    "low_jobs = list(df['job_title'].value_counts()[1000:].index)\n",
    "\n",
    "# updating the titles of those titles to other job\n",
    "df_words['job_title'] = [job if job not in low_jobs else \"other_job\" for job in df_words['job_title']]\n",
    "\n",
    "job_ohe = pd.get_dummies(df_words['job_title'], prefix=\"job_title\")\n",
    "\n",
    "# getting a list of the locations that are below the threshold\n",
    "low_loc = list(df['location'].value_counts()[300:].index)\n",
    "\n",
    "# updating the titles of those titles to other job\n",
    "df_words['location_VALUE'] = [location if location not in low_loc else \"other_location\" for location in df_words['location_VALUE']]\n",
    "\n",
    "loc_ohe = pd.get_dummies(df_words['location_VALUE'], prefix=\"location\")"
   ]
  },
  {
   "cell_type": "code",
   "execution_count": 241,
   "metadata": {},
   "outputs": [],
   "source": [
    "df_words = df_words.join(job_ohe)\n",
    "df_words = df_words.join(loc_ohe)"
   ]
  },
  {
   "cell_type": "code",
   "execution_count": 242,
   "metadata": {
    "collapsed": true
   },
   "outputs": [],
   "source": [
    "del(df_words['location_VALUE'])\n",
    "del(df_words['job_title'])"
   ]
  },
  {
   "cell_type": "code",
   "execution_count": null,
   "metadata": {
    "collapsed": true
   },
   "outputs": [],
   "source": [
    "# Cleaning up reviews"
   ]
  },
  {
   "cell_type": "code",
   "execution_count": 243,
   "metadata": {
    "collapsed": true
   },
   "outputs": [],
   "source": [
    "# Getting rid of commas\n",
    "\n",
    "df_words['reviews_VALUE'] = [str(review).replace(\",\", \"\") for review in df_words['reviews_VALUE']]"
   ]
  },
  {
   "cell_type": "code",
   "execution_count": 244,
   "metadata": {
    "collapsed": true
   },
   "outputs": [],
   "source": [
    "# Changing reviews from an object to an int.\n",
    "\n",
    "df_words['reviews_VALUE'] = pd.to_numeric(df_words['reviews_VALUE'])"
   ]
  },
  {
   "cell_type": "code",
   "execution_count": 245,
   "metadata": {
    "collapsed": true
   },
   "outputs": [],
   "source": [
    "del(df_words['summary_VALUE'])"
   ]
  },
  {
   "cell_type": "code",
   "execution_count": 247,
   "metadata": {},
   "outputs": [
    {
     "name": "stdout",
     "output_type": "stream",
     "text": [
      "star_rating DATA TYPE: float64\n",
      "________\n",
      "salary_range DATA TYPE: object\n",
      "________\n"
     ]
    }
   ],
   "source": [
    "# Want to check to make sure all the columns in here are correct now.\n",
    "\n",
    "# looks like the only things we need to do are get rid of the salary_VALUE column.\n",
    "\n",
    "for c in df_words.columns[0:10]:\n",
    "    if df_words[c].dtypes != 'int64':\n",
    "        print c, \"DATA TYPE:\", df_words[c].dtypes\n",
    "        print \"________\""
   ]
  },
  {
   "cell_type": "code",
   "execution_count": 246,
   "metadata": {
    "collapsed": true
   },
   "outputs": [],
   "source": [
    "del(df_words['salary_VALUE'])"
   ]
  },
  {
   "cell_type": "markdown",
   "metadata": {},
   "source": [
    "# Modeling\n",
    "\n",
    "Let's try doing some modeling!\n"
   ]
  },
  {
   "cell_type": "code",
   "execution_count": 248,
   "metadata": {
    "collapsed": true
   },
   "outputs": [],
   "source": [
    "from sklearn.model_selection import train_test_split, GridSearchCV\n",
    "from sklearn.ensemble import RandomForestClassifier\n",
    "from sklearn.linear_model import Perceptron, SGDClassifier\n",
    "from sklearn.naive_bayes import MultinomialNB, BernoulliNB, GaussianNB\n"
   ]
  },
  {
   "cell_type": "code",
   "execution_count": 249,
   "metadata": {
    "collapsed": true
   },
   "outputs": [],
   "source": [
    "X = df_words.copy()\n",
    "\n",
    "del(X['salary_range'])\n",
    "\n",
    "y = df_words['salary_range']"
   ]
  },
  {
   "cell_type": "code",
   "execution_count": 254,
   "metadata": {},
   "outputs": [
    {
     "data": {
      "text/plain": [
       "0.48948860858511783"
      ]
     },
     "execution_count": 254,
     "metadata": {},
     "output_type": "execute_result"
    }
   ],
   "source": [
    "# let's just see what our baseline is before we get going on the modeling\n",
    "\n",
    "baseline = 10012. / len(df_words)\n",
    "\n",
    "baseline"
   ]
  },
  {
   "cell_type": "code",
   "execution_count": 251,
   "metadata": {},
   "outputs": [],
   "source": [
    "# let's try fitting this with a multinomial naive bayes model first.\n",
    "\n",
    "mnb = MultinomialNB()\n",
    "\n",
    "params = {\n",
    "    'alpha': [0.1,0.5, 1, 2]\n",
    "}\n",
    "\n",
    "gscv_mnb = GridSearchCV(mnb, params, cv=5, verbose=1)"
   ]
  },
  {
   "cell_type": "code",
   "execution_count": 252,
   "metadata": {},
   "outputs": [
    {
     "name": "stdout",
     "output_type": "stream",
     "text": [
      "Fitting 5 folds for each of 4 candidates, totalling 20 fits\n"
     ]
    },
    {
     "name": "stderr",
     "output_type": "stream",
     "text": [
      "[Parallel(n_jobs=1)]: Done  20 out of  20 | elapsed:  2.5min finished\n"
     ]
    },
    {
     "data": {
      "text/plain": [
       "GridSearchCV(cv=5, error_score='raise',\n",
       "       estimator=MultinomialNB(alpha=1.0, class_prior=None, fit_prior=True),\n",
       "       fit_params={}, iid=True, n_jobs=1,\n",
       "       param_grid={'alpha': [0.1, 0.5, 1, 2]}, pre_dispatch='2*n_jobs',\n",
       "       refit=True, return_train_score=True, scoring=None, verbose=1)"
      ]
     },
     "execution_count": 252,
     "metadata": {},
     "output_type": "execute_result"
    }
   ],
   "source": [
    "gscv_mnb.fit(np.array(X), y)"
   ]
  },
  {
   "cell_type": "code",
   "execution_count": 253,
   "metadata": {},
   "outputs": [
    {
     "data": {
      "text/plain": [
       "0.44485186271633909"
      ]
     },
     "execution_count": 253,
     "metadata": {},
     "output_type": "execute_result"
    }
   ],
   "source": [
    "# That's just a terrible considering it's worse than our baseline.\n",
    "\n",
    "gscv_mnb.best_score_"
   ]
  },
  {
   "cell_type": "code",
   "execution_count": 255,
   "metadata": {},
   "outputs": [
    {
     "data": {
      "text/plain": [
       "{'alpha': 0.1}"
      ]
     },
     "execution_count": 255,
     "metadata": {},
     "output_type": "execute_result"
    }
   ],
   "source": [
    "gscv_mnb.best_params_"
   ]
  },
  {
   "cell_type": "code",
   "execution_count": 34,
   "metadata": {
    "collapsed": true
   },
   "outputs": [],
   "source": [
    "# Going to try random forest, I suspect this will perform better.\n",
    "\n",
    "rfc = RandomForestClassifier()\n",
    "\n",
    "param_grid = {\n",
    "    \"max_depth\": [10,15,20,25,30],\n",
    "    \"max_features\": [100,150,200,300,400],\n",
    "}\n",
    "\n",
    "gscv_rfc = GridSearchCV(rfc, param_grid, cv=5, verbose=1)\n"
   ]
  },
  {
   "cell_type": "code",
   "execution_count": 53,
   "metadata": {},
   "outputs": [
    {
     "name": "stdout",
     "output_type": "stream",
     "text": [
      "Fitting 5 folds for each of 25 candidates, totalling 125 fits\n"
     ]
    },
    {
     "name": "stderr",
     "output_type": "stream",
     "text": [
      "[Parallel(n_jobs=1)]: Done 125 out of 125 | elapsed: 31.3min finished\n"
     ]
    },
    {
     "data": {
      "text/plain": [
       "GridSearchCV(cv=5, error_score='raise',\n",
       "       estimator=RandomForestClassifier(bootstrap=True, class_weight=None, criterion='gini',\n",
       "            max_depth=None, max_features='auto', max_leaf_nodes=None,\n",
       "            min_impurity_split=1e-07, min_samples_leaf=1,\n",
       "            min_samples_split=2, min_weight_fraction_leaf=0.0,\n",
       "            n_estimators=10, n_jobs=1, oob_score=False, random_state=None,\n",
       "            verbose=0, warm_start=False),\n",
       "       fit_params={}, iid=True, n_jobs=1,\n",
       "       param_grid={'max_features': [100, 150, 200, 300, 400], 'max_depth': [10, 15, 20, 25, 30]},\n",
       "       pre_dispatch='2*n_jobs', refit=True, return_train_score=True,\n",
       "       scoring=None, verbose=1)"
      ]
     },
     "execution_count": 53,
     "metadata": {},
     "output_type": "execute_result"
    }
   ],
   "source": [
    "gscv_rfc.fit(np.array(X), y)"
   ]
  },
  {
   "cell_type": "code",
   "execution_count": 55,
   "metadata": {},
   "outputs": [
    {
     "data": {
      "text/plain": [
       "0.80404810794954529"
      ]
     },
     "execution_count": 55,
     "metadata": {},
     "output_type": "execute_result"
    }
   ],
   "source": [
    "# Pretty solid best score, I think our baseline is like 50%!\n",
    "\n",
    "gscv_rfc.best_score_"
   ]
  },
  {
   "cell_type": "code",
   "execution_count": 56,
   "metadata": {},
   "outputs": [
    {
     "data": {
      "text/plain": [
       "65000 to 90000      10012\n",
       "105000 to 130000     8809\n",
       "90000 to 105000      1250\n",
       "Over 130000           383\n",
       "Name: salary_range, dtype: int64"
      ]
     },
     "execution_count": 56,
     "metadata": {},
     "output_type": "execute_result"
    }
   ],
   "source": [
    "df_words['salary_range'].value_counts()"
   ]
  },
  {
   "cell_type": "code",
   "execution_count": 57,
   "metadata": {
    "collapsed": true
   },
   "outputs": [],
   "source": [
    "baseline = 10012. / len(df_words)"
   ]
  },
  {
   "cell_type": "code",
   "execution_count": 58,
   "metadata": {},
   "outputs": [
    {
     "data": {
      "text/plain": [
       "0.48948860858511783"
      ]
     },
     "execution_count": 58,
     "metadata": {},
     "output_type": "execute_result"
    }
   ],
   "source": [
    "baseline"
   ]
  },
  {
   "cell_type": "code",
   "execution_count": null,
   "metadata": {
    "collapsed": true
   },
   "outputs": [],
   "source": [
    "# oh yeah, huge improvement over the baseline!"
   ]
  },
  {
   "cell_type": "code",
   "execution_count": 61,
   "metadata": {},
   "outputs": [
    {
     "data": {
      "text/plain": [
       "{'max_depth': 30, 'max_features': 400}"
      ]
     },
     "execution_count": 61,
     "metadata": {},
     "output_type": "execute_result"
    }
   ],
   "source": [
    "gscv_rfc.best_params_"
   ]
  },
  {
   "cell_type": "code",
   "execution_count": 64,
   "metadata": {},
   "outputs": [
    {
     "data": {
      "text/plain": [
       "RandomForestClassifier(bootstrap=True, class_weight=None, criterion='gini',\n",
       "            max_depth=30, max_features=400, max_leaf_nodes=None,\n",
       "            min_impurity_split=1e-07, min_samples_leaf=1,\n",
       "            min_samples_split=2, min_weight_fraction_leaf=0.0,\n",
       "            n_estimators=10, n_jobs=1, oob_score=False, random_state=None,\n",
       "            verbose=0, warm_start=False)"
      ]
     },
     "execution_count": 64,
     "metadata": {},
     "output_type": "execute_result"
    }
   ],
   "source": [
    "rfc = RandomForestClassifier(max_depth=30, max_features=400)\n",
    "\n",
    "rfc.fit(X, y)"
   ]
  },
  {
   "cell_type": "code",
   "execution_count": 67,
   "metadata": {
    "collapsed": true
   },
   "outputs": [],
   "source": [
    "# Let's look at what are the factors that are most important in determining salary.\n",
    "\n",
    "feature_import = pd.DataFrame({\n",
    "    'feature': X.columns,\n",
    "    'importance': rfc.feature_importances_\n",
    "})"
   ]
  },
  {
   "cell_type": "code",
   "execution_count": 70,
   "metadata": {},
   "outputs": [
    {
     "data": {
      "text/html": [
       "<div>\n",
       "<table border=\"1\" class=\"dataframe\">\n",
       "  <thead>\n",
       "    <tr style=\"text-align: right;\">\n",
       "      <th></th>\n",
       "      <th>feature</th>\n",
       "      <th>importance</th>\n",
       "    </tr>\n",
       "  </thead>\n",
       "  <tbody>\n",
       "    <tr>\n",
       "      <th>0</th>\n",
       "      <td>star_rating</td>\n",
       "      <td>0.260825</td>\n",
       "    </tr>\n",
       "    <tr>\n",
       "      <th>1</th>\n",
       "      <td>reviews_VALUE</td>\n",
       "      <td>0.096418</td>\n",
       "    </tr>\n",
       "    <tr>\n",
       "      <th>3857</th>\n",
       "      <td>company_name_other_company</td>\n",
       "      <td>0.088929</td>\n",
       "    </tr>\n",
       "    <tr>\n",
       "      <th>5159</th>\n",
       "      <td>location_other_location</td>\n",
       "      <td>0.027319</td>\n",
       "    </tr>\n",
       "    <tr>\n",
       "      <th>1975</th>\n",
       "      <td>network</td>\n",
       "      <td>0.021394</td>\n",
       "    </tr>\n",
       "    <tr>\n",
       "      <th>776</th>\n",
       "      <td>data</td>\n",
       "      <td>0.019247</td>\n",
       "    </tr>\n",
       "    <tr>\n",
       "      <th>1696</th>\n",
       "      <td>license</td>\n",
       "      <td>0.009758</td>\n",
       "    </tr>\n",
       "    <tr>\n",
       "      <th>5108</th>\n",
       "      <td>location_San Francisco, CA</td>\n",
       "      <td>0.007885</td>\n",
       "    </tr>\n",
       "    <tr>\n",
       "      <th>2975</th>\n",
       "      <td>store</td>\n",
       "      <td>0.006906</td>\n",
       "    </tr>\n",
       "    <tr>\n",
       "      <th>3780</th>\n",
       "      <td>company_name_T3 recruiters,Inc</td>\n",
       "      <td>0.006674</td>\n",
       "    </tr>\n",
       "    <tr>\n",
       "      <th>1042</th>\n",
       "      <td>engineer</td>\n",
       "      <td>0.005761</td>\n",
       "    </tr>\n",
       "    <tr>\n",
       "      <th>3275</th>\n",
       "      <td>valid</td>\n",
       "      <td>0.005401</td>\n",
       "    </tr>\n",
       "    <tr>\n",
       "      <th>3035</th>\n",
       "      <td>summary_WORD</td>\n",
       "      <td>0.005055</td>\n",
       "    </tr>\n",
       "    <tr>\n",
       "      <th>3261</th>\n",
       "      <td>upstart</td>\n",
       "      <td>0.004954</td>\n",
       "    </tr>\n",
       "    <tr>\n",
       "      <th>2826</th>\n",
       "      <td>services</td>\n",
       "      <td>0.004750</td>\n",
       "    </tr>\n",
       "    <tr>\n",
       "      <th>2757</th>\n",
       "      <td>scientists</td>\n",
       "      <td>0.004499</td>\n",
       "    </tr>\n",
       "    <tr>\n",
       "      <th>435</th>\n",
       "      <td>calls</td>\n",
       "      <td>0.004237</td>\n",
       "    </tr>\n",
       "    <tr>\n",
       "      <th>2292</th>\n",
       "      <td>position</td>\n",
       "      <td>0.004144</td>\n",
       "    </tr>\n",
       "    <tr>\n",
       "      <th>783</th>\n",
       "      <td>data scientists</td>\n",
       "      <td>0.003877</td>\n",
       "    </tr>\n",
       "    <tr>\n",
       "      <th>1378</th>\n",
       "      <td>healthcare</td>\n",
       "      <td>0.003766</td>\n",
       "    </tr>\n",
       "  </tbody>\n",
       "</table>\n",
       "</div>"
      ],
      "text/plain": [
       "                             feature  importance\n",
       "0                        star_rating    0.260825\n",
       "1                      reviews_VALUE    0.096418\n",
       "3857      company_name_other_company    0.088929\n",
       "5159         location_other_location    0.027319\n",
       "1975                         network    0.021394\n",
       "776                             data    0.019247\n",
       "1696                         license    0.009758\n",
       "5108      location_San Francisco, CA    0.007885\n",
       "2975                           store    0.006906\n",
       "3780  company_name_T3 recruiters,Inc    0.006674\n",
       "1042                        engineer    0.005761\n",
       "3275                           valid    0.005401\n",
       "3035                    summary_WORD    0.005055\n",
       "3261                         upstart    0.004954\n",
       "2826                        services    0.004750\n",
       "2757                      scientists    0.004499\n",
       "435                            calls    0.004237\n",
       "2292                        position    0.004144\n",
       "783                  data scientists    0.003877\n",
       "1378                      healthcare    0.003766"
      ]
     },
     "execution_count": 70,
     "metadata": {},
     "output_type": "execute_result"
    }
   ],
   "source": [
    "feature_import.sort_values('importance', ascending=False, inplace=True)\n",
    "feature_import.head(20)"
   ]
  },
  {
   "cell_type": "code",
   "execution_count": 75,
   "metadata": {},
   "outputs": [
    {
     "data": {
      "text/plain": [
       "<matplotlib.axes._subplots.AxesSubplot at 0x113fff490>"
      ]
     },
     "execution_count": 75,
     "metadata": {},
     "output_type": "execute_result"
    },
    {
     "data": {
      "image/png": "[encoded data removed]",
      "text/plain": [
       "<matplotlib.figure.Figure at 0x113e25c90>"
      ]
     },
     "metadata": {},
     "output_type": "display_data"
    }
   ],
   "source": [
    "fig = plt.figure(figsize=(7,10))\n",
    "sns.barplot(y = feature_import.head(30)['feature'], x = feature_import.head(30)['importance'], orient='h')"
   ]
  },
  {
   "cell_type": "markdown",
   "metadata": {},
   "source": [
    "# Interpreting Results\n",
    "\n",
    "With Random Forest, it's a bit difficult to say how the categories are associated with different salary levels, but we can interpret the features' individual affect on our overall ability to predict different salary categories.\n",
    "\n",
    "Star rating has by far the biggest impact on predicting salary.  It makes sense that this would be the case, likely jobs with higher ratings pay better, which is something we observed during EDA as well.  Next most is count of reviews.  I'd imagine that the trend here is that the more reviews a company has, the lower the salary, because bigger companies can get away with paying less, but we'd have to look deeper to know that for sure.\n",
    "\n",
    "It's interesting that the next to features are \"other company\" and \"other location,\" which means the smaller locations have an impact on salary.  It does make sense that there may be a difference in salary for these.  Generally bigger cities have higher paying jobs, so the other location category probable corresponds more to smaller salaries.  Also makes sense there would be a pay difference between big and small companies.\n",
    "\n",
    "\"Data\" is a word that comes up on here, likely associated with predicting high paying jobs.  Also interesting that \"data scientists\", \"engineer\", \"license,\" \"manager,\" and \"scientist\" all pop up on here, likely connected with higher paying jobs.  Words like \"entry,\" \"warehouse,\" \"services,\" and \"store\" all come up, likely connected with lower paying jobs."
   ]
  },
  {
   "cell_type": "markdown",
   "metadata": {},
   "source": [
    "# Exploring Results\n",
    "\n",
    "We can do some plotting and exploration to see what categories these high importance features are likely associated with."
   ]
  },
  {
   "cell_type": "markdown",
   "metadata": {},
   "source": [
    "### Star Rating and Salary"
   ]
  },
  {
   "cell_type": "code",
   "execution_count": 82,
   "metadata": {},
   "outputs": [
    {
     "data": {
      "text/plain": [
       "<matplotlib.axes._subplots.AxesSubplot at 0x1147fc690>"
      ]
     },
     "execution_count": 82,
     "metadata": {},
     "output_type": "execute_result"
    },
    {
     "data": {
      "image/png": "[encoded data removed]",
      "text/plain": [
       "<matplotlib.figure.Figure at 0x11487f510>"
      ]
     },
     "metadata": {},
     "output_type": "display_data"
    }
   ],
   "source": [
    "# Looks like just like I suspected, higher star ratings from reviews correspond to jobs with higher salaries.\n",
    "\n",
    "# weirdly, the 3rd tier salary rank actually has the lowest avg star rating.\n",
    "\n",
    "df[['salary_range', 'star_rating']].groupby('salary_range').mean().unstack().plot(kind=\"bar\")\n"
   ]
  },
  {
   "cell_type": "markdown",
   "metadata": {},
   "source": [
    "### Review count and Salary"
   ]
  },
  {
   "cell_type": "code",
   "execution_count": 87,
   "metadata": {
    "collapsed": true
   },
   "outputs": [
    {
     "ename": "AttributeError",
     "evalue": "'numpy.int64' object has no attribute 'replace'",
     "output_type": "error",
     "traceback": [
      "\u001b[0;31m---------------------------------------------------------------------------\u001b[0m",
      "\u001b[0;31mAttributeError\u001b[0m                            Traceback (most recent call last)",
      "\u001b[0;32m<ipython-input-87-8fdaf60ff8a3>\u001b[0m in \u001b[0;36m<module>\u001b[0;34m()\u001b[0m\n\u001b[0;32m----> 1\u001b[0;31m \u001b[0mdf\u001b[0m\u001b[0;34m[\u001b[0m\u001b[0;34m'reviews'\u001b[0m\u001b[0;34m]\u001b[0m \u001b[0;34m=\u001b[0m \u001b[0;34m[\u001b[0m\u001b[0mreview\u001b[0m\u001b[0;34m.\u001b[0m\u001b[0mreplace\u001b[0m\u001b[0;34m(\u001b[0m\u001b[0;34m\",\"\u001b[0m\u001b[0;34m,\u001b[0m \u001b[0;34m\"\"\u001b[0m\u001b[0;34m)\u001b[0m \u001b[0;32mfor\u001b[0m \u001b[0mreview\u001b[0m \u001b[0;32min\u001b[0m \u001b[0mdf\u001b[0m\u001b[0;34m.\u001b[0m\u001b[0mreviews\u001b[0m\u001b[0;34m]\u001b[0m\u001b[0;34m\u001b[0m\u001b[0m\n\u001b[0m\u001b[1;32m      2\u001b[0m \u001b[0mdf\u001b[0m\u001b[0;34m[\u001b[0m\u001b[0;34m'reviews'\u001b[0m\u001b[0;34m]\u001b[0m \u001b[0;34m=\u001b[0m \u001b[0mpd\u001b[0m\u001b[0;34m.\u001b[0m\u001b[0mto_numeric\u001b[0m\u001b[0;34m(\u001b[0m\u001b[0mdf\u001b[0m\u001b[0;34m[\u001b[0m\u001b[0;34m'reviews'\u001b[0m\u001b[0;34m]\u001b[0m\u001b[0;34m)\u001b[0m\u001b[0;34m\u001b[0m\u001b[0m\n\u001b[1;32m      3\u001b[0m \u001b[0mdf\u001b[0m\u001b[0;34m[\u001b[0m\u001b[0;34m[\u001b[0m\u001b[0;34m'salary_range'\u001b[0m\u001b[0;34m,\u001b[0m \u001b[0;34m'reviews'\u001b[0m\u001b[0;34m]\u001b[0m\u001b[0;34m]\u001b[0m\u001b[0;34m.\u001b[0m\u001b[0mgroupby\u001b[0m\u001b[0;34m(\u001b[0m\u001b[0;34m'salary_range'\u001b[0m\u001b[0;34m)\u001b[0m\u001b[0;34m.\u001b[0m\u001b[0mmean\u001b[0m\u001b[0;34m(\u001b[0m\u001b[0;34m)\u001b[0m\u001b[0;34m.\u001b[0m\u001b[0munstack\u001b[0m\u001b[0;34m(\u001b[0m\u001b[0;34m)\u001b[0m\u001b[0;34m.\u001b[0m\u001b[0mplot\u001b[0m\u001b[0;34m(\u001b[0m\u001b[0mkind\u001b[0m\u001b[0;34m=\u001b[0m\u001b[0;34m\"bar\"\u001b[0m\u001b[0;34m)\u001b[0m\u001b[0;34m\u001b[0m\u001b[0m\n",
      "\u001b[0;31mAttributeError\u001b[0m: 'numpy.int64' object has no attribute 'replace'"
     ]
    }
   ],
   "source": [
    "df['reviews'] = [review.replace(\",\", \"\") for review in df.reviews]\n",
    "df['reviews'] = pd.to_numeric(df['reviews'])\n"
   ]
  },
  {
   "cell_type": "code",
   "execution_count": 88,
   "metadata": {},
   "outputs": [
    {
     "data": {
      "text/plain": [
       "<matplotlib.axes._subplots.AxesSubplot at 0x111a4f190>"
      ]
     },
     "execution_count": 88,
     "metadata": {},
     "output_type": "execute_result"
    },
    {
     "data": {
      "image/png": "[encoded data removed]",
      "text/plain": [
       "<matplotlib.figure.Figure at 0x114679bd0>"
      ]
     },
     "metadata": {},
     "output_type": "display_data"
    }
   ],
   "source": [
    "# Looking at reviews and salary range.  Also just like I suspected, looks like higher paying jobs have fewer reviews\n",
    "# of the company.  May be associated with smaller companies paying more.\n",
    "\n",
    "df[['salary_range', 'reviews']].groupby('salary_range').mean().unstack().plot(kind=\"bar\")"
   ]
  },
  {
   "cell_type": "markdown",
   "metadata": {},
   "source": [
    "### Company Name and Salary\n",
    "\n",
    "Want to look at big vs. small companies pay difference.  Assuming companies that are not in the below_5_comp list are big companies, and ones that are (which we were calling \"other companies\") are small."
   ]
  },
  {
   "cell_type": "code",
   "execution_count": 90,
   "metadata": {
    "collapsed": true
   },
   "outputs": [],
   "source": [
    "df['company_size'] = ['big' if name not in below_5_comp else \"small\" for name in df.company_name]"
   ]
  },
  {
   "cell_type": "code",
   "execution_count": 101,
   "metadata": {},
   "outputs": [
    {
     "data": {
      "text/plain": [
       "<matplotlib.axes._subplots.AxesSubplot at 0x113d645d0>"
      ]
     },
     "execution_count": 101,
     "metadata": {},
     "output_type": "execute_result"
    },
    {
     "data": {
      "image/png": "[encoded data removed]",
      "text/plain": [
       "<matplotlib.figure.Figure at 0x11a9cf550>"
      ]
     },
     "metadata": {},
     "output_type": "display_data"
    }
   ],
   "source": [
    "df[['salary_range', 'company_size']].groupby(['company_size', 'salary_range']).size().unstack().plot(kind=\"bar\", \n",
    "                                                                                                    figsize=(10,7))\n",
    "\n",
    "# It looks like small companies actually have alot more LOW paying jobs.  The big companies mostly have the 3rd tier\n",
    "# 105-130, where as the small mostly have the lowest tier 65k - 90k"
   ]
  },
  {
   "cell_type": "markdown",
   "metadata": {},
   "source": [
    "# Location and Salary\n",
    "\n",
    "Let's look at the same thing as company size, except for with city size."
   ]
  },
  {
   "cell_type": "code",
   "execution_count": 102,
   "metadata": {},
   "outputs": [
    {
     "data": {
      "text/plain": [
       "<matplotlib.axes._subplots.AxesSubplot at 0x117e9c390>"
      ]
     },
     "execution_count": 102,
     "metadata": {},
     "output_type": "execute_result"
    },
    {
     "data": {
      "image/png": "[encoded data removed]",
      "text/plain": [
       "<matplotlib.figure.Figure at 0x117ebd910>"
      ]
     },
     "metadata": {},
     "output_type": "display_data"
    }
   ],
   "source": [
    "\n",
    "\n",
    "# We'll be assuming that cities that have more job listings are the bigger cities.\n",
    "\n",
    "df['location_size'] = ['big' if city not in low_loc else \"small\" for city in df.location]\n",
    "\n",
    "df[['salary_range', 'location_size']].groupby(['location_size', 'salary_range']).size().unstack().plot(kind=\"bar\", \n",
    "                                                                                                    figsize=(10,7))\n",
    "\n",
    "# As I suspected, looks like big cities pay better, they have way more of the 105-130 jobs, while the 65-90 jobs are\n",
    "# about even between the two groups.  Big companies are also the only ones that have any jobs that pay over 130k."
   ]
  },
  {
   "cell_type": "markdown",
   "metadata": {},
   "source": [
    "## Looking at a few keywords relationships with salary."
   ]
  },
  {
   "cell_type": "markdown",
   "metadata": {},
   "source": [
    "### Summary Word: \"Data\"\n",
    "\n",
    "This is likely associated with higher paying jobs, let's explore."
   ]
  },
  {
   "cell_type": "code",
   "execution_count": 107,
   "metadata": {},
   "outputs": [
    {
     "data": {
      "text/plain": [
       "<matplotlib.axes._subplots.AxesSubplot at 0x11a1b8c90>"
      ]
     },
     "execution_count": 107,
     "metadata": {},
     "output_type": "execute_result"
    },
    {
     "data": {
      "image/png": "[encoded data removed]",
      "text/plain": [
       "<matplotlib.figure.Figure at 0x11a1af190>"
      ]
     },
     "metadata": {},
     "output_type": "display_data"
    }
   ],
   "source": [
    "# No mentions of data\n",
    "\n",
    "df_words.loc[df_words['data'] == 0, ['data', 'salary_range']].groupby(['data', 'salary_range']).size().unstack().plot(kind=\"bar\", \n",
    "                                                                                                    figsize=(10,7))"
   ]
  },
  {
   "cell_type": "code",
   "execution_count": 109,
   "metadata": {},
   "outputs": [
    {
     "data": {
      "text/plain": [
       "<matplotlib.axes._subplots.AxesSubplot at 0x11a64d610>"
      ]
     },
     "execution_count": 109,
     "metadata": {},
     "output_type": "execute_result"
    },
    {
     "data": {
      "image/png": "[encoded data removed]",
      "text/plain": [
       "<matplotlib.figure.Figure at 0x11a8fe210>"
      ]
     },
     "metadata": {},
     "output_type": "display_data"
    }
   ],
   "source": [
    "# 1 or more mentions of data\n",
    "\n",
    "df_words.loc[df_words['data'] != 0, ['data', 'salary_range']].groupby(['data', 'salary_range']).size().unstack().plot(kind=\"bar\", \n",
    "                                                                                                    figsize=(10,7))"
   ]
  },
  {
   "cell_type": "markdown",
   "metadata": {},
   "source": [
    "Pretty clear that 'data' in the summary is associated with higher paying jobs, and the more mentions of data, the higher paying the job is likley to be.  Once we get into 2 or more mentions of data, the count of 130k+ jobs is higher than any other category.  With 0 mentions of data, the lowest tier dominates and there are almost no jobs in the highest paying category."
   ]
  },
  {
   "cell_type": "markdown",
   "metadata": {},
   "source": [
    "### Summary Word: \"Store\"\n",
    "\n",
    "This is likely associated with lower paying jobs, let's explore\n"
   ]
  },
  {
   "cell_type": "code",
   "execution_count": 110,
   "metadata": {},
   "outputs": [
    {
     "data": {
      "text/plain": [
       "<matplotlib.axes._subplots.AxesSubplot at 0x11ab3f510>"
      ]
     },
     "execution_count": 110,
     "metadata": {},
     "output_type": "execute_result"
    },
    {
     "data": {
      "image/png": "[encoded data removed]",
      "text/plain": [
       "<matplotlib.figure.Figure at 0x11a225e90>"
      ]
     },
     "metadata": {},
     "output_type": "display_data"
    }
   ],
   "source": [
    "df_words[['store', 'salary_range']].groupby(['store', 'salary_range']).size().unstack().plot(kind=\"bar\", \n",
    "                                                                                                    figsize=(10,7))"
   ]
  },
  {
   "cell_type": "markdown",
   "metadata": {},
   "source": [
    "Most jobs have no mentions of this word, but we can see that as we get into 1, 2 and 3 mentions of this word, we have mostly jobs that pay 65k-90k, and no jobs that pay over 130k.  Looks like this word is associated with lower paying jobs."
   ]
  },
  {
   "cell_type": "markdown",
   "metadata": {},
   "source": [
    "### Further Investigation:\n",
    "\n",
    "There's a bit more we could do to get this even better, including:\n",
    "\n",
    "1.  Trying more models.  Random Forest performed really well, but it could be interesting to try SVM, Logistic Regression, and Naive Bayes.\n",
    "2.  Investigating relatioship of more of the important features.  I demonstrated here how you could look into the exact nature of the relationship between important features from the random forest model, but we could keep going deeper with this to see the relationship of other words."
   ]
  },
  {
   "cell_type": "markdown",
   "metadata": {},
   "source": [
    "### Overall Takeaways.\n",
    "\n",
    "1.  Star rating is by far the most impactful variable on predicint job pay.  The higher the company's rating on Indeed, the better the jobs pay.  This is followed by the number of reviews the company has received, with more reviews equating to better pay.\n",
    "2.  Location has a lot to do with how much a job will pay, with bigger cities having better paying jobs.  Similarly, big companies jobs also pay better.\n",
    "3.  There are many key words associated with high paying jobs, such as 'data', 'engineer,' and 'scientist.'  These have to do with high skilled jobs.  Low paying jobs are associated with many words that come up in retail and customer service, like 'store,' 'service,' and 'calls.'"
   ]
  },
  {
   "cell_type": "markdown",
   "metadata": {},
   "source": [
    "# Question 2: Job Title Differentiating Features"
   ]
  },
  {
   "cell_type": "markdown",
   "metadata": {},
   "source": [
    "### A. Differentiating Data Science Roles from Other Data Roles"
   ]
  },
  {
   "cell_type": "code",
   "execution_count": 114,
   "metadata": {},
   "outputs": [
    {
     "name": "stdout",
     "output_type": "stream",
     "text": [
      "<class 'pandas.core.frame.DataFrame'>\n",
      "RangeIndex: 20454 entries, 0 to 20453\n",
      "Data columns (total 10 columns):\n",
      "salary           1494 non-null object\n",
      "star_rating      20454 non-null float64\n",
      "summary          20454 non-null object\n",
      "reviews          20454 non-null int64\n",
      "location         20454 non-null object\n",
      "job_title        20454 non-null object\n",
      "company_name     20454 non-null object\n",
      "salary_range     20454 non-null object\n",
      "company_size     20454 non-null object\n",
      "location_size    20454 non-null object\n",
      "dtypes: float64(1), int64(1), object(8)\n",
      "memory usage: 1.6+ MB\n"
     ]
    }
   ],
   "source": [
    "# First let's make groups of data related jobs, ds and non-ds\n",
    "\n",
    "df.info()"
   ]
  },
  {
   "cell_type": "code",
   "execution_count": 256,
   "metadata": {
    "collapsed": true
   },
   "outputs": [],
   "source": [
    "# Going to set up what type of data job each role is based on key words that show up in the job title.\n",
    "\n",
    "ds_category = []\n",
    "\n",
    "for i, title in enumerate(df.job_title):\n",
    "    title = title.lower()\n",
    "    \n",
    "    # checking to see if data science related words are in title for ds roles.\n",
    "    if (\"data\" in title) and ('science' in title or 'scientist' in title):\n",
    "        ds_category.append(\"data_scientist\")\n",
    "        \n",
    "    # checking to see if data is in title or description for other data related roles.\n",
    "    elif (\"data\" in title) or ('data' in df['summary'][i]):\n",
    "        ds_category.append(\"data_role\")\n",
    "   \n",
    "    # all other roles are just non data roles.\n",
    "    else:\n",
    "        ds_category.append(\"non_data_role\")\n",
    "        "
   ]
  },
  {
   "cell_type": "code",
   "execution_count": 257,
   "metadata": {
    "collapsed": true
   },
   "outputs": [],
   "source": [
    "# adding this to our initial dataframe\n",
    "\n",
    "df['ds_category'] = ds_category"
   ]
  },
  {
   "cell_type": "code",
   "execution_count": 120,
   "metadata": {},
   "outputs": [
    {
     "data": {
      "text/plain": [
       "non_data_role     19356\n",
       "data_role           890\n",
       "data_scientist      208\n",
       "Name: ds_category, dtype: int64"
      ]
     },
     "execution_count": 120,
     "metadata": {},
     "output_type": "execute_result"
    }
   ],
   "source": [
    "df.ds_category.value_counts()"
   ]
  },
  {
   "cell_type": "code",
   "execution_count": 121,
   "metadata": {},
   "outputs": [
    {
     "data": {
      "text/plain": [
       "(20454, 5160)"
      ]
     },
     "execution_count": 121,
     "metadata": {},
     "output_type": "execute_result"
    }
   ],
   "source": [
    "X.shape"
   ]
  },
  {
   "cell_type": "code",
   "execution_count": 258,
   "metadata": {
    "collapsed": true
   },
   "outputs": [],
   "source": [
    "# Let's also add it to X, so we can split it up and do some modeling.\n",
    "\n",
    "X['ds_category'] = ds_category"
   ]
  },
  {
   "cell_type": "code",
   "execution_count": 259,
   "metadata": {
    "collapsed": true
   },
   "outputs": [],
   "source": [
    "# Just want to limit this to ds roles and data roles.\n",
    "\n",
    "X_ds = X[X['ds_category'] != \"non_data_role\"]"
   ]
  },
  {
   "cell_type": "code",
   "execution_count": 125,
   "metadata": {},
   "outputs": [
    {
     "data": {
      "text/plain": [
       "(1098, 5161)"
      ]
     },
     "execution_count": 125,
     "metadata": {},
     "output_type": "execute_result"
    }
   ],
   "source": [
    "# This isn't great that our dataframe is so much wider than it is long now.\n",
    "\n",
    "X_ds.shape"
   ]
  },
  {
   "cell_type": "code",
   "execution_count": 260,
   "metadata": {
    "collapsed": true
   },
   "outputs": [],
   "source": [
    "y_ds = X_ds['ds_category']\n",
    "del(X_ds['ds_category'])"
   ]
  },
  {
   "cell_type": "code",
   "execution_count": 167,
   "metadata": {
    "collapsed": true
   },
   "outputs": [],
   "source": [
    "# Getting rid of all the ohe job_title columns\n",
    "\n",
    "for c in X_ds.columns:\n",
    "    if \"job_title\" in c:\n",
    "        del(X_ds[c])"
   ]
  },
  {
   "cell_type": "code",
   "execution_count": 168,
   "metadata": {},
   "outputs": [
    {
     "data": {
      "text/plain": [
       "(1098, 4159)"
      ]
     },
     "execution_count": 168,
     "metadata": {},
     "output_type": "execute_result"
    }
   ],
   "source": [
    "X_ds.shape"
   ]
  },
  {
   "cell_type": "markdown",
   "metadata": {},
   "source": [
    "### A little EDA\n",
    "\n",
    "Let's just see what words come up most in these two categories."
   ]
  },
  {
   "cell_type": "code",
   "execution_count": 170,
   "metadata": {
    "scrolled": true
   },
   "outputs": [
    {
     "data": {
      "text/html": [
       "<div>\n",
       "<table border=\"1\" class=\"dataframe\">\n",
       "  <thead>\n",
       "    <tr style=\"text-align: right;\">\n",
       "      <th></th>\n",
       "      <th>freq</th>\n",
       "    </tr>\n",
       "  </thead>\n",
       "  <tbody>\n",
       "    <tr>\n",
       "      <th>data</th>\n",
       "      <td>429.0</td>\n",
       "    </tr>\n",
       "    <tr>\n",
       "      <th>company_name_other_company</th>\n",
       "      <td>129.0</td>\n",
       "    </tr>\n",
       "    <tr>\n",
       "      <th>scientist</th>\n",
       "      <td>110.0</td>\n",
       "    </tr>\n",
       "    <tr>\n",
       "      <th>data scientist</th>\n",
       "      <td>104.0</td>\n",
       "    </tr>\n",
       "    <tr>\n",
       "      <th>location_San Francisco, CA</th>\n",
       "      <td>95.0</td>\n",
       "    </tr>\n",
       "    <tr>\n",
       "      <th>scientists</th>\n",
       "      <td>59.0</td>\n",
       "    </tr>\n",
       "    <tr>\n",
       "      <th>science</th>\n",
       "      <td>54.0</td>\n",
       "    </tr>\n",
       "    <tr>\n",
       "      <th>data science</th>\n",
       "      <td>52.0</td>\n",
       "    </tr>\n",
       "    <tr>\n",
       "      <th>data scientists</th>\n",
       "      <td>51.0</td>\n",
       "    </tr>\n",
       "    <tr>\n",
       "      <th>team</th>\n",
       "      <td>47.0</td>\n",
       "    </tr>\n",
       "    <tr>\n",
       "      <th>experience</th>\n",
       "      <td>45.0</td>\n",
       "    </tr>\n",
       "    <tr>\n",
       "      <th>location_San Francisco, CA</th>\n",
       "      <td>38.0</td>\n",
       "    </tr>\n",
       "    <tr>\n",
       "      <th>learning</th>\n",
       "      <td>34.0</td>\n",
       "    </tr>\n",
       "    <tr>\n",
       "      <th>senior</th>\n",
       "      <td>34.0</td>\n",
       "    </tr>\n",
       "    <tr>\n",
       "      <th>looking</th>\n",
       "      <td>31.0</td>\n",
       "    </tr>\n",
       "    <tr>\n",
       "      <th>analytics</th>\n",
       "      <td>30.0</td>\n",
       "    </tr>\n",
       "    <tr>\n",
       "      <th>senior data</th>\n",
       "      <td>29.0</td>\n",
       "    </tr>\n",
       "    <tr>\n",
       "      <th>machine</th>\n",
       "      <td>28.0</td>\n",
       "    </tr>\n",
       "    <tr>\n",
       "      <th>machine learning</th>\n",
       "      <td>28.0</td>\n",
       "    </tr>\n",
       "    <tr>\n",
       "      <th>working</th>\n",
       "      <td>23.0</td>\n",
       "    </tr>\n",
       "    <tr>\n",
       "      <th>product</th>\n",
       "      <td>21.0</td>\n",
       "    </tr>\n",
       "    <tr>\n",
       "      <th>work</th>\n",
       "      <td>21.0</td>\n",
       "    </tr>\n",
       "    <tr>\n",
       "      <th>engineers</th>\n",
       "      <td>19.0</td>\n",
       "    </tr>\n",
       "    <tr>\n",
       "      <th>company</th>\n",
       "      <td>19.0</td>\n",
       "    </tr>\n",
       "    <tr>\n",
       "      <th>lead</th>\n",
       "      <td>18.0</td>\n",
       "    </tr>\n",
       "    <tr>\n",
       "      <th>modeling</th>\n",
       "      <td>17.0</td>\n",
       "    </tr>\n",
       "    <tr>\n",
       "      <th>new</th>\n",
       "      <td>17.0</td>\n",
       "    </tr>\n",
       "    <tr>\n",
       "      <th>big</th>\n",
       "      <td>17.0</td>\n",
       "    </tr>\n",
       "  </tbody>\n",
       "</table>\n",
       "</div>"
      ],
      "text/plain": [
       "                               freq\n",
       "data                          429.0\n",
       "company_name_other_company    129.0\n",
       "scientist                     110.0\n",
       "data scientist                104.0\n",
       "location_San Francisco, CA     95.0\n",
       "scientists                     59.0\n",
       "science                        54.0\n",
       "data science                   52.0\n",
       "data scientists                51.0\n",
       "team                           47.0\n",
       "experience                     45.0\n",
       "location_San Francisco, CA     38.0\n",
       "learning                       34.0\n",
       "senior                         34.0\n",
       "looking                        31.0\n",
       "analytics                      30.0\n",
       "senior data                    29.0\n",
       "machine                        28.0\n",
       "machine learning               28.0\n",
       "working                        23.0\n",
       "product                        21.0\n",
       "work                           21.0\n",
       "engineers                      19.0\n",
       "company                        19.0\n",
       "lead                           18.0\n",
       "modeling                       17.0\n",
       "new                            17.0\n",
       "big                            17.0"
      ]
     },
     "execution_count": 170,
     "metadata": {},
     "output_type": "execute_result"
    }
   ],
   "source": [
    "# what words show up most for data science jobs?\n",
    "\n",
    "tf_df_ds    =  pd.DataFrame(X_ds[y_ds == \"data_scientist\"].sum(), columns=[\"freq\"])\n",
    "tf_df_ds.sort_values(\"freq\", ascending=False)[2:30]\n",
    "\n",
    "# Pretty unsurprising stuff here.  lots of things you'd expect like machine learning and things."
   ]
  },
  {
   "cell_type": "code",
   "execution_count": 171,
   "metadata": {},
   "outputs": [
    {
     "data": {
      "text/html": [
       "<div>\n",
       "<table border=\"1\" class=\"dataframe\">\n",
       "  <thead>\n",
       "    <tr style=\"text-align: right;\">\n",
       "      <th></th>\n",
       "      <th>freq</th>\n",
       "    </tr>\n",
       "  </thead>\n",
       "  <tbody>\n",
       "    <tr>\n",
       "      <th>data</th>\n",
       "      <td>1105.0</td>\n",
       "    </tr>\n",
       "    <tr>\n",
       "      <th>company_name_other_company</th>\n",
       "      <td>655.0</td>\n",
       "    </tr>\n",
       "    <tr>\n",
       "      <th>location_other_location</th>\n",
       "      <td>232.0</td>\n",
       "    </tr>\n",
       "    <tr>\n",
       "      <th>entry</th>\n",
       "      <td>215.0</td>\n",
       "    </tr>\n",
       "    <tr>\n",
       "      <th>data entry</th>\n",
       "      <td>198.0</td>\n",
       "    </tr>\n",
       "    <tr>\n",
       "      <th>scientists</th>\n",
       "      <td>163.0</td>\n",
       "    </tr>\n",
       "    <tr>\n",
       "      <th>location_San Francisco, CA</th>\n",
       "      <td>153.0</td>\n",
       "    </tr>\n",
       "    <tr>\n",
       "      <th>experience</th>\n",
       "      <td>132.0</td>\n",
       "    </tr>\n",
       "    <tr>\n",
       "      <th>data scientists</th>\n",
       "      <td>129.0</td>\n",
       "    </tr>\n",
       "    <tr>\n",
       "      <th>work</th>\n",
       "      <td>119.0</td>\n",
       "    </tr>\n",
       "    <tr>\n",
       "      <th>team</th>\n",
       "      <td>104.0</td>\n",
       "    </tr>\n",
       "    <tr>\n",
       "      <th>time</th>\n",
       "      <td>88.0</td>\n",
       "    </tr>\n",
       "    <tr>\n",
       "      <th>location_San Francisco, CA</th>\n",
       "      <td>77.0</td>\n",
       "    </tr>\n",
       "    <tr>\n",
       "      <th>management</th>\n",
       "      <td>72.0</td>\n",
       "    </tr>\n",
       "    <tr>\n",
       "      <th>engineers</th>\n",
       "      <td>65.0</td>\n",
       "    </tr>\n",
       "    <tr>\n",
       "      <th>analysis</th>\n",
       "      <td>62.0</td>\n",
       "    </tr>\n",
       "    <tr>\n",
       "      <th>systems</th>\n",
       "      <td>60.0</td>\n",
       "    </tr>\n",
       "    <tr>\n",
       "      <th>network</th>\n",
       "      <td>59.0</td>\n",
       "    </tr>\n",
       "    <tr>\n",
       "      <th>product</th>\n",
       "      <td>57.0</td>\n",
       "    </tr>\n",
       "    <tr>\n",
       "      <th>company</th>\n",
       "      <td>55.0</td>\n",
       "    </tr>\n",
       "    <tr>\n",
       "      <th>database</th>\n",
       "      <td>53.0</td>\n",
       "    </tr>\n",
       "    <tr>\n",
       "      <th>skills</th>\n",
       "      <td>51.0</td>\n",
       "    </tr>\n",
       "    <tr>\n",
       "      <th>big</th>\n",
       "      <td>51.0</td>\n",
       "    </tr>\n",
       "    <tr>\n",
       "      <th>working</th>\n",
       "      <td>50.0</td>\n",
       "    </tr>\n",
       "    <tr>\n",
       "      <th>including</th>\n",
       "      <td>49.0</td>\n",
       "    </tr>\n",
       "    <tr>\n",
       "      <th>looking</th>\n",
       "      <td>48.0</td>\n",
       "    </tr>\n",
       "    <tr>\n",
       "      <th>position</th>\n",
       "      <td>48.0</td>\n",
       "    </tr>\n",
       "    <tr>\n",
       "      <th>support</th>\n",
       "      <td>47.0</td>\n",
       "    </tr>\n",
       "  </tbody>\n",
       "</table>\n",
       "</div>"
      ],
      "text/plain": [
       "                                freq\n",
       "data                          1105.0\n",
       "company_name_other_company     655.0\n",
       "location_other_location        232.0\n",
       "entry                          215.0\n",
       "data entry                     198.0\n",
       "scientists                     163.0\n",
       "location_San Francisco, CA     153.0\n",
       "experience                     132.0\n",
       "data scientists                129.0\n",
       "work                           119.0\n",
       "team                           104.0\n",
       "time                            88.0\n",
       "location_San Francisco, CA      77.0\n",
       "management                      72.0\n",
       "engineers                       65.0\n",
       "analysis                        62.0\n",
       "systems                         60.0\n",
       "network                         59.0\n",
       "product                         57.0\n",
       "company                         55.0\n",
       "database                        53.0\n",
       "skills                          51.0\n",
       "big                             51.0\n",
       "working                         50.0\n",
       "including                       49.0\n",
       "looking                         48.0\n",
       "position                        48.0\n",
       "support                         47.0"
      ]
     },
     "execution_count": 171,
     "metadata": {},
     "output_type": "execute_result"
    }
   ],
   "source": [
    "# what words show up most for other data jobs?\n",
    "\n",
    "tf_df_non_ds    =  pd.DataFrame(X_ds[y_ds == \"data_role\"].sum(), columns=[\"freq\"])\n",
    "tf_df_non_ds.sort_values(\"freq\", ascending=False)[2:30]\n",
    "\n",
    "# A lot of mention of 'data entry' here, which you don't see in the data science roles. also some system stuff, maybe\n",
    "# something like data engineers."
   ]
  },
  {
   "cell_type": "markdown",
   "metadata": {},
   "source": [
    "## Modeling"
   ]
  },
  {
   "cell_type": "code",
   "execution_count": 268,
   "metadata": {
    "collapsed": true
   },
   "outputs": [],
   "source": [
    "# We need to get rid of job title columns from our data, that's not what we're interested in here.\n",
    "\n",
    "for c in X_ds.columns:\n",
    "    if \"job_title\" in c:\n",
    "        del(X_ds[c])"
   ]
  },
  {
   "cell_type": "code",
   "execution_count": 261,
   "metadata": {},
   "outputs": [
    {
     "data": {
      "text/plain": [
       "0.8105646630236795"
      ]
     },
     "execution_count": 261,
     "metadata": {},
     "output_type": "execute_result"
    }
   ],
   "source": [
    "# First let's look at our baseline\n",
    "\n",
    "y_ds.value_counts()\n",
    "\n",
    "# Calculating our baseline so we can see how good this model is.\n",
    "\n",
    "baseline_ds = 890./(890+208)\n",
    "baseline_ds"
   ]
  },
  {
   "cell_type": "code",
   "execution_count": 269,
   "metadata": {},
   "outputs": [],
   "source": [
    "# Let's try Logistic Regression to start out, because naive bayes performed so poorly last time.\n",
    "\n",
    "from sklearn.linear_model import LogisticRegression\n",
    "\n",
    "log_reg = LogisticRegression()\n",
    "\n",
    "params = {\n",
    "    \"C\": [0.2, 0.4, 0.6, 0.8, 1],\n",
    "    \n",
    "    # I imagine lasso will be more useful for this problem because of how many features we have, but I'll try both\n",
    "    \"penalty\": ['l1', 'l2']\n",
    "}\n",
    "\n",
    "gscv_log_reg = GridSearchCV(log_reg, params, cv=3, verbose=1)"
   ]
  },
  {
   "cell_type": "code",
   "execution_count": 270,
   "metadata": {},
   "outputs": [
    {
     "name": "stdout",
     "output_type": "stream",
     "text": [
      "Fitting 3 folds for each of 10 candidates, totalling 30 fits\n"
     ]
    },
    {
     "name": "stderr",
     "output_type": "stream",
     "text": [
      "[Parallel(n_jobs=1)]: Done  30 out of  30 | elapsed:    5.6s finished\n"
     ]
    },
    {
     "data": {
      "text/plain": [
       "GridSearchCV(cv=3, error_score='raise',\n",
       "       estimator=LogisticRegression(C=1.0, class_weight=None, dual=False, fit_intercept=True,\n",
       "          intercept_scaling=1, max_iter=100, multi_class='ovr', n_jobs=1,\n",
       "          penalty='l2', random_state=None, solver='liblinear', tol=0.0001,\n",
       "          verbose=0, warm_start=False),\n",
       "       fit_params={}, iid=True, n_jobs=1,\n",
       "       param_grid={'penalty': ['l1', 'l2'], 'C': [0.2, 0.4, 0.6, 0.8, 1]},\n",
       "       pre_dispatch='2*n_jobs', refit=True, return_train_score=True,\n",
       "       scoring=None, verbose=1)"
      ]
     },
     "execution_count": 270,
     "metadata": {},
     "output_type": "execute_result"
    }
   ],
   "source": [
    "gscv_log_reg.fit(np.array(X_ds), y_ds)"
   ]
  },
  {
   "cell_type": "code",
   "execution_count": 271,
   "metadata": {},
   "outputs": [
    {
     "data": {
      "text/plain": [
       "0.87887067395264118"
      ]
     },
     "execution_count": 271,
     "metadata": {},
     "output_type": "execute_result"
    }
   ],
   "source": [
    "# pretty solid, 6% better than baseline, maybe we can tune this though?\n",
    "\n",
    "gscv_log_reg.best_score_"
   ]
  },
  {
   "cell_type": "code",
   "execution_count": 273,
   "metadata": {},
   "outputs": [
    {
     "data": {
      "text/plain": [
       "{'C': 0.2, 'penalty': 'l1'}"
      ]
     },
     "execution_count": 273,
     "metadata": {},
     "output_type": "execute_result"
    }
   ],
   "source": [
    "# Like i suspected, L1 is the better regularization.  Let's try different values of C\n",
    "\n",
    "gscv_log_reg.best_params_"
   ]
  },
  {
   "cell_type": "code",
   "execution_count": 274,
   "metadata": {
    "collapsed": true
   },
   "outputs": [],
   "source": [
    "params = {\n",
    "    \"C\": [0.02, 0.05, 0.75, 0.1, 0.125, 0.15, 0.175, 0.2, 0.225, 0.25],\n",
    "    \n",
    "    # I imagine lasso will be more useful for this problem because of how many features we have, but I'll try both\n",
    "    \"penalty\": ['l1']\n",
    "}\n",
    "\n",
    "gscv_log_reg = GridSearchCV(log_reg, params, cv=3, verbose=1)"
   ]
  },
  {
   "cell_type": "code",
   "execution_count": 275,
   "metadata": {},
   "outputs": [
    {
     "name": "stdout",
     "output_type": "stream",
     "text": [
      "Fitting 3 folds for each of 10 candidates, totalling 30 fits\n"
     ]
    },
    {
     "name": "stderr",
     "output_type": "stream",
     "text": [
      "[Parallel(n_jobs=1)]: Done  30 out of  30 | elapsed:    5.6s finished\n"
     ]
    },
    {
     "data": {
      "text/plain": [
       "GridSearchCV(cv=3, error_score='raise',\n",
       "       estimator=LogisticRegression(C=1.0, class_weight=None, dual=False, fit_intercept=True,\n",
       "          intercept_scaling=1, max_iter=100, multi_class='ovr', n_jobs=1,\n",
       "          penalty='l2', random_state=None, solver='liblinear', tol=0.0001,\n",
       "          verbose=0, warm_start=False),\n",
       "       fit_params={}, iid=True, n_jobs=1,\n",
       "       param_grid={'penalty': ['l1'], 'C': [0.02, 0.05, 0.75, 0.1, 0.125, 0.15, 0.175, 0.2, 0.225, 0.25]},\n",
       "       pre_dispatch='2*n_jobs', refit=True, return_train_score=True,\n",
       "       scoring=None, verbose=1)"
      ]
     },
     "execution_count": 275,
     "metadata": {},
     "output_type": "execute_result"
    }
   ],
   "source": [
    "gscv_log_reg.fit(np.array(X_ds), y_ds)"
   ]
  },
  {
   "cell_type": "code",
   "execution_count": 276,
   "metadata": {},
   "outputs": [
    {
     "data": {
      "text/plain": [
       "0.88615664845173037"
      ]
     },
     "execution_count": 276,
     "metadata": {},
     "output_type": "execute_result"
    }
   ],
   "source": [
    "# we got slightly better, but not much.  Let's try Random Forest.\n",
    "\n",
    "gscv_log_reg.best_score_"
   ]
  },
  {
   "cell_type": "code",
   "execution_count": 172,
   "metadata": {
    "collapsed": true
   },
   "outputs": [],
   "source": [
    "# going to go ahead and do some grid on random forest.\n",
    "\n",
    "rfc_ds = RandomForestClassifier()\n",
    "\n",
    "param_grid_ds = {\n",
    "    \"max_depth\": [20,25,30,40],\n",
    "    \"max_features\": [200,300,400],\n",
    "}\n",
    "\n",
    "gscv_rfc_ds = GridSearchCV(rfc, param_grid_ds, cv=3, verbose=1)\n"
   ]
  },
  {
   "cell_type": "code",
   "execution_count": 173,
   "metadata": {},
   "outputs": [
    {
     "name": "stdout",
     "output_type": "stream",
     "text": [
      "Fitting 3 folds for each of 12 candidates, totalling 36 fits\n"
     ]
    },
    {
     "name": "stderr",
     "output_type": "stream",
     "text": [
      "[Parallel(n_jobs=1)]: Done  36 out of  36 | elapsed:   15.6s finished\n"
     ]
    },
    {
     "data": {
      "text/plain": [
       "GridSearchCV(cv=3, error_score='raise',\n",
       "       estimator=RandomForestClassifier(bootstrap=True, class_weight=None, criterion='gini',\n",
       "            max_depth=None, max_features='auto', max_leaf_nodes=None,\n",
       "            min_impurity_split=1e-07, min_samples_leaf=1,\n",
       "            min_samples_split=2, min_weight_fraction_leaf=0.0,\n",
       "            n_estimators=10, n_jobs=1, oob_score=False, random_state=None,\n",
       "            verbose=0, warm_start=False),\n",
       "       fit_params={}, iid=True, n_jobs=1,\n",
       "       param_grid={'max_features': [200, 300, 400], 'max_depth': [20, 25, 30, 40]},\n",
       "       pre_dispatch='2*n_jobs', refit=True, return_train_score=True,\n",
       "       scoring=None, verbose=1)"
      ]
     },
     "execution_count": 173,
     "metadata": {},
     "output_type": "execute_result"
    }
   ],
   "source": [
    "gscv_rfc_ds.fit(np.array(X_ds), y_ds)"
   ]
  },
  {
   "cell_type": "code",
   "execution_count": 174,
   "metadata": {},
   "outputs": [
    {
     "data": {
      "text/plain": [
       "{'max_depth': 20, 'max_features': 200}"
      ]
     },
     "execution_count": 174,
     "metadata": {},
     "output_type": "execute_result"
    }
   ],
   "source": [
    "# seems like we picked pretty good parameters\n",
    "\n",
    "gscv_rfc_ds.best_params_"
   ]
  },
  {
   "cell_type": "code",
   "execution_count": 177,
   "metadata": {},
   "outputs": [
    {
     "data": {
      "text/plain": [
       "0.88797814207650272"
      ]
     },
     "execution_count": 177,
     "metadata": {},
     "output_type": "execute_result"
    }
   ],
   "source": [
    "# got out score up a sliver from logistic regression.\n",
    "\n",
    "# we could maybe improve this by tuning the parameters a little more.\n",
    "\n",
    "gscv_rfc_ds.best_score_"
   ]
  },
  {
   "cell_type": "code",
   "execution_count": 178,
   "metadata": {},
   "outputs": [
    {
     "name": "stdout",
     "output_type": "stream",
     "text": [
      "Fitting 3 folds for each of 36 candidates, totalling 108 fits\n"
     ]
    },
    {
     "name": "stderr",
     "output_type": "stream",
     "text": [
      "[Parallel(n_jobs=1)]: Done 108 out of 108 | elapsed:   49.0s finished\n"
     ]
    },
    {
     "data": {
      "text/plain": [
       "GridSearchCV(cv=3, error_score='raise',\n",
       "       estimator=RandomForestClassifier(bootstrap=True, class_weight=None, criterion='gini',\n",
       "            max_depth=None, max_features='auto', max_leaf_nodes=None,\n",
       "            min_impurity_split=1e-07, min_samples_leaf=1,\n",
       "            min_samples_split=2, min_weight_fraction_leaf=0.0,\n",
       "            n_estimators=10, n_jobs=1, oob_score=False, random_state=None,\n",
       "            verbose=0, warm_start=False),\n",
       "       fit_params={}, iid=True, n_jobs=1,\n",
       "       param_grid={'max_features': [100, 150, 200], 'n_estimators': [5, 10, 20, 40], 'max_depth': [10, 15, 20]},\n",
       "       pre_dispatch='2*n_jobs', refit=True, return_train_score=True,\n",
       "       scoring=None, verbose=1)"
      ]
     },
     "execution_count": 178,
     "metadata": {},
     "output_type": "execute_result"
    }
   ],
   "source": [
    "param_grid_ds = {\n",
    "    \"max_depth\": [10,15,20],\n",
    "    \"max_features\": [100,150,200],\n",
    "    \"n_estimators\": [5,10,20,40]\n",
    "}\n",
    "\n",
    "gscv_rfc_ds = GridSearchCV(rfc, param_grid_ds, cv=3, verbose=1)\n",
    "\n",
    "gscv_rfc_ds.fit(np.array(X_ds), y_ds)"
   ]
  },
  {
   "cell_type": "code",
   "execution_count": 179,
   "metadata": {},
   "outputs": [
    {
     "data": {
      "text/plain": [
       "{'max_depth': 20, 'max_features': 200, 'n_estimators': 10}"
      ]
     },
     "execution_count": 179,
     "metadata": {},
     "output_type": "execute_result"
    }
   ],
   "source": [
    "gscv_rfc_ds.best_params_"
   ]
  },
  {
   "cell_type": "code",
   "execution_count": 180,
   "metadata": {},
   "outputs": [
    {
     "data": {
      "text/plain": [
       "0.8870673952641166"
      ]
     },
     "execution_count": 180,
     "metadata": {},
     "output_type": "execute_result"
    }
   ],
   "source": [
    "# Not getting better now. Let's fit the model.\n",
    "\n",
    "gscv_rfc_ds.best_score_"
   ]
  },
  {
   "cell_type": "code",
   "execution_count": 181,
   "metadata": {
    "collapsed": true
   },
   "outputs": [],
   "source": [
    "rfc_ds = RandomForestClassifier(max_depth=20, max_features=200, n_estimators=10)\n",
    "\n",
    "model_ds = rfc_ds.fit(np.array(X_ds), y_ds)"
   ]
  },
  {
   "cell_type": "code",
   "execution_count": 185,
   "metadata": {},
   "outputs": [
    {
     "data": {
      "text/plain": [
       "<matplotlib.axes._subplots.AxesSubplot at 0x121fffc50>"
      ]
     },
     "execution_count": 185,
     "metadata": {},
     "output_type": "execute_result"
    },
    {
     "data": {
      "image/png": "[encoded data removed]",
      "text/plain": [
       "<matplotlib.figure.Figure at 0x122186350>"
      ]
     },
     "metadata": {},
     "output_type": "display_data"
    }
   ],
   "source": [
    "feature_import_ds = pd.DataFrame({\n",
    "    'feature': X_ds.columns,\n",
    "    'importance': rfc_ds.feature_importances_\n",
    "}).sort_values('importance', ascending=False)\n",
    "\n",
    "fig = plt.figure(figsize=(7,10))\n",
    "sns.barplot(y = feature_import_ds.head(30)['feature'], x = feature_import_ds.head(30)['importance'], orient='h',\n",
    "           palette=\"Set2\")"
   ]
  },
  {
   "cell_type": "markdown",
   "metadata": {},
   "source": [
    "## Interpretation of Results\n",
    "\n",
    "Unsurprisingly, words like 'data scientist\" and 'science' come up as having the most importance in differentiating these groups.  Words like machine learning and learning also come up, probably connected to data science roles as opposed to other data roles.  It's interesting that the differentiating words are more clearly associated with data science than other data roles, which indicates that data science roles have specific skills like machine learning that differentiate them from other data roles, but not so much the other way around.\n",
    "\n",
    "\n",
    "Let's look a little deeper into some of the less obvious ones, like reviews and star rating."
   ]
  },
  {
   "cell_type": "code",
   "execution_count": 186,
   "metadata": {},
   "outputs": [
    {
     "name": "stderr",
     "output_type": "stream",
     "text": [
      "/anaconda/lib/python2.7/site-packages/ipykernel_launcher.py:1: SettingWithCopyWarning: \n",
      "A value is trying to be set on a copy of a slice from a DataFrame.\n",
      "Try using .loc[row_indexer,col_indexer] = value instead\n",
      "\n",
      "See the caveats in the documentation: http://pandas.pydata.org/pandas-docs/stable/indexing.html#indexing-view-versus-copy\n",
      "  \"\"\"Entry point for launching an IPython kernel.\n"
     ]
    },
    {
     "data": {
      "text/plain": [
       "<matplotlib.axes._subplots.AxesSubplot at 0x122186b10>"
      ]
     },
     "execution_count": 186,
     "metadata": {},
     "output_type": "execute_result"
    },
    {
     "data": {
      "image/png": "[encoded data removed]",
      "text/plain": [
       "<matplotlib.figure.Figure at 0x11be82d10>"
      ]
     },
     "metadata": {},
     "output_type": "display_data"
    }
   ],
   "source": [
    "X_ds['data_category'] = y_ds\n",
    "\n",
    "X_ds[['data_category', 'star_rating']].groupby('data_category').mean().unstack().plot(kind=\"bar\")\n"
   ]
  },
  {
   "cell_type": "code",
   "execution_count": null,
   "metadata": {
    "collapsed": true
   },
   "outputs": [],
   "source": [
    "# Looks like data science jobs are generally at companies that have a higher average star rating."
   ]
  },
  {
   "cell_type": "code",
   "execution_count": 188,
   "metadata": {},
   "outputs": [
    {
     "data": {
      "text/plain": [
       "<matplotlib.axes._subplots.AxesSubplot at 0x1221dfa50>"
      ]
     },
     "execution_count": 188,
     "metadata": {},
     "output_type": "execute_result"
    },
    {
     "data": {
      "image/png": "[encoded data removed]",
      "text/plain": [
       "<matplotlib.figure.Figure at 0x131585a90>"
      ]
     },
     "metadata": {},
     "output_type": "display_data"
    }
   ],
   "source": [
    "X_ds[['data_category', 'reviews_VALUE']].groupby('data_category').mean().unstack().plot(kind=\"bar\")"
   ]
  },
  {
   "cell_type": "code",
   "execution_count": null,
   "metadata": {
    "collapsed": true
   },
   "outputs": [],
   "source": [
    "# Companies with data science jobs generally have almost twice as many reviews! Pretty stark contrast."
   ]
  },
  {
   "cell_type": "markdown",
   "metadata": {},
   "source": [
    "## B. Distinguishing junior vs. senior positions"
   ]
  },
  {
   "cell_type": "code",
   "execution_count": 277,
   "metadata": {
    "collapsed": true
   },
   "outputs": [],
   "source": [
    "# first let's create categories for junior and senior level positions.\n",
    "\n",
    "junior_senior = []\n",
    "for i, title in enumerate(df.job_title):\n",
    "    title = title.lower()\n",
    "    if \"entry level\" in df.summary[i] or \"junior\" in title:\n",
    "        junior_senior.append('junior')\n",
    "    elif \"manager\" in title or 'senior' in title:\n",
    "        junior_senior.append('senior')\n",
    "    else:\n",
    "        junior_senior.append('unclear_seniority')\n"
   ]
  },
  {
   "cell_type": "code",
   "execution_count": 278,
   "metadata": {
    "collapsed": true
   },
   "outputs": [],
   "source": [
    "df['seniority'] = junior_senior"
   ]
  },
  {
   "cell_type": "code",
   "execution_count": 198,
   "metadata": {},
   "outputs": [
    {
     "data": {
      "text/plain": [
       "unclear_seniority    18111\n",
       "senior                2035\n",
       "junior                 308\n",
       "Name: seniority, dtype: int64"
      ]
     },
     "execution_count": 198,
     "metadata": {},
     "output_type": "execute_result"
    }
   ],
   "source": [
    "df.seniority.value_counts()"
   ]
  },
  {
   "cell_type": "code",
   "execution_count": 279,
   "metadata": {
    "collapsed": true
   },
   "outputs": [],
   "source": [
    "df_words['seniority'] = junior_senior"
   ]
  },
  {
   "cell_type": "markdown",
   "metadata": {},
   "source": [
    "### Prepping Data for Modeling:"
   ]
  },
  {
   "cell_type": "code",
   "execution_count": 281,
   "metadata": {
    "collapsed": true
   },
   "outputs": [],
   "source": [
    "X_js = df_words.copy()"
   ]
  },
  {
   "cell_type": "code",
   "execution_count": 283,
   "metadata": {
    "collapsed": true
   },
   "outputs": [],
   "source": [
    "for c in X_js.columns:\n",
    "    if \"job_title\" in c:\n",
    "        del(X_js[c])"
   ]
  },
  {
   "cell_type": "code",
   "execution_count": 282,
   "metadata": {
    "collapsed": true
   },
   "outputs": [],
   "source": [
    "X_js = X_js[X_js['seniority'] != \"unclear_seniority\"]"
   ]
  },
  {
   "cell_type": "code",
   "execution_count": 284,
   "metadata": {
    "collapsed": true
   },
   "outputs": [],
   "source": [
    "y_js = X_js['seniority']\n",
    "del(X_js['seniority'])"
   ]
  },
  {
   "cell_type": "markdown",
   "metadata": {},
   "source": [
    "### Modeling"
   ]
  },
  {
   "cell_type": "code",
   "execution_count": 288,
   "metadata": {},
   "outputs": [
    {
     "data": {
      "text/plain": [
       "senior    2035\n",
       "junior     308\n",
       "Name: seniority, dtype: int64"
      ]
     },
     "execution_count": 288,
     "metadata": {},
     "output_type": "execute_result"
    }
   ],
   "source": [
    "# First let's look at our baseline.\n",
    "\n",
    "y_js.value_counts()"
   ]
  },
  {
   "cell_type": "code",
   "execution_count": 290,
   "metadata": {},
   "outputs": [
    {
     "data": {
      "text/plain": [
       "0.8685446009389671"
      ]
     },
     "execution_count": 290,
     "metadata": {},
     "output_type": "execute_result"
    }
   ],
   "source": [
    "baseline = 2035./(308+2035)\n",
    "baseline"
   ]
  },
  {
   "cell_type": "code",
   "execution_count": 285,
   "metadata": {
    "collapsed": true
   },
   "outputs": [],
   "source": [
    "# Need to get rid of the salary range column.\n",
    "\n",
    "del(X_js['salary_range'])"
   ]
  },
  {
   "cell_type": "code",
   "execution_count": 214,
   "metadata": {},
   "outputs": [
    {
     "name": "stdout",
     "output_type": "stream",
     "text": [
      "Fitting 3 folds for each of 36 candidates, totalling 108 fits\n"
     ]
    },
    {
     "name": "stderr",
     "output_type": "stream",
     "text": [
      "[Parallel(n_jobs=1)]: Done 108 out of 108 | elapsed:  1.8min finished\n"
     ]
    },
    {
     "data": {
      "text/plain": [
       "GridSearchCV(cv=3, error_score='raise',\n",
       "       estimator=RandomForestClassifier(bootstrap=True, class_weight=None, criterion='gini',\n",
       "            max_depth=None, max_features='auto', max_leaf_nodes=None,\n",
       "            min_impurity_split=1e-07, min_samples_leaf=1,\n",
       "            min_samples_split=2, min_weight_fraction_leaf=0.0,\n",
       "            n_estimators=10, n_jobs=1, oob_score=False, random_state=None,\n",
       "            verbose=0, warm_start=False),\n",
       "       fit_params={}, iid=True, n_jobs=1,\n",
       "       param_grid={'max_features': [100, 150, 200], 'n_estimators': [5, 10, 20, 40], 'max_depth': [10, 15, 20]},\n",
       "       pre_dispatch='2*n_jobs', refit=True, return_train_score=True,\n",
       "       scoring=None, verbose=1)"
      ]
     },
     "execution_count": 214,
     "metadata": {},
     "output_type": "execute_result"
    }
   ],
   "source": [
    "# let's start out by looking at random forest, which has been performing so well.\n",
    "\n",
    "param_grid_js = {\n",
    "    \"max_depth\": [10,15,20],\n",
    "    \"max_features\": [100,150,200],\n",
    "    \"n_estimators\": [5,10,20,40]\n",
    "}\n",
    "\n",
    "rfc_js = RandomForestClassifier()\n",
    "\n",
    "gscv_rfc_js = GridSearchCV(rfc_js, param_grid_ds, cv=3, verbose=1)\n",
    "\n",
    "gscv_rfc_js.fit(np.array(X_js), y_js)"
   ]
  },
  {
   "cell_type": "code",
   "execution_count": 216,
   "metadata": {},
   "outputs": [
    {
     "data": {
      "text/plain": [
       "{'max_depth': 20, 'max_features': 200, 'n_estimators': 40}"
      ]
     },
     "execution_count": 216,
     "metadata": {},
     "output_type": "execute_result"
    }
   ],
   "source": [
    "gscv_rfc_js.best_params_"
   ]
  },
  {
   "cell_type": "code",
   "execution_count": null,
   "metadata": {
    "collapsed": true
   },
   "outputs": [],
   "source": [
    "# We could perhaps tune these better."
   ]
  },
  {
   "cell_type": "code",
   "execution_count": 217,
   "metadata": {},
   "outputs": [
    {
     "data": {
      "text/plain": [
       "0.98164746052069995"
      ]
     },
     "execution_count": 217,
     "metadata": {},
     "output_type": "execute_result"
    }
   ],
   "source": [
    "# Great score!\n",
    "\n",
    "gscv_rfc_js.best_score_"
   ]
  },
  {
   "cell_type": "code",
   "execution_count": 221,
   "metadata": {},
   "outputs": [
    {
     "name": "stdout",
     "output_type": "stream",
     "text": [
      "Fitting 3 folds for each of 36 candidates, totalling 108 fits\n"
     ]
    },
    {
     "name": "stderr",
     "output_type": "stream",
     "text": [
      "[Parallel(n_jobs=1)]: Done 108 out of 108 | elapsed:  1.8min finished\n"
     ]
    },
    {
     "data": {
      "text/plain": [
       "GridSearchCV(cv=3, error_score='raise',\n",
       "       estimator=RandomForestClassifier(bootstrap=True, class_weight=None, criterion='gini',\n",
       "            max_depth=None, max_features='auto', max_leaf_nodes=None,\n",
       "            min_impurity_split=1e-07, min_samples_leaf=1,\n",
       "            min_samples_split=2, min_weight_fraction_leaf=0.0,\n",
       "            n_estimators=10, n_jobs=1, oob_score=False, random_state=None,\n",
       "            verbose=0, warm_start=False),\n",
       "       fit_params={}, iid=True, n_jobs=1,\n",
       "       param_grid={'max_features': [100, 150, 200], 'n_estimators': [5, 10, 20, 40], 'max_depth': [10, 15, 20]},\n",
       "       pre_dispatch='2*n_jobs', refit=True, return_train_score=True,\n",
       "       scoring=None, verbose=1)"
      ]
     },
     "execution_count": 221,
     "metadata": {},
     "output_type": "execute_result"
    }
   ],
   "source": [
    "param_grid_js = {\n",
    "    \"max_depth\": [20,30,40],\n",
    "    \"max_features\": [200,300,400],\n",
    "    \"n_estimators\": [40,50,60]\n",
    "}\n",
    "\n",
    "rfc_js = RandomForestClassifier()\n",
    "\n",
    "gscv_rfc_js = GridSearchCV(rfc_js, param_grid_ds, cv=3, verbose=1)\n",
    "\n",
    "gscv_rfc_js.fit(np.array(X_js), y_js)"
   ]
  },
  {
   "cell_type": "code",
   "execution_count": 222,
   "metadata": {},
   "outputs": [
    {
     "data": {
      "text/plain": [
       "{'max_depth': 20, 'max_features': 200, 'n_estimators': 20}"
      ]
     },
     "execution_count": 222,
     "metadata": {},
     "output_type": "execute_result"
    }
   ],
   "source": [
    "# interesting that some of the best parameters changed, indicates that it may not be all that important.\n",
    "\n",
    "gscv_rfc_js.best_params_"
   ]
  },
  {
   "cell_type": "code",
   "execution_count": null,
   "metadata": {
    "collapsed": true
   },
   "outputs": [],
   "source": [
    "# The score just sin't changing very much, doesn't really seem to matter what our parameters are."
   ]
  },
  {
   "cell_type": "code",
   "execution_count": 223,
   "metadata": {},
   "outputs": [
    {
     "data": {
      "text/plain": [
       "0.98250106700810924"
      ]
     },
     "execution_count": 223,
     "metadata": {},
     "output_type": "execute_result"
    }
   ],
   "source": [
    "gscv_rfc_js.best_score_"
   ]
  },
  {
   "cell_type": "code",
   "execution_count": null,
   "metadata": {
    "collapsed": true
   },
   "outputs": [],
   "source": [
    "# Let's try looking at logistic regression on this next since it worked so well before."
   ]
  },
  {
   "cell_type": "code",
   "execution_count": 301,
   "metadata": {},
   "outputs": [],
   "source": [
    "# because our baseline is so high, we're going to want to weight our target variable.\n",
    "\n",
    "log_reg = LogisticRegression()\n",
    "\n",
    "params = {\n",
    "    'penalty': ['l1', 'l2'],\n",
    "    'C': np.linspace(0.05,1,20),\n",
    "    'class_weight': [{'junior': 0.8, 'senior': 0.2}, {'junior': 0.9, 'senior': 0.1},\n",
    "                     {'junior': 0.7, 'senior': 0.3}, {'junior': 0.6, 'senior': 0.4},\n",
    "                     None]\n",
    "}\n",
    "\n",
    "log_reg_gs = GridSearchCV(log_reg, params, cv=3, verbose=1)"
   ]
  },
  {
   "cell_type": "code",
   "execution_count": 302,
   "metadata": {},
   "outputs": [
    {
     "name": "stdout",
     "output_type": "stream",
     "text": [
      "Fitting 3 folds for each of 200 candidates, totalling 600 fits\n"
     ]
    },
    {
     "name": "stderr",
     "output_type": "stream",
     "text": [
      "[Parallel(n_jobs=1)]: Done 600 out of 600 | elapsed:  3.9min finished\n"
     ]
    },
    {
     "data": {
      "text/plain": [
       "GridSearchCV(cv=3, error_score='raise',\n",
       "       estimator=LogisticRegression(C=1.0, class_weight=None, dual=False, fit_intercept=True,\n",
       "          intercept_scaling=1, max_iter=100, multi_class='ovr', n_jobs=1,\n",
       "          penalty='l2', random_state=None, solver='liblinear', tol=0.0001,\n",
       "          verbose=0, warm_start=False),\n",
       "       fit_params={}, iid=True, n_jobs=1,\n",
       "       param_grid={'penalty': ['l1', 'l2'], 'C': array([ 0.05,  0.1 ,  0.15,  0.2 ,  0.25,  0.3 ,  0.35,  0.4 ,  0.45,\n",
       "        0.5 ,  0.55,  0.6 ,  0.65,  0.7 ,  0.75,  0.8 ,  0.85,  0.9 ,\n",
       "        0.95,  1.  ]), 'class_weight': [{'senior': 0.2, 'junior': 0.8}, {'senior': 0.1, 'junior': 0.9}, {'senior': 0.3, 'junior': 0.7}, {'senior': 0.4, 'junior': 0.6}, None]},\n",
       "       pre_dispatch='2*n_jobs', refit=True, return_train_score=True,\n",
       "       scoring=None, verbose=1)"
      ]
     },
     "execution_count": 302,
     "metadata": {},
     "output_type": "execute_result"
    }
   ],
   "source": [
    "log_reg_gs.fit(np.array(X_js), y_js)"
   ]
  },
  {
   "cell_type": "code",
   "execution_count": 305,
   "metadata": {},
   "outputs": [
    {
     "data": {
      "text/plain": [
       "{'C': 0.59999999999999998, 'class_weight': None, 'penalty': 'l1'}"
      ]
     },
     "execution_count": 305,
     "metadata": {},
     "output_type": "execute_result"
    }
   ],
   "source": [
    "# interesting that no class weight actually works out best.\n",
    "\n",
    "log_reg_gs.best_params_"
   ]
  },
  {
   "cell_type": "code",
   "execution_count": 303,
   "metadata": {},
   "outputs": [
    {
     "data": {
      "text/plain": [
       "0.98036705078958597"
      ]
     },
     "execution_count": 303,
     "metadata": {},
     "output_type": "execute_result"
    }
   ],
   "source": [
    "# not quite as good as our random forest, I'll just stick with that.\n",
    "\n",
    "log_reg_gs.best_score_"
   ]
  },
  {
   "cell_type": "code",
   "execution_count": 224,
   "metadata": {},
   "outputs": [
    {
     "data": {
      "text/plain": [
       "RandomForestClassifier(bootstrap=True, class_weight=None, criterion='gini',\n",
       "            max_depth=20, max_features=200, max_leaf_nodes=None,\n",
       "            min_impurity_split=1e-07, min_samples_leaf=1,\n",
       "            min_samples_split=2, min_weight_fraction_leaf=0.0,\n",
       "            n_estimators=20, n_jobs=1, oob_score=False, random_state=None,\n",
       "            verbose=0, warm_start=False)"
      ]
     },
     "execution_count": 224,
     "metadata": {},
     "output_type": "execute_result"
    }
   ],
   "source": [
    "# making a new random forest model with the best parameters from the gridsearch.\n",
    "\n",
    "rfc_js = RandomForestClassifier(max_depth=20, max_features=200, n_estimators=20)\n",
    "\n",
    "rfc_js.fit(np.array(X_js), y_js)"
   ]
  },
  {
   "cell_type": "code",
   "execution_count": 225,
   "metadata": {},
   "outputs": [
    {
     "data": {
      "text/plain": [
       "<matplotlib.axes._subplots.AxesSubplot at 0x146a5d0d0>"
      ]
     },
     "execution_count": 225,
     "metadata": {},
     "output_type": "execute_result"
    },
    {
     "data": {
      "image/png": "[encoded data removed]",
      "text/plain": [
       "<matplotlib.figure.Figure at 0x1469e3650>"
      ]
     },
     "metadata": {},
     "output_type": "display_data"
    }
   ],
   "source": [
    "# plotting feature importances\n",
    "\n",
    "feature_import_js = pd.DataFrame({\n",
    "    'feature': X_js.columns,\n",
    "    'importance': rfc_js.feature_importances_\n",
    "}).sort_values('importance', ascending=False)\n",
    "\n",
    "fig = plt.figure(figsize=(7,10))\n",
    "sns.barplot(y = feature_import_js.head(30)['feature'], x = feature_import_js.head(30)['importance'], orient='h',\n",
    "           palette=\"Set2\")"
   ]
  },
  {
   "cell_type": "code",
   "execution_count": 226,
   "metadata": {
    "collapsed": true
   },
   "outputs": [],
   "source": [
    "# Pretty inuitive results here, words in the summary like \"entry level\", \"entry\" and \"entry level position\" are \n",
    "# all high up in terms of differentiating.  This could also be based on the way that I defined junior level vs.\n",
    "# senior level positions, which used permuations of those words.  But, it's hard to imagine a better way to do it.\n",
    "\n",
    "\n",
    "# we could go back to indeed, and scrape based on their search parameters for \"entry\" and \"senior\" level positions,\n",
    "# and then go through the same process for modeling the data."
   ]
  },
  {
   "cell_type": "markdown",
   "metadata": {
    "collapsed": true
   },
   "source": [
    "## C. How do job requirements vary by industry?\n",
    "\n",
    "First we need to classify industry for a bunch of jobs.  Let's look at the companies that have the most jobs, and classify those.  We should be able to get a big enough sample of classified industries doing this."
   ]
  },
  {
   "cell_type": "code",
   "execution_count": 296,
   "metadata": {},
   "outputs": [
    {
     "data": {
      "text/plain": [
       "ReqRoute,Inc                               45\n",
       "Panda Express                              43\n",
       "Nationwide Doctors Inc                     42\n",
       "Pro-Touch Nurses Inc.                      40\n",
       "Macy's                                     40\n",
       "Open Systems Technologies, Inc.            38\n",
       "Open Door Unlimited, Inc.                  38\n",
       "Alliant Insurance Services                 37\n",
       "Victoria's Secret                          37\n",
       "American Management Services, Inc.         36\n",
       "Electronic Search, Inc.                    33\n",
       "Walmart                                    33\n",
       "TARGET                                     33\n",
       "EMSI, Inc.                                 31\n",
       "Nike                                       30\n",
       "Etech Hi Inc.                              28\n",
       "Uber                                       28\n",
       "Anthropologie                              27\n",
       "Anthem, Inc.                               27\n",
       "Comtech Global Inc                         27\n",
       "Aramark                                    27\n",
       "Global Payments                            27\n",
       "CRH-Oldcastle                              26\n",
       "Horizon House, Inc.                        25\n",
       "Taco Cabana                                25\n",
       "Old Navy                                   25\n",
       "Intarcia Therapeutics, Inc.                25\n",
       "Taco Bell | Northwest Restaurants, Inc.    25\n",
       "Dr Pepper Snapple Group                    24\n",
       "SGA                                        23\n",
       "                                           ..\n",
       "LifeSafer, Inc.                             1\n",
       "Cookietree Bakeries                         1\n",
       "Pharmagene Labs LLC                         1\n",
       "PRMI                                        1\n",
       "Tetra Tech                                  1\n",
       "Fulcrum, LLC                                1\n",
       "Pilgrimage Search                           1\n",
       "Edgewell                                    1\n",
       "California People Search                    1\n",
       "Tech Guides, Inc.                           1\n",
       "LensCrafters                                1\n",
       "California Wood Custom Solutions            1\n",
       "Dualitas Jewelry                            1\n",
       "Mesaba Heating & Air Conditioning           1\n",
       "Curology                                    1\n",
       "Seafood Shack                               1\n",
       "FROGBOX                                     1\n",
       "carmelblo                                   1\n",
       "Clarks Companies N.A.                       1\n",
       "Smart Source Inc                            1\n",
       "Strauss Group, Inc.                         1\n",
       "Urban Forest Pro                            1\n",
       "Kristi M Gundy Attorney at Law              1\n",
       "Crystal Springs Uplands School              1\n",
       "Taylor Smith Consulting                     1\n",
       "Wolfe Financial Inc                         1\n",
       "Olympic Aerospace, Inc.                     1\n",
       "Visulon                                     1\n",
       "ZAN Ceramics                                1\n",
       "DWM Facilities Maintenance                  1\n",
       "Name: company_name, dtype: int64"
      ]
     },
     "execution_count": 296,
     "metadata": {},
     "output_type": "execute_result"
    }
   ],
   "source": [
    "df.company_name.value_counts()[25:]"
   ]
  },
  {
   "cell_type": "code",
   "execution_count": 307,
   "metadata": {},
   "outputs": [],
   "source": [
    "# skipping companies that are recruiters.\n",
    "\n",
    "industry_categories = {\n",
    "    \"Lowe's Inc.\": \"retail\",\n",
    "    \"Kindred At Home\": \"healthcare\",\n",
    "    \"Kwik Trip Inc\": \"retail\",\n",
    "    \"Securitas Security Services USA, Inc\": \"security\",\n",
    "    \"SouthernCare, Inc.\": \"healthcare\",\n",
    "    \"J.Crew Group, Inc.\": \"retail\",\n",
    "    \"Maxim Healthcare Services\": \"healthcare\",\n",
    "    \"Bio-Reference Laboratories, Inc.\": \"pharmaceutical\",\n",
    "    \"Pfizer Inc.\": \"pharmaceutical\",\n",
    "    \"Safeway Inc\": \"retail\",\n",
    "    \"Safeway\": \"retail\",\n",
    "    \"Sodexo Inc.\": \"healthcare\",\n",
    "    \"Apex Systems Inc\": \"IT\",\n",
    "    \"7-Eleven\": \"retail\",\n",
    "    \"Regeneron\": \"pharmaceutical\",\n",
    "    \"Southern Star, Inc.\": \"retail\",\n",
    "    \"Marriott International, Inc\": \"hospitality\",\n",
    "    \"Pathfinders, Inc.\": \"IT\",\n",
    "    \"Planet Fitness Franchises\": \"fitness\",\n",
    "    \"Toys R Us\": \"retial\",\n",
    "    \"Pfizer, Inc.\": \"pharmaceutical\",\n",
    "    \"Nordstrom\": \"retail\",\n",
    "    \"Whole Foods Market\": \"retail\",\n",
    "    \"Panda Express\": \"dining\",\n",
    "    \"Nationwide Doctors Inc\": \"healthcare\",\n",
    "    \"Pro-Touch Nurses Inc.\": \"healthcare\",\n",
    "    \"Macy's\": \"retail\",\n",
    "    \"Open Systems Technologies, Inc.\": \"IT\",\n",
    "    \"Alliant Insurance Services\": \"insurance\",\n",
    "    \"Victoria's Secret\": \"retail\",\n",
    "    \"American Management Services, Inc.\": \"consulting\",\n",
    "    \"Walmart\": \"retial\",\n",
    "    \"TARGET\": \"retial\",\n",
    "    \"EMSI, Inc.\": \"healthcare\",\n",
    "    \"Nike\": \"clothing\",\n",
    "    \"Uber\": \"technology\",\n",
    "    \"Anthropologie\": \"retail\",\n",
    "    \"Anthem, Inc.\": \"insurance\",\n",
    "    \"Comtech Global Inc\": \"technology\",\n",
    "    \"Aramark\": \"food_services\",\n",
    "    \"CRH-Oldcastle\": \"wholesale\"\n",
    "}"
   ]
  },
  {
   "cell_type": "code",
   "execution_count": 309,
   "metadata": {
    "collapsed": true
   },
   "outputs": [],
   "source": [
    "# Let's see if this is enough to do some modeling.\n",
    "\n",
    "# we'll loop through all the company names, see if they show up in the dictionary we made,\n",
    "# and if they do, append the value corresponding to the industry in the dictionary to a list.\n",
    "\n",
    "industry = []\n",
    "\n",
    "for company in df.company_name:\n",
    "    if company in industry_categories.keys():\n",
    "        industry.append(industry_categories[company])\n",
    "    else:\n",
    "        industry.append(\"unknown\")\n",
    "        "
   ]
  },
  {
   "cell_type": "code",
   "execution_count": 310,
   "metadata": {
    "collapsed": true
   },
   "outputs": [],
   "source": [
    "df['industry'] = industry"
   ]
  },
  {
   "cell_type": "code",
   "execution_count": 311,
   "metadata": {},
   "outputs": [
    {
     "data": {
      "text/plain": [
       "unknown           17597\n",
       "retail             1249\n",
       "healthcare          536\n",
       "pharmaceutical      291\n",
       "IT                  168\n",
       "retial              116\n",
       "security            107\n",
       "insurance            64\n",
       "hospitality          58\n",
       "technology           55\n",
       "fitness              51\n",
       "dining               43\n",
       "consulting           36\n",
       "clothing             30\n",
       "food_services        27\n",
       "wholesale            26\n",
       "Name: industry, dtype: int64"
      ]
     },
     "execution_count": 311,
     "metadata": {},
     "output_type": "execute_result"
    }
   ],
   "source": [
    "# I think we've got enough to go on here, we can at least see if there are some differences between the 3 biggest\n",
    "# categories, retail, healthcare, and pharma.\n",
    "\n",
    "df.industry.value_counts()"
   ]
  },
  {
   "cell_type": "code",
   "execution_count": 318,
   "metadata": {
    "collapsed": true
   },
   "outputs": [],
   "source": [
    "# Let's make our dataframe of count vectorized words.  We're going to want to get rid of all the value columns,\n",
    "# and the job title columns.\n",
    "\n",
    "X_ind = df_words.copy()"
   ]
  },
  {
   "cell_type": "code",
   "execution_count": 319,
   "metadata": {
    "collapsed": true
   },
   "outputs": [],
   "source": [
    "for c in X_ind.columns:\n",
    "    if 'job_title' in c:\n",
    "        del(X_ind[c])"
   ]
  },
  {
   "cell_type": "code",
   "execution_count": 320,
   "metadata": {
    "collapsed": true
   },
   "outputs": [],
   "source": [
    "for c in X_ind.columns:\n",
    "    if \"_VALUE\" in c:\n",
    "        del(X_ind[c])"
   ]
  },
  {
   "cell_type": "code",
   "execution_count": 321,
   "metadata": {
    "collapsed": true
   },
   "outputs": [],
   "source": [
    "# let's add the industry classiciations to our data now, and then limit the data to just cases\n",
    "# where the industry is not \"unknown\"\n",
    "\n",
    "X_ind['industry'] = industry\n",
    "X_ind = X_ind[X_ind['industry'] != \"unknown\"]"
   ]
  },
  {
   "cell_type": "code",
   "execution_count": 324,
   "metadata": {},
   "outputs": [],
   "source": [
    "# get rid of salary range from our X\n",
    "\n",
    "del(X_ind['salary_range'])"
   ]
  },
  {
   "cell_type": "code",
   "execution_count": 326,
   "metadata": {
    "collapsed": true
   },
   "outputs": [],
   "source": [
    "# we also need to get rid of all the location and company name columns, and the seniority column\n",
    "\n",
    "del(X_ind['seniority'])\n",
    "\n",
    "for c in X_ind.columns:\n",
    "    if \"company_name_\" in c:\n",
    "        del(X_ind[c])\n",
    "\n",
    "for c in X_ind.columns:\n",
    "    if \"location_\" in c:\n",
    "        del(X_ind[c])      \n",
    "\n"
   ]
  },
  {
   "cell_type": "code",
   "execution_count": 327,
   "metadata": {
    "collapsed": true
   },
   "outputs": [],
   "source": [
    "# and star rating.  We just care about the words from the summaries.\n",
    "\n",
    "del(X_ind['star_rating'])"
   ]
  },
  {
   "cell_type": "code",
   "execution_count": 329,
   "metadata": {
    "scrolled": true
   },
   "outputs": [
    {
     "data": {
      "text/html": [
       "<div>\n",
       "<table border=\"1\" class=\"dataframe\">\n",
       "  <thead>\n",
       "    <tr style=\"text-align: right;\">\n",
       "      <th></th>\n",
       "      <th>freq</th>\n",
       "    </tr>\n",
       "  </thead>\n",
       "  <tbody>\n",
       "    <tr>\n",
       "      <th>position</th>\n",
       "      <td>659</td>\n",
       "    </tr>\n",
       "    <tr>\n",
       "      <th>kwik</th>\n",
       "      <td>518</td>\n",
       "    </tr>\n",
       "    <tr>\n",
       "      <th>trip</th>\n",
       "      <td>501</td>\n",
       "    </tr>\n",
       "    <tr>\n",
       "      <th>kwik trip</th>\n",
       "      <td>501</td>\n",
       "    </tr>\n",
       "    <tr>\n",
       "      <th>store</th>\n",
       "      <td>482</td>\n",
       "    </tr>\n",
       "    <tr>\n",
       "      <th>home</th>\n",
       "      <td>466</td>\n",
       "    </tr>\n",
       "    <tr>\n",
       "      <th>services</th>\n",
       "      <td>378</td>\n",
       "    </tr>\n",
       "    <tr>\n",
       "      <th>job</th>\n",
       "      <td>347</td>\n",
       "    </tr>\n",
       "    <tr>\n",
       "      <th>work</th>\n",
       "      <td>321</td>\n",
       "    </tr>\n",
       "    <tr>\n",
       "      <th>care</th>\n",
       "      <td>314</td>\n",
       "    </tr>\n",
       "    <tr>\n",
       "      <th>time</th>\n",
       "      <td>302</td>\n",
       "    </tr>\n",
       "    <tr>\n",
       "      <th>kindred</th>\n",
       "      <td>300</td>\n",
       "    </tr>\n",
       "    <tr>\n",
       "      <th>healthcare</th>\n",
       "      <td>281</td>\n",
       "    </tr>\n",
       "  </tbody>\n",
       "</table>\n",
       "</div>"
      ],
      "text/plain": [
       "           freq\n",
       "position    659\n",
       "kwik        518\n",
       "trip        501\n",
       "kwik trip   501\n",
       "store       482\n",
       "home        466\n",
       "services    378\n",
       "job         347\n",
       "work        321\n",
       "care        314\n",
       "time        302\n",
       "kindred     300\n",
       "healthcare  281"
      ]
     },
     "execution_count": 329,
     "metadata": {},
     "output_type": "execute_result"
    }
   ],
   "source": [
    "tf_df    =  pd.DataFrame(X_ind.sum(), columns=[\"freq\"])\n",
    "tf_df.sort_values(\"freq\", ascending=False)[2:15]\n",
    "\n",
    "# looks like words associated with \"kwik trip\" are coming up a lot, which means that that company is way \n",
    "# over represented in the data.  The model will probably not generalize well because of that.\n",
    "\n",
    "# at this point I'd probably want to go back and gather more data for this problem, but I'm going to plow ahead."
   ]
  },
  {
   "cell_type": "code",
   "execution_count": 330,
   "metadata": {
    "scrolled": false
   },
   "outputs": [
    {
     "data": {
      "text/html": [
       "<div>\n",
       "<table border=\"1\" class=\"dataframe\">\n",
       "  <thead>\n",
       "    <tr style=\"text-align: right;\">\n",
       "      <th></th>\n",
       "      <th>freq</th>\n",
       "    </tr>\n",
       "  </thead>\n",
       "  <tbody>\n",
       "    <tr>\n",
       "      <th>home</th>\n",
       "      <td>460</td>\n",
       "    </tr>\n",
       "    <tr>\n",
       "      <th>care</th>\n",
       "      <td>302</td>\n",
       "    </tr>\n",
       "    <tr>\n",
       "      <th>kindred</th>\n",
       "      <td>300</td>\n",
       "    </tr>\n",
       "    <tr>\n",
       "      <th>healthcare</th>\n",
       "      <td>262</td>\n",
       "    </tr>\n",
       "    <tr>\n",
       "      <th>hospice</th>\n",
       "      <td>227</td>\n",
       "    </tr>\n",
       "    <tr>\n",
       "      <th>services</th>\n",
       "      <td>200</td>\n",
       "    </tr>\n",
       "    <tr>\n",
       "      <th>medical</th>\n",
       "      <td>179</td>\n",
       "    </tr>\n",
       "    <tr>\n",
       "      <th>health</th>\n",
       "      <td>169</td>\n",
       "    </tr>\n",
       "    <tr>\n",
       "      <th>leading</th>\n",
       "      <td>167</td>\n",
       "    </tr>\n",
       "    <tr>\n",
       "      <th>home health</th>\n",
       "      <td>156</td>\n",
       "    </tr>\n",
       "    <tr>\n",
       "      <th>provider</th>\n",
       "      <td>152</td>\n",
       "    </tr>\n",
       "    <tr>\n",
       "      <th>comprehensive</th>\n",
       "      <td>151</td>\n",
       "    </tr>\n",
       "    <tr>\n",
       "      <th>leading provider</th>\n",
       "      <td>151</td>\n",
       "    </tr>\n",
       "  </tbody>\n",
       "</table>\n",
       "</div>"
      ],
      "text/plain": [
       "                 freq\n",
       "home              460\n",
       "care              302\n",
       "kindred           300\n",
       "healthcare        262\n",
       "hospice           227\n",
       "services          200\n",
       "medical           179\n",
       "health            169\n",
       "leading           167\n",
       "home health       156\n",
       "provider          152\n",
       "comprehensive     151\n",
       "leading provider  151"
      ]
     },
     "execution_count": 330,
     "metadata": {},
     "output_type": "execute_result"
    }
   ],
   "source": [
    "# Let's look just at healthcare.\n",
    "\n",
    "tf_df    =  pd.DataFrame(X_ind[X_ind['industry']==\"healthcare\"].sum(), columns=[\"freq\"])\n",
    "tf_df.sort_values(\"freq\", ascending=False)[2:15]\n",
    "\n",
    "# A lot of words pretty clearly associated with healthcare here.  Interesting that \"home\" shows up on the top,\n",
    "# may be a lot of in home care."
   ]
  },
  {
   "cell_type": "code",
   "execution_count": 331,
   "metadata": {},
   "outputs": [
    {
     "data": {
      "text/html": [
       "<div>\n",
       "<table border=\"1\" class=\"dataframe\">\n",
       "  <thead>\n",
       "    <tr style=\"text-align: right;\">\n",
       "      <th></th>\n",
       "      <th>freq</th>\n",
       "    </tr>\n",
       "  </thead>\n",
       "  <tbody>\n",
       "    <tr>\n",
       "      <th>position</th>\n",
       "      <td>576</td>\n",
       "    </tr>\n",
       "    <tr>\n",
       "      <th>kwik</th>\n",
       "      <td>518</td>\n",
       "    </tr>\n",
       "    <tr>\n",
       "      <th>trip</th>\n",
       "      <td>501</td>\n",
       "    </tr>\n",
       "    <tr>\n",
       "      <th>kwik trip</th>\n",
       "      <td>501</td>\n",
       "    </tr>\n",
       "    <tr>\n",
       "      <th>store</th>\n",
       "      <td>426</td>\n",
       "    </tr>\n",
       "    <tr>\n",
       "      <th>descriptionresponsible</th>\n",
       "      <td>256</td>\n",
       "    </tr>\n",
       "    <tr>\n",
       "      <th>position descriptionresponsible</th>\n",
       "      <td>254</td>\n",
       "    </tr>\n",
       "    <tr>\n",
       "      <th>includes</th>\n",
       "      <td>228</td>\n",
       "    </tr>\n",
       "    <tr>\n",
       "      <th>customers</th>\n",
       "      <td>216</td>\n",
       "    </tr>\n",
       "    <tr>\n",
       "      <th>merchandise</th>\n",
       "      <td>199</td>\n",
       "    </tr>\n",
       "    <tr>\n",
       "      <th>sales</th>\n",
       "      <td>189</td>\n",
       "    </tr>\n",
       "    <tr>\n",
       "      <th>equipment</th>\n",
       "      <td>183</td>\n",
       "    </tr>\n",
       "    <tr>\n",
       "      <th>process</th>\n",
       "      <td>181</td>\n",
       "    </tr>\n",
       "  </tbody>\n",
       "</table>\n",
       "</div>"
      ],
      "text/plain": [
       "                                freq\n",
       "position                         576\n",
       "kwik                             518\n",
       "trip                             501\n",
       "kwik trip                        501\n",
       "store                            426\n",
       "descriptionresponsible           256\n",
       "position descriptionresponsible  254\n",
       "includes                         228\n",
       "customers                        216\n",
       "merchandise                      199\n",
       "sales                            189\n",
       "equipment                        183\n",
       "process                          181"
      ]
     },
     "execution_count": 331,
     "metadata": {},
     "output_type": "execute_result"
    }
   ],
   "source": [
    "# now let's look at just retail\n",
    "\n",
    "tf_df    =  pd.DataFrame(X_ind[X_ind['industry']==\"retail\"].sum(), columns=[\"freq\"])\n",
    "tf_df.sort_values(\"freq\", ascending=False)[2:15]\n",
    "\n",
    "# this is where kwik trip seems to be dominating, all there descriptions must be really similar.  also seems like\n",
    "# there's a typo in \"descriptionresponsible\" which will probably screw our model up a bit.  I may just end up\n",
    "# dropping kwik trip job descriptions from the dataset."
   ]
  },
  {
   "cell_type": "markdown",
   "metadata": {},
   "source": [
    "### Modeling"
   ]
  },
  {
   "cell_type": "code",
   "execution_count": 332,
   "metadata": {
    "collapsed": true
   },
   "outputs": [],
   "source": [
    "# now let's get our y set up and remove 'industry' from X\n",
    "\n",
    "y_ind = X_ind['industry']\n",
    "del(X_ind['industry'])"
   ]
  },
  {
   "cell_type": "code",
   "execution_count": 334,
   "metadata": {},
   "outputs": [
    {
     "data": {
      "text/plain": [
       "retail            1249\n",
       "healthcare         536\n",
       "pharmaceutical     291\n",
       "IT                 168\n",
       "retial             116\n",
       "security           107\n",
       "insurance           64\n",
       "hospitality         58\n",
       "technology          55\n",
       "fitness             51\n",
       "dining              43\n",
       "consulting          36\n",
       "clothing            30\n",
       "food_services       27\n",
       "wholesale           26\n",
       "Name: industry, dtype: int64"
      ]
     },
     "execution_count": 334,
     "metadata": {},
     "output_type": "execute_result"
    }
   ],
   "source": [
    "# first let's calculate our baseline\n",
    "\n",
    "y_ind.value_counts()"
   ]
  },
  {
   "cell_type": "code",
   "execution_count": 336,
   "metadata": {
    "collapsed": true
   },
   "outputs": [],
   "source": [
    "baseline = float(y_ind.value_counts()[0])/sum(y_ind.value_counts().values)"
   ]
  },
  {
   "cell_type": "code",
   "execution_count": 337,
   "metadata": {},
   "outputs": [
    {
     "data": {
      "text/plain": [
       "0.4371718585929297"
      ]
     },
     "execution_count": 337,
     "metadata": {},
     "output_type": "execute_result"
    }
   ],
   "source": [
    "baseline"
   ]
  },
  {
   "cell_type": "code",
   "execution_count": 333,
   "metadata": {
    "collapsed": true
   },
   "outputs": [],
   "source": [
    "# Let's start by using a random forest model.\n",
    "\n",
    "rfc_ind = RandomForestClassifier()\n",
    "\n",
    "params_ind = {\n",
    "    \"max_depth\": [20,30,40],\n",
    "    \"n_estimators\": [10,20,30],\n",
    "    \"max_features\": [100,150,200,250]\n",
    "}\n",
    "\n",
    "gscv_ind = GridSearchCV(rfc_ind, params_ind, cv=3, verbose=1)"
   ]
  },
  {
   "cell_type": "code",
   "execution_count": 339,
   "metadata": {},
   "outputs": [
    {
     "name": "stdout",
     "output_type": "stream",
     "text": [
      "Fitting 3 folds for each of 36 candidates, totalling 108 fits\n"
     ]
    },
    {
     "name": "stderr",
     "output_type": "stream",
     "text": [
      "[Parallel(n_jobs=1)]: Done 108 out of 108 | elapsed:  2.5min finished\n"
     ]
    },
    {
     "data": {
      "text/plain": [
       "GridSearchCV(cv=3, error_score='raise',\n",
       "       estimator=RandomForestClassifier(bootstrap=True, class_weight=None, criterion='gini',\n",
       "            max_depth=None, max_features='auto', max_leaf_nodes=None,\n",
       "            min_impurity_split=1e-07, min_samples_leaf=1,\n",
       "            min_samples_split=2, min_weight_fraction_leaf=0.0,\n",
       "            n_estimators=10, n_jobs=1, oob_score=False, random_state=None,\n",
       "            verbose=0, warm_start=False),\n",
       "       fit_params={}, iid=True, n_jobs=1,\n",
       "       param_grid={'n_estimators': [10, 20, 30], 'max_features': [100, 150, 200, 250], 'max_depth': [20, 30, 40]},\n",
       "       pre_dispatch='2*n_jobs', refit=True, return_train_score=True,\n",
       "       scoring=None, verbose=1)"
      ]
     },
     "execution_count": 339,
     "metadata": {},
     "output_type": "execute_result"
    }
   ],
   "source": [
    "gscv_ind.fit(np.array(X_ind), y_ind)"
   ]
  },
  {
   "cell_type": "code",
   "execution_count": 340,
   "metadata": {},
   "outputs": [
    {
     "data": {
      "text/plain": [
       "0.72593629681484073"
      ]
     },
     "execution_count": 340,
     "metadata": {},
     "output_type": "execute_result"
    }
   ],
   "source": [
    "gscv_ind.best_score_"
   ]
  },
  {
   "cell_type": "code",
   "execution_count": 341,
   "metadata": {},
   "outputs": [
    {
     "data": {
      "text/plain": [
       "{'max_depth': 40, 'max_features': 150, 'n_estimators': 30}"
      ]
     },
     "execution_count": 341,
     "metadata": {},
     "output_type": "execute_result"
    }
   ],
   "source": [
    "gscv_ind.best_params_"
   ]
  },
  {
   "cell_type": "code",
   "execution_count": 342,
   "metadata": {
    "collapsed": true
   },
   "outputs": [],
   "source": [
    "# going to try this again with higher depth\n",
    "\n",
    "params_ind = {\n",
    "    \"max_depth\": [40,50,60],\n",
    "    \"n_estimators\": [30],\n",
    "    \"max_features\": [100,150,200]\n",
    "}\n",
    "\n",
    "gscv_ind = GridSearchCV(rfc_ind, params_ind, cv=3, verbose=1)"
   ]
  },
  {
   "cell_type": "code",
   "execution_count": 343,
   "metadata": {},
   "outputs": [
    {
     "name": "stdout",
     "output_type": "stream",
     "text": [
      "Fitting 3 folds for each of 9 candidates, totalling 27 fits\n"
     ]
    },
    {
     "name": "stderr",
     "output_type": "stream",
     "text": [
      "[Parallel(n_jobs=1)]: Done  27 out of  27 | elapsed:   56.1s finished\n"
     ]
    },
    {
     "data": {
      "text/plain": [
       "GridSearchCV(cv=3, error_score='raise',\n",
       "       estimator=RandomForestClassifier(bootstrap=True, class_weight=None, criterion='gini',\n",
       "            max_depth=None, max_features='auto', max_leaf_nodes=None,\n",
       "            min_impurity_split=1e-07, min_samples_leaf=1,\n",
       "            min_samples_split=2, min_weight_fraction_leaf=0.0,\n",
       "            n_estimators=10, n_jobs=1, oob_score=False, random_state=None,\n",
       "            verbose=0, warm_start=False),\n",
       "       fit_params={}, iid=True, n_jobs=1,\n",
       "       param_grid={'n_estimators': [30], 'max_features': [100, 150, 200], 'max_depth': [40, 50, 60]},\n",
       "       pre_dispatch='2*n_jobs', refit=True, return_train_score=True,\n",
       "       scoring=None, verbose=1)"
      ]
     },
     "execution_count": 343,
     "metadata": {},
     "output_type": "execute_result"
    }
   ],
   "source": [
    "gscv_ind.fit(np.array(X_ind), y_ind)"
   ]
  },
  {
   "cell_type": "code",
   "execution_count": 344,
   "metadata": {},
   "outputs": [
    {
     "data": {
      "text/plain": [
       "0.7248862443122156"
      ]
     },
     "execution_count": 344,
     "metadata": {},
     "output_type": "execute_result"
    }
   ],
   "source": [
    "gscv_ind.best_score_"
   ]
  },
  {
   "cell_type": "code",
   "execution_count": 345,
   "metadata": {},
   "outputs": [
    {
     "data": {
      "text/plain": [
       "{'max_depth': 50, 'max_features': 100, 'n_estimators': 30}"
      ]
     },
     "execution_count": 345,
     "metadata": {},
     "output_type": "execute_result"
    }
   ],
   "source": [
    "gscv_ind.best_params_"
   ]
  },
  {
   "cell_type": "code",
   "execution_count": 346,
   "metadata": {
    "collapsed": true
   },
   "outputs": [],
   "source": [
    "# Our model is staying pretty similar even while tweeking these values.\n",
    "# Let's try logistic regression\n",
    "\n",
    "log_reg_ind = LogisticRegression()\n",
    "\n",
    "params_ind_lr = {\n",
    "    \"C\": np.linspace(0.05,1,20),\n",
    "    \"penalty\": ['l1', 'l2']\n",
    "}\n",
    "\n",
    "gscv_ind_lr = GridSearchCV(log_reg_ind, params_ind_lr, cv=3, verbose=1)"
   ]
  },
  {
   "cell_type": "code",
   "execution_count": 347,
   "metadata": {},
   "outputs": [
    {
     "name": "stdout",
     "output_type": "stream",
     "text": [
      "Fitting 3 folds for each of 40 candidates, totalling 120 fits\n"
     ]
    },
    {
     "name": "stderr",
     "output_type": "stream",
     "text": [
      "[Parallel(n_jobs=1)]: Done 120 out of 120 | elapsed:  1.4min finished\n"
     ]
    },
    {
     "data": {
      "text/plain": [
       "GridSearchCV(cv=3, error_score='raise',\n",
       "       estimator=LogisticRegression(C=1.0, class_weight=None, dual=False, fit_intercept=True,\n",
       "          intercept_scaling=1, max_iter=100, multi_class='ovr', n_jobs=1,\n",
       "          penalty='l2', random_state=None, solver='liblinear', tol=0.0001,\n",
       "          verbose=0, warm_start=False),\n",
       "       fit_params={}, iid=True, n_jobs=1,\n",
       "       param_grid={'penalty': ['l1', 'l2'], 'C': array([ 0.05,  0.1 ,  0.15,  0.2 ,  0.25,  0.3 ,  0.35,  0.4 ,  0.45,\n",
       "        0.5 ,  0.55,  0.6 ,  0.65,  0.7 ,  0.75,  0.8 ,  0.85,  0.9 ,\n",
       "        0.95,  1.  ])},\n",
       "       pre_dispatch='2*n_jobs', refit=True, return_train_score=True,\n",
       "       scoring=None, verbose=1)"
      ]
     },
     "execution_count": 347,
     "metadata": {},
     "output_type": "execute_result"
    }
   ],
   "source": [
    "gscv_ind_lr.fit(np.array(X_ind), y_ind)"
   ]
  },
  {
   "cell_type": "code",
   "execution_count": 348,
   "metadata": {},
   "outputs": [
    {
     "data": {
      "text/plain": [
       "0.73538676933846692"
      ]
     },
     "execution_count": 348,
     "metadata": {},
     "output_type": "execute_result"
    }
   ],
   "source": [
    "# looks like logistic regression is actually performing a bit better on this problem!\n",
    "\n",
    "gscv_ind_lr.best_score_"
   ]
  },
  {
   "cell_type": "code",
   "execution_count": 349,
   "metadata": {},
   "outputs": [
    {
     "data": {
      "text/plain": [
       "{'C': 0.050000000000000003, 'penalty': 'l2'}"
      ]
     },
     "execution_count": 349,
     "metadata": {},
     "output_type": "execute_result"
    }
   ],
   "source": [
    "gscv_ind_lr.best_params_"
   ]
  },
  {
   "cell_type": "code",
   "execution_count": 350,
   "metadata": {
    "collapsed": true
   },
   "outputs": [],
   "source": [
    "# Let's try using some smaller C values, since the best performing was our lowest C from the gridsearch.\n",
    "\n",
    "params_ind_lr = {\n",
    "    \"C\": np.linspace(0.005,0.1,30),\n",
    "    \"penalty\": ['l1', 'l2']\n",
    "}\n",
    "\n",
    "gscv_ind_lr = GridSearchCV(log_reg_ind, params_ind_lr, cv=3, verbose=1)"
   ]
  },
  {
   "cell_type": "code",
   "execution_count": 351,
   "metadata": {
    "scrolled": true
   },
   "outputs": [
    {
     "name": "stdout",
     "output_type": "stream",
     "text": [
      "Fitting 3 folds for each of 60 candidates, totalling 180 fits\n"
     ]
    },
    {
     "name": "stderr",
     "output_type": "stream",
     "text": [
      "[Parallel(n_jobs=1)]: Done 180 out of 180 | elapsed:  1.9min finished\n"
     ]
    },
    {
     "data": {
      "text/plain": [
       "GridSearchCV(cv=3, error_score='raise',\n",
       "       estimator=LogisticRegression(C=1.0, class_weight=None, dual=False, fit_intercept=True,\n",
       "          intercept_scaling=1, max_iter=100, multi_class='ovr', n_jobs=1,\n",
       "          penalty='l2', random_state=None, solver='liblinear', tol=0.0001,\n",
       "          verbose=0, warm_start=False),\n",
       "       fit_params={}, iid=True, n_jobs=1,\n",
       "       param_grid={'penalty': ['l1', 'l2'], 'C': array([ 0.005  ,  0.00828,  0.01155,  0.01483,  0.0181 ,  0.02138,\n",
       "        0.02466,  0.02793,  0.03121,  0.03448,  0.03776,  0.04103,\n",
       "        0.04431,  0.04759,  0.05086,  0.05414,  0.05741,  0.06069,\n",
       "        0.06397,  0.06724,  0.07052,  0.07379,  0.07707,  0.08034,\n",
       "        0.08362,  0.0869 ,  0.09017,  0.09345,  0.09672,  0.1    ])},\n",
       "       pre_dispatch='2*n_jobs', refit=True, return_train_score=True,\n",
       "       scoring=None, verbose=1)"
      ]
     },
     "execution_count": 351,
     "metadata": {},
     "output_type": "execute_result"
    }
   ],
   "source": [
    "gscv_ind_lr.fit(np.array(X_ind), y_ind)"
   ]
  },
  {
   "cell_type": "code",
   "execution_count": 352,
   "metadata": {},
   "outputs": [
    {
     "name": "stdout",
     "output_type": "stream",
     "text": [
      "0.73608680434 {'penalty': 'l2', 'C': 0.047586206896551721}\n"
     ]
    }
   ],
   "source": [
    "# managed to improve the model a tiny bit.\n",
    "\n",
    "print gscv_ind_lr.best_score_, gscv_ind_lr.best_params_"
   ]
  },
  {
   "cell_type": "code",
   "execution_count": 354,
   "metadata": {},
   "outputs": [
    {
     "data": {
      "text/plain": [
       "LogisticRegression(C=0.047586206896551721, class_weight=None, dual=False,\n",
       "          fit_intercept=True, intercept_scaling=1, max_iter=100,\n",
       "          multi_class='ovr', n_jobs=1, penalty='l2', random_state=None,\n",
       "          solver='liblinear', tol=0.0001, verbose=0, warm_start=False)"
      ]
     },
     "execution_count": 354,
     "metadata": {},
     "output_type": "execute_result"
    }
   ],
   "source": [
    "# let's fit a logistic regression with the best parameters.\n",
    "\n",
    "log_reg_ind = LogisticRegression(C=gscv_ind_lr.best_params_['C'], penalty=gscv_ind_lr.best_params_['penalty'])\n",
    "log_reg_ind.fit(np.array(X_ind), y_ind)"
   ]
  },
  {
   "cell_type": "code",
   "execution_count": 359,
   "metadata": {},
   "outputs": [],
   "source": [
    "# Let's make a coefficient dataframe we can look at\n",
    "\n",
    "coef_matrix = pd.DataFrame(log_reg_ind.coef_.T, columns=log_reg_ind.classes_, index=X_ind.columns)"
   ]
  },
  {
   "cell_type": "code",
   "execution_count": 360,
   "metadata": {},
   "outputs": [
    {
     "data": {
      "text/html": [
       "<div>\n",
       "<table border=\"1\" class=\"dataframe\">\n",
       "  <thead>\n",
       "    <tr style=\"text-align: right;\">\n",
       "      <th></th>\n",
       "      <th>IT</th>\n",
       "      <th>clothing</th>\n",
       "      <th>consulting</th>\n",
       "      <th>dining</th>\n",
       "      <th>fitness</th>\n",
       "      <th>food_services</th>\n",
       "      <th>healthcare</th>\n",
       "      <th>hospitality</th>\n",
       "      <th>insurance</th>\n",
       "      <th>pharmaceutical</th>\n",
       "      <th>retail</th>\n",
       "      <th>retial</th>\n",
       "      <th>security</th>\n",
       "      <th>technology</th>\n",
       "      <th>wholesale</th>\n",
       "    </tr>\n",
       "  </thead>\n",
       "  <tbody>\n",
       "    <tr>\n",
       "      <th>index</th>\n",
       "      <td>-0.000065</td>\n",
       "      <td>-0.000367</td>\n",
       "      <td>-0.000503</td>\n",
       "      <td>-0.000180</td>\n",
       "      <td>-0.000533</td>\n",
       "      <td>-4.432659e-04</td>\n",
       "      <td>0.000012</td>\n",
       "      <td>-0.000265</td>\n",
       "      <td>-0.000251</td>\n",
       "      <td>-0.000067</td>\n",
       "      <td>-0.000151</td>\n",
       "      <td>-0.000152</td>\n",
       "      <td>-0.000155</td>\n",
       "      <td>-0.000172</td>\n",
       "      <td>-0.000264</td>\n",
       "    </tr>\n",
       "    <tr>\n",
       "      <th>00</th>\n",
       "      <td>-0.027253</td>\n",
       "      <td>-0.002245</td>\n",
       "      <td>-0.000672</td>\n",
       "      <td>-0.006986</td>\n",
       "      <td>-0.000765</td>\n",
       "      <td>-3.811961e-04</td>\n",
       "      <td>-0.030272</td>\n",
       "      <td>-0.006028</td>\n",
       "      <td>-0.004533</td>\n",
       "      <td>0.049913</td>\n",
       "      <td>-0.023726</td>\n",
       "      <td>-0.008175</td>\n",
       "      <td>0.041562</td>\n",
       "      <td>0.047554</td>\n",
       "      <td>-0.005262</td>\n",
       "    </tr>\n",
       "    <tr>\n",
       "      <th>00 00</th>\n",
       "      <td>-0.004192</td>\n",
       "      <td>-0.000243</td>\n",
       "      <td>-0.000075</td>\n",
       "      <td>-0.000991</td>\n",
       "      <td>-0.000084</td>\n",
       "      <td>-3.691264e-05</td>\n",
       "      <td>-0.005060</td>\n",
       "      <td>-0.000797</td>\n",
       "      <td>-0.000608</td>\n",
       "      <td>0.008478</td>\n",
       "      <td>-0.003251</td>\n",
       "      <td>-0.001154</td>\n",
       "      <td>-0.001249</td>\n",
       "      <td>0.026260</td>\n",
       "      <td>-0.000681</td>\n",
       "    </tr>\n",
       "    <tr>\n",
       "      <th>00 hour</th>\n",
       "      <td>-0.006003</td>\n",
       "      <td>-0.000601</td>\n",
       "      <td>-0.000188</td>\n",
       "      <td>-0.001600</td>\n",
       "      <td>-0.000221</td>\n",
       "      <td>-1.163059e-04</td>\n",
       "      <td>-0.005114</td>\n",
       "      <td>-0.001426</td>\n",
       "      <td>-0.001095</td>\n",
       "      <td>-0.006547</td>\n",
       "      <td>-0.005155</td>\n",
       "      <td>-0.001764</td>\n",
       "      <td>0.029562</td>\n",
       "      <td>-0.001649</td>\n",
       "      <td>-0.001400</td>\n",
       "    </tr>\n",
       "    <tr>\n",
       "      <th>00 pm</th>\n",
       "      <td>-0.010295</td>\n",
       "      <td>-0.000854</td>\n",
       "      <td>-0.000278</td>\n",
       "      <td>-0.002984</td>\n",
       "      <td>-0.000309</td>\n",
       "      <td>-1.460205e-04</td>\n",
       "      <td>-0.010752</td>\n",
       "      <td>-0.002634</td>\n",
       "      <td>-0.001961</td>\n",
       "      <td>0.051210</td>\n",
       "      <td>-0.008453</td>\n",
       "      <td>-0.003481</td>\n",
       "      <td>-0.003645</td>\n",
       "      <td>-0.003000</td>\n",
       "      <td>-0.002273</td>\n",
       "    </tr>\n",
       "    <tr>\n",
       "      <th>000</th>\n",
       "      <td>0.045002</td>\n",
       "      <td>-0.009553</td>\n",
       "      <td>-0.006635</td>\n",
       "      <td>-0.010230</td>\n",
       "      <td>-0.006972</td>\n",
       "      <td>1.124515e-01</td>\n",
       "      <td>-0.027243</td>\n",
       "      <td>-0.015888</td>\n",
       "      <td>-0.010341</td>\n",
       "      <td>-0.020040</td>\n",
       "      <td>-0.039167</td>\n",
       "      <td>-0.012176</td>\n",
       "      <td>-0.011667</td>\n",
       "      <td>-0.011268</td>\n",
       "      <td>-0.010875</td>\n",
       "    </tr>\n",
       "    <tr>\n",
       "      <th>00pm</th>\n",
       "      <td>-0.017396</td>\n",
       "      <td>-0.004670</td>\n",
       "      <td>-0.003268</td>\n",
       "      <td>-0.007403</td>\n",
       "      <td>-0.003424</td>\n",
       "      <td>-3.798299e-03</td>\n",
       "      <td>-0.019551</td>\n",
       "      <td>-0.007837</td>\n",
       "      <td>-0.006658</td>\n",
       "      <td>0.038798</td>\n",
       "      <td>-0.013272</td>\n",
       "      <td>-0.008886</td>\n",
       "      <td>0.006658</td>\n",
       "      <td>-0.008342</td>\n",
       "      <td>-0.007086</td>\n",
       "    </tr>\n",
       "    <tr>\n",
       "      <th>10</th>\n",
       "      <td>-0.007974</td>\n",
       "      <td>-0.023926</td>\n",
       "      <td>-0.014756</td>\n",
       "      <td>-0.003923</td>\n",
       "      <td>-0.015227</td>\n",
       "      <td>-1.763158e-02</td>\n",
       "      <td>-0.064911</td>\n",
       "      <td>-0.031131</td>\n",
       "      <td>-0.024348</td>\n",
       "      <td>-0.033881</td>\n",
       "      <td>0.073003</td>\n",
       "      <td>-0.033276</td>\n",
       "      <td>0.000882</td>\n",
       "      <td>0.024057</td>\n",
       "      <td>-0.025891</td>\n",
       "    </tr>\n",
       "    <tr>\n",
       "      <th>10 years</th>\n",
       "      <td>0.000000</td>\n",
       "      <td>0.000000</td>\n",
       "      <td>0.000000</td>\n",
       "      <td>0.000000</td>\n",
       "      <td>0.000000</td>\n",
       "      <td>0.000000e+00</td>\n",
       "      <td>0.000000</td>\n",
       "      <td>0.000000</td>\n",
       "      <td>0.000000</td>\n",
       "      <td>0.000000</td>\n",
       "      <td>0.000000</td>\n",
       "      <td>0.000000</td>\n",
       "      <td>0.000000</td>\n",
       "      <td>0.000000</td>\n",
       "      <td>0.000000</td>\n",
       "    </tr>\n",
       "    <tr>\n",
       "      <th>100</th>\n",
       "      <td>-0.055359</td>\n",
       "      <td>-0.061080</td>\n",
       "      <td>-0.049710</td>\n",
       "      <td>-0.062292</td>\n",
       "      <td>-0.055629</td>\n",
       "      <td>-7.876479e-02</td>\n",
       "      <td>-0.081065</td>\n",
       "      <td>-0.071324</td>\n",
       "      <td>-0.075582</td>\n",
       "      <td>-0.085320</td>\n",
       "      <td>0.204272</td>\n",
       "      <td>-0.102783</td>\n",
       "      <td>-0.089546</td>\n",
       "      <td>-0.086240</td>\n",
       "      <td>-0.067711</td>\n",
       "    </tr>\n",
       "    <tr>\n",
       "      <th>100 best</th>\n",
       "      <td>-0.043856</td>\n",
       "      <td>-0.028109</td>\n",
       "      <td>-0.021463</td>\n",
       "      <td>-0.022519</td>\n",
       "      <td>-0.027865</td>\n",
       "      <td>-3.798263e-02</td>\n",
       "      <td>-0.034127</td>\n",
       "      <td>-0.030067</td>\n",
       "      <td>-0.038300</td>\n",
       "      <td>-0.036599</td>\n",
       "      <td>0.137365</td>\n",
       "      <td>-0.049893</td>\n",
       "      <td>-0.037381</td>\n",
       "      <td>-0.038647</td>\n",
       "      <td>-0.027970</td>\n",
       "    </tr>\n",
       "    <tr>\n",
       "      <th>100 best companies</th>\n",
       "      <td>-0.043856</td>\n",
       "      <td>-0.028109</td>\n",
       "      <td>-0.021463</td>\n",
       "      <td>-0.022519</td>\n",
       "      <td>-0.027865</td>\n",
       "      <td>-3.798263e-02</td>\n",
       "      <td>-0.034127</td>\n",
       "      <td>-0.030067</td>\n",
       "      <td>-0.038300</td>\n",
       "      <td>-0.036599</td>\n",
       "      <td>0.137365</td>\n",
       "      <td>-0.049893</td>\n",
       "      <td>-0.037381</td>\n",
       "      <td>-0.038647</td>\n",
       "      <td>-0.027970</td>\n",
       "    </tr>\n",
       "    <tr>\n",
       "      <th>100 best companies work</th>\n",
       "      <td>-0.043856</td>\n",
       "      <td>-0.028109</td>\n",
       "      <td>-0.021463</td>\n",
       "      <td>-0.022519</td>\n",
       "      <td>-0.027865</td>\n",
       "      <td>-3.798263e-02</td>\n",
       "      <td>-0.034127</td>\n",
       "      <td>-0.030067</td>\n",
       "      <td>-0.038300</td>\n",
       "      <td>-0.036599</td>\n",
       "      <td>0.137365</td>\n",
       "      <td>-0.049893</td>\n",
       "      <td>-0.037381</td>\n",
       "      <td>-0.038647</td>\n",
       "      <td>-0.027970</td>\n",
       "    </tr>\n",
       "    <tr>\n",
       "      <th>100 company</th>\n",
       "      <td>-0.052251</td>\n",
       "      <td>-0.032458</td>\n",
       "      <td>-0.028044</td>\n",
       "      <td>-0.037947</td>\n",
       "      <td>-0.027593</td>\n",
       "      <td>-4.060642e-02</td>\n",
       "      <td>-0.040367</td>\n",
       "      <td>-0.039690</td>\n",
       "      <td>-0.036175</td>\n",
       "      <td>-0.044394</td>\n",
       "      <td>0.075728</td>\n",
       "      <td>-0.051390</td>\n",
       "      <td>-0.050503</td>\n",
       "      <td>-0.046360</td>\n",
       "      <td>-0.038582</td>\n",
       "    </tr>\n",
       "    <tr>\n",
       "      <th>100 company largest</th>\n",
       "      <td>-0.052251</td>\n",
       "      <td>-0.032458</td>\n",
       "      <td>-0.028044</td>\n",
       "      <td>-0.037947</td>\n",
       "      <td>-0.027593</td>\n",
       "      <td>-4.060642e-02</td>\n",
       "      <td>-0.040367</td>\n",
       "      <td>-0.039690</td>\n",
       "      <td>-0.036175</td>\n",
       "      <td>-0.044394</td>\n",
       "      <td>0.075728</td>\n",
       "      <td>-0.051390</td>\n",
       "      <td>-0.050503</td>\n",
       "      <td>-0.046360</td>\n",
       "      <td>-0.038582</td>\n",
       "    </tr>\n",
       "    <tr>\n",
       "      <th>100 company largest food</th>\n",
       "      <td>-0.052251</td>\n",
       "      <td>-0.032458</td>\n",
       "      <td>-0.028044</td>\n",
       "      <td>-0.037947</td>\n",
       "      <td>-0.027593</td>\n",
       "      <td>-4.060642e-02</td>\n",
       "      <td>-0.040367</td>\n",
       "      <td>-0.039690</td>\n",
       "      <td>-0.036175</td>\n",
       "      <td>-0.044394</td>\n",
       "      <td>0.075728</td>\n",
       "      <td>-0.051390</td>\n",
       "      <td>-0.050503</td>\n",
       "      <td>-0.046360</td>\n",
       "      <td>-0.038582</td>\n",
       "    </tr>\n",
       "    <tr>\n",
       "      <th>11</th>\n",
       "      <td>-0.008745</td>\n",
       "      <td>-0.001484</td>\n",
       "      <td>-0.000516</td>\n",
       "      <td>0.018824</td>\n",
       "      <td>-0.000466</td>\n",
       "      <td>-4.634361e-04</td>\n",
       "      <td>-0.012407</td>\n",
       "      <td>-0.003938</td>\n",
       "      <td>-0.002220</td>\n",
       "      <td>0.020766</td>\n",
       "      <td>0.007889</td>\n",
       "      <td>-0.003408</td>\n",
       "      <td>-0.003411</td>\n",
       "      <td>-0.002694</td>\n",
       "      <td>-0.002492</td>\n",
       "    </tr>\n",
       "    <tr>\n",
       "      <th>12</th>\n",
       "      <td>-0.020069</td>\n",
       "      <td>-0.004985</td>\n",
       "      <td>-0.001837</td>\n",
       "      <td>-0.004889</td>\n",
       "      <td>-0.001893</td>\n",
       "      <td>-2.261168e-03</td>\n",
       "      <td>-0.020519</td>\n",
       "      <td>-0.004692</td>\n",
       "      <td>-0.003908</td>\n",
       "      <td>0.011683</td>\n",
       "      <td>-0.006037</td>\n",
       "      <td>-0.008593</td>\n",
       "      <td>0.011451</td>\n",
       "      <td>0.048132</td>\n",
       "      <td>-0.004592</td>\n",
       "    </tr>\n",
       "    <tr>\n",
       "      <th>13</th>\n",
       "      <td>-0.026626</td>\n",
       "      <td>-0.000503</td>\n",
       "      <td>-0.000113</td>\n",
       "      <td>-0.002441</td>\n",
       "      <td>-0.000115</td>\n",
       "      <td>-6.649497e-05</td>\n",
       "      <td>0.134054</td>\n",
       "      <td>-0.001434</td>\n",
       "      <td>-0.001107</td>\n",
       "      <td>-0.012665</td>\n",
       "      <td>-0.012379</td>\n",
       "      <td>-0.002269</td>\n",
       "      <td>0.016135</td>\n",
       "      <td>-0.001314</td>\n",
       "      <td>-0.001073</td>\n",
       "    </tr>\n",
       "    <tr>\n",
       "      <th>14</th>\n",
       "      <td>-0.006003</td>\n",
       "      <td>-0.000601</td>\n",
       "      <td>-0.000188</td>\n",
       "      <td>-0.001600</td>\n",
       "      <td>-0.000221</td>\n",
       "      <td>-1.163059e-04</td>\n",
       "      <td>-0.005114</td>\n",
       "      <td>-0.001426</td>\n",
       "      <td>-0.001095</td>\n",
       "      <td>-0.006547</td>\n",
       "      <td>-0.005155</td>\n",
       "      <td>-0.001764</td>\n",
       "      <td>0.029562</td>\n",
       "      <td>-0.001649</td>\n",
       "      <td>-0.001400</td>\n",
       "    </tr>\n",
       "    <tr>\n",
       "      <th>15</th>\n",
       "      <td>-0.039583</td>\n",
       "      <td>-0.008964</td>\n",
       "      <td>-0.002960</td>\n",
       "      <td>-0.013967</td>\n",
       "      <td>-0.002911</td>\n",
       "      <td>-3.315890e-03</td>\n",
       "      <td>-0.056427</td>\n",
       "      <td>-0.012901</td>\n",
       "      <td>-0.011812</td>\n",
       "      <td>-0.034838</td>\n",
       "      <td>-0.059480</td>\n",
       "      <td>0.350661</td>\n",
       "      <td>-0.014242</td>\n",
       "      <td>-0.011261</td>\n",
       "      <td>-0.010126</td>\n",
       "    </tr>\n",
       "    <tr>\n",
       "      <th>16</th>\n",
       "      <td>-0.000286</td>\n",
       "      <td>-0.000158</td>\n",
       "      <td>-0.000084</td>\n",
       "      <td>-0.000206</td>\n",
       "      <td>-0.000078</td>\n",
       "      <td>-1.633567e-04</td>\n",
       "      <td>-0.000267</td>\n",
       "      <td>-0.000194</td>\n",
       "      <td>-0.000194</td>\n",
       "      <td>-0.000279</td>\n",
       "      <td>0.000419</td>\n",
       "      <td>-0.000263</td>\n",
       "      <td>-0.000275</td>\n",
       "      <td>-0.000269</td>\n",
       "      <td>-0.000202</td>\n",
       "    </tr>\n",
       "    <tr>\n",
       "      <th>17</th>\n",
       "      <td>0.000000</td>\n",
       "      <td>0.000000</td>\n",
       "      <td>0.000000</td>\n",
       "      <td>0.000000</td>\n",
       "      <td>0.000000</td>\n",
       "      <td>0.000000e+00</td>\n",
       "      <td>0.000000</td>\n",
       "      <td>0.000000</td>\n",
       "      <td>0.000000</td>\n",
       "      <td>0.000000</td>\n",
       "      <td>0.000000</td>\n",
       "      <td>0.000000</td>\n",
       "      <td>0.000000</td>\n",
       "      <td>0.000000</td>\n",
       "      <td>0.000000</td>\n",
       "    </tr>\n",
       "    <tr>\n",
       "      <th>18</th>\n",
       "      <td>0.000000</td>\n",
       "      <td>0.000000</td>\n",
       "      <td>0.000000</td>\n",
       "      <td>0.000000</td>\n",
       "      <td>0.000000</td>\n",
       "      <td>0.000000e+00</td>\n",
       "      <td>0.000000</td>\n",
       "      <td>0.000000</td>\n",
       "      <td>0.000000</td>\n",
       "      <td>0.000000</td>\n",
       "      <td>0.000000</td>\n",
       "      <td>0.000000</td>\n",
       "      <td>0.000000</td>\n",
       "      <td>0.000000</td>\n",
       "      <td>0.000000</td>\n",
       "    </tr>\n",
       "    <tr>\n",
       "      <th>18 years</th>\n",
       "      <td>0.000000</td>\n",
       "      <td>0.000000</td>\n",
       "      <td>0.000000</td>\n",
       "      <td>0.000000</td>\n",
       "      <td>0.000000</td>\n",
       "      <td>0.000000e+00</td>\n",
       "      <td>0.000000</td>\n",
       "      <td>0.000000</td>\n",
       "      <td>0.000000</td>\n",
       "      <td>0.000000</td>\n",
       "      <td>0.000000</td>\n",
       "      <td>0.000000</td>\n",
       "      <td>0.000000</td>\n",
       "      <td>0.000000</td>\n",
       "      <td>0.000000</td>\n",
       "    </tr>\n",
       "    <tr>\n",
       "      <th>18 years age</th>\n",
       "      <td>0.000000</td>\n",
       "      <td>0.000000</td>\n",
       "      <td>0.000000</td>\n",
       "      <td>0.000000</td>\n",
       "      <td>0.000000</td>\n",
       "      <td>0.000000e+00</td>\n",
       "      <td>0.000000</td>\n",
       "      <td>0.000000</td>\n",
       "      <td>0.000000</td>\n",
       "      <td>0.000000</td>\n",
       "      <td>0.000000</td>\n",
       "      <td>0.000000</td>\n",
       "      <td>0.000000</td>\n",
       "      <td>0.000000</td>\n",
       "      <td>0.000000</td>\n",
       "    </tr>\n",
       "    <tr>\n",
       "      <th>1986</th>\n",
       "      <td>-0.021663</td>\n",
       "      <td>-0.000629</td>\n",
       "      <td>0.232082</td>\n",
       "      <td>-0.004929</td>\n",
       "      <td>-0.000043</td>\n",
       "      <td>-1.782910e-05</td>\n",
       "      <td>-0.062387</td>\n",
       "      <td>-0.002334</td>\n",
       "      <td>-0.002766</td>\n",
       "      <td>-0.018477</td>\n",
       "      <td>-0.017744</td>\n",
       "      <td>-0.004472</td>\n",
       "      <td>-0.007157</td>\n",
       "      <td>-0.002657</td>\n",
       "      <td>-0.002123</td>\n",
       "    </tr>\n",
       "    <tr>\n",
       "      <th>1986 american</th>\n",
       "      <td>-0.021663</td>\n",
       "      <td>-0.000629</td>\n",
       "      <td>0.232082</td>\n",
       "      <td>-0.004929</td>\n",
       "      <td>-0.000043</td>\n",
       "      <td>-1.782910e-05</td>\n",
       "      <td>-0.062387</td>\n",
       "      <td>-0.002334</td>\n",
       "      <td>-0.002766</td>\n",
       "      <td>-0.018477</td>\n",
       "      <td>-0.017744</td>\n",
       "      <td>-0.004472</td>\n",
       "      <td>-0.007157</td>\n",
       "      <td>-0.002657</td>\n",
       "      <td>-0.002123</td>\n",
       "    </tr>\n",
       "    <tr>\n",
       "      <th>1986 american management</th>\n",
       "      <td>-0.021663</td>\n",
       "      <td>-0.000629</td>\n",
       "      <td>0.232082</td>\n",
       "      <td>-0.004929</td>\n",
       "      <td>-0.000043</td>\n",
       "      <td>-1.782910e-05</td>\n",
       "      <td>-0.062387</td>\n",
       "      <td>-0.002334</td>\n",
       "      <td>-0.002766</td>\n",
       "      <td>-0.018477</td>\n",
       "      <td>-0.017744</td>\n",
       "      <td>-0.004472</td>\n",
       "      <td>-0.007157</td>\n",
       "      <td>-0.002657</td>\n",
       "      <td>-0.002123</td>\n",
       "    </tr>\n",
       "    <tr>\n",
       "      <th>1986 american management services</th>\n",
       "      <td>-0.021663</td>\n",
       "      <td>-0.000629</td>\n",
       "      <td>0.232082</td>\n",
       "      <td>-0.004929</td>\n",
       "      <td>-0.000043</td>\n",
       "      <td>-1.782910e-05</td>\n",
       "      <td>-0.062387</td>\n",
       "      <td>-0.002334</td>\n",
       "      <td>-0.002766</td>\n",
       "      <td>-0.018477</td>\n",
       "      <td>-0.017744</td>\n",
       "      <td>-0.004472</td>\n",
       "      <td>-0.007157</td>\n",
       "      <td>-0.002657</td>\n",
       "      <td>-0.002123</td>\n",
       "    </tr>\n",
       "    <tr>\n",
       "      <th>...</th>\n",
       "      <td>...</td>\n",
       "      <td>...</td>\n",
       "      <td>...</td>\n",
       "      <td>...</td>\n",
       "      <td>...</td>\n",
       "      <td>...</td>\n",
       "      <td>...</td>\n",
       "      <td>...</td>\n",
       "      <td>...</td>\n",
       "      <td>...</td>\n",
       "      <td>...</td>\n",
       "      <td>...</td>\n",
       "      <td>...</td>\n",
       "      <td>...</td>\n",
       "      <td>...</td>\n",
       "    </tr>\n",
       "    <tr>\n",
       "      <th>world pfizer</th>\n",
       "      <td>-0.030906</td>\n",
       "      <td>-0.008358</td>\n",
       "      <td>-0.003993</td>\n",
       "      <td>-0.018821</td>\n",
       "      <td>-0.006238</td>\n",
       "      <td>-3.557979e-03</td>\n",
       "      <td>-0.033133</td>\n",
       "      <td>-0.021010</td>\n",
       "      <td>-0.017059</td>\n",
       "      <td>0.089317</td>\n",
       "      <td>-0.040611</td>\n",
       "      <td>-0.032735</td>\n",
       "      <td>-0.026681</td>\n",
       "      <td>-0.027088</td>\n",
       "      <td>-0.013883</td>\n",
       "    </tr>\n",
       "    <tr>\n",
       "      <th>world pfizer colleagues</th>\n",
       "      <td>-0.030906</td>\n",
       "      <td>-0.008358</td>\n",
       "      <td>-0.003993</td>\n",
       "      <td>-0.018821</td>\n",
       "      <td>-0.006238</td>\n",
       "      <td>-3.557979e-03</td>\n",
       "      <td>-0.033133</td>\n",
       "      <td>-0.021010</td>\n",
       "      <td>-0.017059</td>\n",
       "      <td>0.089317</td>\n",
       "      <td>-0.040611</td>\n",
       "      <td>-0.032735</td>\n",
       "      <td>-0.026681</td>\n",
       "      <td>-0.027088</td>\n",
       "      <td>-0.013883</td>\n",
       "    </tr>\n",
       "    <tr>\n",
       "      <th>world pfizer colleagues work</th>\n",
       "      <td>-0.029402</td>\n",
       "      <td>-0.008174</td>\n",
       "      <td>-0.003911</td>\n",
       "      <td>-0.018308</td>\n",
       "      <td>-0.006172</td>\n",
       "      <td>-3.500602e-03</td>\n",
       "      <td>-0.031214</td>\n",
       "      <td>-0.020490</td>\n",
       "      <td>-0.016647</td>\n",
       "      <td>0.075030</td>\n",
       "      <td>-0.036520</td>\n",
       "      <td>-0.032079</td>\n",
       "      <td>-0.026058</td>\n",
       "      <td>-0.026564</td>\n",
       "      <td>-0.013439</td>\n",
       "    </tr>\n",
       "    <tr>\n",
       "      <th>worlda</th>\n",
       "      <td>-0.077965</td>\n",
       "      <td>-0.034252</td>\n",
       "      <td>-0.023525</td>\n",
       "      <td>-0.032491</td>\n",
       "      <td>-0.024347</td>\n",
       "      <td>3.585206e-01</td>\n",
       "      <td>-0.045489</td>\n",
       "      <td>-0.043225</td>\n",
       "      <td>-0.047465</td>\n",
       "      <td>-0.058613</td>\n",
       "      <td>-0.114917</td>\n",
       "      <td>-0.041869</td>\n",
       "      <td>-0.019868</td>\n",
       "      <td>-0.041757</td>\n",
       "      <td>-0.040148</td>\n",
       "    </tr>\n",
       "    <tr>\n",
       "      <th>worldwide</th>\n",
       "      <td>-0.047232</td>\n",
       "      <td>-0.014384</td>\n",
       "      <td>-0.008267</td>\n",
       "      <td>-0.021842</td>\n",
       "      <td>-0.008192</td>\n",
       "      <td>-8.772501e-03</td>\n",
       "      <td>-0.044165</td>\n",
       "      <td>0.253468</td>\n",
       "      <td>-0.022209</td>\n",
       "      <td>-0.018211</td>\n",
       "      <td>-0.061346</td>\n",
       "      <td>-0.026004</td>\n",
       "      <td>-0.022544</td>\n",
       "      <td>-0.022681</td>\n",
       "      <td>-0.023592</td>\n",
       "    </tr>\n",
       "    <tr>\n",
       "      <th>write</th>\n",
       "      <td>-0.008135</td>\n",
       "      <td>-0.000577</td>\n",
       "      <td>-0.000128</td>\n",
       "      <td>-0.002039</td>\n",
       "      <td>-0.000100</td>\n",
       "      <td>-6.487546e-05</td>\n",
       "      <td>-0.007415</td>\n",
       "      <td>-0.001568</td>\n",
       "      <td>-0.001238</td>\n",
       "      <td>-0.005646</td>\n",
       "      <td>0.035386</td>\n",
       "      <td>-0.001544</td>\n",
       "      <td>-0.001610</td>\n",
       "      <td>-0.001341</td>\n",
       "      <td>-0.001116</td>\n",
       "    </tr>\n",
       "    <tr>\n",
       "      <th>writing</th>\n",
       "      <td>-0.004065</td>\n",
       "      <td>-0.000023</td>\n",
       "      <td>-0.000004</td>\n",
       "      <td>-0.000472</td>\n",
       "      <td>-0.000002</td>\n",
       "      <td>-5.251805e-07</td>\n",
       "      <td>-0.009886</td>\n",
       "      <td>-0.000182</td>\n",
       "      <td>-0.000162</td>\n",
       "      <td>-0.002576</td>\n",
       "      <td>-0.002919</td>\n",
       "      <td>0.047292</td>\n",
       "      <td>-0.000334</td>\n",
       "      <td>-0.000151</td>\n",
       "      <td>-0.000135</td>\n",
       "    </tr>\n",
       "    <tr>\n",
       "      <th>written</th>\n",
       "      <td>0.000000</td>\n",
       "      <td>0.000000</td>\n",
       "      <td>0.000000</td>\n",
       "      <td>0.000000</td>\n",
       "      <td>0.000000</td>\n",
       "      <td>0.000000e+00</td>\n",
       "      <td>0.000000</td>\n",
       "      <td>0.000000</td>\n",
       "      <td>0.000000</td>\n",
       "      <td>0.000000</td>\n",
       "      <td>0.000000</td>\n",
       "      <td>0.000000</td>\n",
       "      <td>0.000000</td>\n",
       "      <td>0.000000</td>\n",
       "      <td>0.000000</td>\n",
       "    </tr>\n",
       "    <tr>\n",
       "      <th>www</th>\n",
       "      <td>-0.099972</td>\n",
       "      <td>-0.013356</td>\n",
       "      <td>-0.005552</td>\n",
       "      <td>-0.031519</td>\n",
       "      <td>-0.004947</td>\n",
       "      <td>-3.964443e-03</td>\n",
       "      <td>-0.070030</td>\n",
       "      <td>-0.031947</td>\n",
       "      <td>-0.025800</td>\n",
       "      <td>0.171843</td>\n",
       "      <td>-0.091892</td>\n",
       "      <td>-0.041491</td>\n",
       "      <td>0.026144</td>\n",
       "      <td>-0.036623</td>\n",
       "      <td>-0.030161</td>\n",
       "    </tr>\n",
       "    <tr>\n",
       "      <th>www pfizercareers</th>\n",
       "      <td>-0.081962</td>\n",
       "      <td>-0.011780</td>\n",
       "      <td>-0.004920</td>\n",
       "      <td>-0.026685</td>\n",
       "      <td>-0.004417</td>\n",
       "      <td>-3.590489e-03</td>\n",
       "      <td>-0.055637</td>\n",
       "      <td>-0.027182</td>\n",
       "      <td>-0.022337</td>\n",
       "      <td>0.169076</td>\n",
       "      <td>-0.071546</td>\n",
       "      <td>-0.036688</td>\n",
       "      <td>-0.039397</td>\n",
       "      <td>-0.032583</td>\n",
       "      <td>-0.025827</td>\n",
       "    </tr>\n",
       "    <tr>\n",
       "      <th>www pfizercareers com</th>\n",
       "      <td>-0.081962</td>\n",
       "      <td>-0.011780</td>\n",
       "      <td>-0.004920</td>\n",
       "      <td>-0.026685</td>\n",
       "      <td>-0.004417</td>\n",
       "      <td>-3.590489e-03</td>\n",
       "      <td>-0.055637</td>\n",
       "      <td>-0.027182</td>\n",
       "      <td>-0.022337</td>\n",
       "      <td>0.169076</td>\n",
       "      <td>-0.071546</td>\n",
       "      <td>-0.036688</td>\n",
       "      <td>-0.039397</td>\n",
       "      <td>-0.032583</td>\n",
       "      <td>-0.025827</td>\n",
       "    </tr>\n",
       "    <tr>\n",
       "      <th>www pfizercareers com search</th>\n",
       "      <td>-0.068842</td>\n",
       "      <td>-0.010501</td>\n",
       "      <td>-0.004401</td>\n",
       "      <td>-0.022968</td>\n",
       "      <td>-0.003806</td>\n",
       "      <td>-3.224359e-03</td>\n",
       "      <td>-0.047281</td>\n",
       "      <td>-0.022530</td>\n",
       "      <td>-0.019775</td>\n",
       "      <td>0.132560</td>\n",
       "      <td>-0.062339</td>\n",
       "      <td>-0.032751</td>\n",
       "      <td>-0.035025</td>\n",
       "      <td>-0.029105</td>\n",
       "      <td>-0.022687</td>\n",
       "    </tr>\n",
       "    <tr>\n",
       "      <th>year</th>\n",
       "      <td>-0.003135</td>\n",
       "      <td>-0.000037</td>\n",
       "      <td>-0.000009</td>\n",
       "      <td>-0.000441</td>\n",
       "      <td>-0.000005</td>\n",
       "      <td>-1.860068e-06</td>\n",
       "      <td>-0.004694</td>\n",
       "      <td>-0.000225</td>\n",
       "      <td>-0.000185</td>\n",
       "      <td>-0.001806</td>\n",
       "      <td>-0.001938</td>\n",
       "      <td>-0.000302</td>\n",
       "      <td>-0.000329</td>\n",
       "      <td>0.027014</td>\n",
       "      <td>-0.000179</td>\n",
       "    </tr>\n",
       "    <tr>\n",
       "      <th>year experience</th>\n",
       "      <td>0.000000</td>\n",
       "      <td>0.000000</td>\n",
       "      <td>0.000000</td>\n",
       "      <td>0.000000</td>\n",
       "      <td>0.000000</td>\n",
       "      <td>0.000000e+00</td>\n",
       "      <td>0.000000</td>\n",
       "      <td>0.000000</td>\n",
       "      <td>0.000000</td>\n",
       "      <td>0.000000</td>\n",
       "      <td>0.000000</td>\n",
       "      <td>0.000000</td>\n",
       "      <td>0.000000</td>\n",
       "      <td>0.000000</td>\n",
       "      <td>0.000000</td>\n",
       "    </tr>\n",
       "    <tr>\n",
       "      <th>years</th>\n",
       "      <td>0.080989</td>\n",
       "      <td>0.060441</td>\n",
       "      <td>-0.034407</td>\n",
       "      <td>-0.074024</td>\n",
       "      <td>-0.033663</td>\n",
       "      <td>-1.866419e-02</td>\n",
       "      <td>-0.147522</td>\n",
       "      <td>-0.081379</td>\n",
       "      <td>-0.034302</td>\n",
       "      <td>0.018379</td>\n",
       "      <td>-0.008154</td>\n",
       "      <td>-0.091608</td>\n",
       "      <td>-0.077096</td>\n",
       "      <td>0.057012</td>\n",
       "      <td>-0.034020</td>\n",
       "    </tr>\n",
       "    <tr>\n",
       "      <th>years age</th>\n",
       "      <td>0.000000</td>\n",
       "      <td>0.000000</td>\n",
       "      <td>0.000000</td>\n",
       "      <td>0.000000</td>\n",
       "      <td>0.000000</td>\n",
       "      <td>0.000000e+00</td>\n",
       "      <td>0.000000</td>\n",
       "      <td>0.000000</td>\n",
       "      <td>0.000000</td>\n",
       "      <td>0.000000</td>\n",
       "      <td>0.000000</td>\n",
       "      <td>0.000000</td>\n",
       "      <td>0.000000</td>\n",
       "      <td>0.000000</td>\n",
       "      <td>0.000000</td>\n",
       "    </tr>\n",
       "    <tr>\n",
       "      <th>years experience</th>\n",
       "      <td>0.052077</td>\n",
       "      <td>-0.017168</td>\n",
       "      <td>-0.008048</td>\n",
       "      <td>-0.017011</td>\n",
       "      <td>-0.009525</td>\n",
       "      <td>-9.947771e-03</td>\n",
       "      <td>-0.042685</td>\n",
       "      <td>-0.020257</td>\n",
       "      <td>-0.017907</td>\n",
       "      <td>0.049159</td>\n",
       "      <td>-0.009465</td>\n",
       "      <td>-0.020765</td>\n",
       "      <td>-0.008067</td>\n",
       "      <td>0.051945</td>\n",
       "      <td>-0.017443</td>\n",
       "    </tr>\n",
       "    <tr>\n",
       "      <th>years kwik</th>\n",
       "      <td>-0.043499</td>\n",
       "      <td>-0.024310</td>\n",
       "      <td>-0.013155</td>\n",
       "      <td>-0.030843</td>\n",
       "      <td>-0.012222</td>\n",
       "      <td>-2.402844e-02</td>\n",
       "      <td>-0.039975</td>\n",
       "      <td>-0.030480</td>\n",
       "      <td>-0.029177</td>\n",
       "      <td>-0.042299</td>\n",
       "      <td>0.065311</td>\n",
       "      <td>-0.038874</td>\n",
       "      <td>-0.040373</td>\n",
       "      <td>-0.039767</td>\n",
       "      <td>-0.030810</td>\n",
       "    </tr>\n",
       "    <tr>\n",
       "      <th>years kwik trip</th>\n",
       "      <td>-0.043499</td>\n",
       "      <td>-0.024310</td>\n",
       "      <td>-0.013155</td>\n",
       "      <td>-0.030843</td>\n",
       "      <td>-0.012222</td>\n",
       "      <td>-2.402844e-02</td>\n",
       "      <td>-0.039975</td>\n",
       "      <td>-0.030480</td>\n",
       "      <td>-0.029177</td>\n",
       "      <td>-0.042299</td>\n",
       "      <td>0.065311</td>\n",
       "      <td>-0.038874</td>\n",
       "      <td>-0.040373</td>\n",
       "      <td>-0.039767</td>\n",
       "      <td>-0.030810</td>\n",
       "    </tr>\n",
       "    <tr>\n",
       "      <th>years kwik trip commitment</th>\n",
       "      <td>-0.043499</td>\n",
       "      <td>-0.024310</td>\n",
       "      <td>-0.013155</td>\n",
       "      <td>-0.030843</td>\n",
       "      <td>-0.012222</td>\n",
       "      <td>-2.402844e-02</td>\n",
       "      <td>-0.039975</td>\n",
       "      <td>-0.030480</td>\n",
       "      <td>-0.029177</td>\n",
       "      <td>-0.042299</td>\n",
       "      <td>0.065311</td>\n",
       "      <td>-0.038874</td>\n",
       "      <td>-0.040373</td>\n",
       "      <td>-0.039767</td>\n",
       "      <td>-0.030810</td>\n",
       "    </tr>\n",
       "    <tr>\n",
       "      <th>years old</th>\n",
       "      <td>0.000000</td>\n",
       "      <td>0.000000</td>\n",
       "      <td>0.000000</td>\n",
       "      <td>0.000000</td>\n",
       "      <td>0.000000</td>\n",
       "      <td>0.000000e+00</td>\n",
       "      <td>0.000000</td>\n",
       "      <td>0.000000</td>\n",
       "      <td>0.000000</td>\n",
       "      <td>0.000000</td>\n",
       "      <td>0.000000</td>\n",
       "      <td>0.000000</td>\n",
       "      <td>0.000000</td>\n",
       "      <td>0.000000</td>\n",
       "      <td>0.000000</td>\n",
       "    </tr>\n",
       "    <tr>\n",
       "      <th>years sales</th>\n",
       "      <td>0.000000</td>\n",
       "      <td>0.000000</td>\n",
       "      <td>0.000000</td>\n",
       "      <td>0.000000</td>\n",
       "      <td>0.000000</td>\n",
       "      <td>0.000000e+00</td>\n",
       "      <td>0.000000</td>\n",
       "      <td>0.000000</td>\n",
       "      <td>0.000000</td>\n",
       "      <td>0.000000</td>\n",
       "      <td>0.000000</td>\n",
       "      <td>0.000000</td>\n",
       "      <td>0.000000</td>\n",
       "      <td>0.000000</td>\n",
       "      <td>0.000000</td>\n",
       "    </tr>\n",
       "    <tr>\n",
       "      <th>years sales experience</th>\n",
       "      <td>0.000000</td>\n",
       "      <td>0.000000</td>\n",
       "      <td>0.000000</td>\n",
       "      <td>0.000000</td>\n",
       "      <td>0.000000</td>\n",
       "      <td>0.000000e+00</td>\n",
       "      <td>0.000000</td>\n",
       "      <td>0.000000</td>\n",
       "      <td>0.000000</td>\n",
       "      <td>0.000000</td>\n",
       "      <td>0.000000</td>\n",
       "      <td>0.000000</td>\n",
       "      <td>0.000000</td>\n",
       "      <td>0.000000</td>\n",
       "      <td>0.000000</td>\n",
       "    </tr>\n",
       "    <tr>\n",
       "      <th>yearsa</th>\n",
       "      <td>0.022788</td>\n",
       "      <td>-0.000806</td>\n",
       "      <td>-0.000272</td>\n",
       "      <td>-0.002089</td>\n",
       "      <td>-0.000230</td>\n",
       "      <td>-1.772785e-04</td>\n",
       "      <td>-0.006488</td>\n",
       "      <td>-0.002178</td>\n",
       "      <td>-0.001645</td>\n",
       "      <td>-0.006135</td>\n",
       "      <td>-0.007840</td>\n",
       "      <td>-0.002212</td>\n",
       "      <td>0.013540</td>\n",
       "      <td>-0.002147</td>\n",
       "      <td>-0.001854</td>\n",
       "    </tr>\n",
       "    <tr>\n",
       "      <th>yearsa experience</th>\n",
       "      <td>0.022788</td>\n",
       "      <td>-0.000806</td>\n",
       "      <td>-0.000272</td>\n",
       "      <td>-0.002089</td>\n",
       "      <td>-0.000230</td>\n",
       "      <td>-1.772785e-04</td>\n",
       "      <td>-0.006488</td>\n",
       "      <td>-0.002178</td>\n",
       "      <td>-0.001645</td>\n",
       "      <td>-0.006135</td>\n",
       "      <td>-0.007840</td>\n",
       "      <td>-0.002212</td>\n",
       "      <td>0.013540</td>\n",
       "      <td>-0.002147</td>\n",
       "      <td>-0.001854</td>\n",
       "    </tr>\n",
       "    <tr>\n",
       "      <th>yes</th>\n",
       "      <td>-0.002399</td>\n",
       "      <td>-0.000054</td>\n",
       "      <td>-0.000010</td>\n",
       "      <td>-0.000416</td>\n",
       "      <td>-0.000006</td>\n",
       "      <td>-2.402839e-06</td>\n",
       "      <td>-0.003948</td>\n",
       "      <td>-0.000317</td>\n",
       "      <td>-0.000209</td>\n",
       "      <td>0.023635</td>\n",
       "      <td>-0.002070</td>\n",
       "      <td>-0.000315</td>\n",
       "      <td>-0.000383</td>\n",
       "      <td>-0.000214</td>\n",
       "      <td>-0.000212</td>\n",
       "    </tr>\n",
       "    <tr>\n",
       "      <th>york</th>\n",
       "      <td>0.036717</td>\n",
       "      <td>-0.010940</td>\n",
       "      <td>-0.007450</td>\n",
       "      <td>-0.014751</td>\n",
       "      <td>-0.007755</td>\n",
       "      <td>-8.848569e-03</td>\n",
       "      <td>-0.041864</td>\n",
       "      <td>-0.019894</td>\n",
       "      <td>-0.014589</td>\n",
       "      <td>0.066034</td>\n",
       "      <td>-0.045253</td>\n",
       "      <td>-0.016868</td>\n",
       "      <td>-0.016137</td>\n",
       "      <td>0.036745</td>\n",
       "      <td>-0.016616</td>\n",
       "    </tr>\n",
       "    <tr>\n",
       "      <th>youa</th>\n",
       "      <td>-0.060741</td>\n",
       "      <td>-0.041723</td>\n",
       "      <td>-0.031591</td>\n",
       "      <td>-0.033444</td>\n",
       "      <td>-0.031050</td>\n",
       "      <td>-3.758714e-02</td>\n",
       "      <td>-0.063415</td>\n",
       "      <td>-0.044184</td>\n",
       "      <td>-0.037875</td>\n",
       "      <td>-0.049793</td>\n",
       "      <td>0.018264</td>\n",
       "      <td>0.089396</td>\n",
       "      <td>-0.021144</td>\n",
       "      <td>-0.021887</td>\n",
       "      <td>-0.039776</td>\n",
       "    </tr>\n",
       "    <tr>\n",
       "      <th>youa ll</th>\n",
       "      <td>-0.013246</td>\n",
       "      <td>-0.004366</td>\n",
       "      <td>-0.003924</td>\n",
       "      <td>-0.003139</td>\n",
       "      <td>-0.004135</td>\n",
       "      <td>-4.978829e-03</td>\n",
       "      <td>-0.011999</td>\n",
       "      <td>-0.004174</td>\n",
       "      <td>-0.004041</td>\n",
       "      <td>-0.006761</td>\n",
       "      <td>-0.011673</td>\n",
       "      <td>0.018148</td>\n",
       "      <td>-0.004995</td>\n",
       "      <td>0.016868</td>\n",
       "      <td>-0.003678</td>\n",
       "    </tr>\n",
       "    <tr>\n",
       "      <th>young</th>\n",
       "      <td>-0.000299</td>\n",
       "      <td>-0.000190</td>\n",
       "      <td>-0.000110</td>\n",
       "      <td>-0.000227</td>\n",
       "      <td>-0.000104</td>\n",
       "      <td>-2.156664e-04</td>\n",
       "      <td>-0.000270</td>\n",
       "      <td>-0.000219</td>\n",
       "      <td>-0.000225</td>\n",
       "      <td>-0.000298</td>\n",
       "      <td>0.000396</td>\n",
       "      <td>-0.000301</td>\n",
       "      <td>-0.000313</td>\n",
       "      <td>-0.000315</td>\n",
       "      <td>-0.000228</td>\n",
       "    </tr>\n",
       "  </tbody>\n",
       "</table>\n",
       "<p>3454 rows × 15 columns</p>\n",
       "</div>"
      ],
      "text/plain": [
       "                                         IT  clothing  consulting    dining  \\\n",
       "index                             -0.000065 -0.000367   -0.000503 -0.000180   \n",
       "00                                -0.027253 -0.002245   -0.000672 -0.006986   \n",
       "00 00                             -0.004192 -0.000243   -0.000075 -0.000991   \n",
       "00 hour                           -0.006003 -0.000601   -0.000188 -0.001600   \n",
       "00 pm                             -0.010295 -0.000854   -0.000278 -0.002984   \n",
       "000                                0.045002 -0.009553   -0.006635 -0.010230   \n",
       "00pm                              -0.017396 -0.004670   -0.003268 -0.007403   \n",
       "10                                -0.007974 -0.023926   -0.014756 -0.003923   \n",
       "10 years                           0.000000  0.000000    0.000000  0.000000   \n",
       "100                               -0.055359 -0.061080   -0.049710 -0.062292   \n",
       "100 best                          -0.043856 -0.028109   -0.021463 -0.022519   \n",
       "100 best companies                -0.043856 -0.028109   -0.021463 -0.022519   \n",
       "100 best companies work           -0.043856 -0.028109   -0.021463 -0.022519   \n",
       "100 company                       -0.052251 -0.032458   -0.028044 -0.037947   \n",
       "100 company largest               -0.052251 -0.032458   -0.028044 -0.037947   \n",
       "100 company largest food          -0.052251 -0.032458   -0.028044 -0.037947   \n",
       "11                                -0.008745 -0.001484   -0.000516  0.018824   \n",
       "12                                -0.020069 -0.004985   -0.001837 -0.004889   \n",
       "13                                -0.026626 -0.000503   -0.000113 -0.002441   \n",
       "14                                -0.006003 -0.000601   -0.000188 -0.001600   \n",
       "15                                -0.039583 -0.008964   -0.002960 -0.013967   \n",
       "16                                -0.000286 -0.000158   -0.000084 -0.000206   \n",
       "17                                 0.000000  0.000000    0.000000  0.000000   \n",
       "18                                 0.000000  0.000000    0.000000  0.000000   \n",
       "18 years                           0.000000  0.000000    0.000000  0.000000   \n",
       "18 years age                       0.000000  0.000000    0.000000  0.000000   \n",
       "1986                              -0.021663 -0.000629    0.232082 -0.004929   \n",
       "1986 american                     -0.021663 -0.000629    0.232082 -0.004929   \n",
       "1986 american management          -0.021663 -0.000629    0.232082 -0.004929   \n",
       "1986 american management services -0.021663 -0.000629    0.232082 -0.004929   \n",
       "...                                     ...       ...         ...       ...   \n",
       "world pfizer                      -0.030906 -0.008358   -0.003993 -0.018821   \n",
       "world pfizer colleagues           -0.030906 -0.008358   -0.003993 -0.018821   \n",
       "world pfizer colleagues work      -0.029402 -0.008174   -0.003911 -0.018308   \n",
       "worlda                            -0.077965 -0.034252   -0.023525 -0.032491   \n",
       "worldwide                         -0.047232 -0.014384   -0.008267 -0.021842   \n",
       "write                             -0.008135 -0.000577   -0.000128 -0.002039   \n",
       "writing                           -0.004065 -0.000023   -0.000004 -0.000472   \n",
       "written                            0.000000  0.000000    0.000000  0.000000   \n",
       "www                               -0.099972 -0.013356   -0.005552 -0.031519   \n",
       "www pfizercareers                 -0.081962 -0.011780   -0.004920 -0.026685   \n",
       "www pfizercareers com             -0.081962 -0.011780   -0.004920 -0.026685   \n",
       "www pfizercareers com search      -0.068842 -0.010501   -0.004401 -0.022968   \n",
       "year                              -0.003135 -0.000037   -0.000009 -0.000441   \n",
       "year experience                    0.000000  0.000000    0.000000  0.000000   \n",
       "years                              0.080989  0.060441   -0.034407 -0.074024   \n",
       "years age                          0.000000  0.000000    0.000000  0.000000   \n",
       "years experience                   0.052077 -0.017168   -0.008048 -0.017011   \n",
       "years kwik                        -0.043499 -0.024310   -0.013155 -0.030843   \n",
       "years kwik trip                   -0.043499 -0.024310   -0.013155 -0.030843   \n",
       "years kwik trip commitment        -0.043499 -0.024310   -0.013155 -0.030843   \n",
       "years old                          0.000000  0.000000    0.000000  0.000000   \n",
       "years sales                        0.000000  0.000000    0.000000  0.000000   \n",
       "years sales experience             0.000000  0.000000    0.000000  0.000000   \n",
       "yearsa                             0.022788 -0.000806   -0.000272 -0.002089   \n",
       "yearsa experience                  0.022788 -0.000806   -0.000272 -0.002089   \n",
       "yes                               -0.002399 -0.000054   -0.000010 -0.000416   \n",
       "york                               0.036717 -0.010940   -0.007450 -0.014751   \n",
       "youa                              -0.060741 -0.041723   -0.031591 -0.033444   \n",
       "youa ll                           -0.013246 -0.004366   -0.003924 -0.003139   \n",
       "young                             -0.000299 -0.000190   -0.000110 -0.000227   \n",
       "\n",
       "                                    fitness  food_services  healthcare  \\\n",
       "index                             -0.000533  -4.432659e-04    0.000012   \n",
       "00                                -0.000765  -3.811961e-04   -0.030272   \n",
       "00 00                             -0.000084  -3.691264e-05   -0.005060   \n",
       "00 hour                           -0.000221  -1.163059e-04   -0.005114   \n",
       "00 pm                             -0.000309  -1.460205e-04   -0.010752   \n",
       "000                               -0.006972   1.124515e-01   -0.027243   \n",
       "00pm                              -0.003424  -3.798299e-03   -0.019551   \n",
       "10                                -0.015227  -1.763158e-02   -0.064911   \n",
       "10 years                           0.000000   0.000000e+00    0.000000   \n",
       "100                               -0.055629  -7.876479e-02   -0.081065   \n",
       "100 best                          -0.027865  -3.798263e-02   -0.034127   \n",
       "100 best companies                -0.027865  -3.798263e-02   -0.034127   \n",
       "100 best companies work           -0.027865  -3.798263e-02   -0.034127   \n",
       "100 company                       -0.027593  -4.060642e-02   -0.040367   \n",
       "100 company largest               -0.027593  -4.060642e-02   -0.040367   \n",
       "100 company largest food          -0.027593  -4.060642e-02   -0.040367   \n",
       "11                                -0.000466  -4.634361e-04   -0.012407   \n",
       "12                                -0.001893  -2.261168e-03   -0.020519   \n",
       "13                                -0.000115  -6.649497e-05    0.134054   \n",
       "14                                -0.000221  -1.163059e-04   -0.005114   \n",
       "15                                -0.002911  -3.315890e-03   -0.056427   \n",
       "16                                -0.000078  -1.633567e-04   -0.000267   \n",
       "17                                 0.000000   0.000000e+00    0.000000   \n",
       "18                                 0.000000   0.000000e+00    0.000000   \n",
       "18 years                           0.000000   0.000000e+00    0.000000   \n",
       "18 years age                       0.000000   0.000000e+00    0.000000   \n",
       "1986                              -0.000043  -1.782910e-05   -0.062387   \n",
       "1986 american                     -0.000043  -1.782910e-05   -0.062387   \n",
       "1986 american management          -0.000043  -1.782910e-05   -0.062387   \n",
       "1986 american management services -0.000043  -1.782910e-05   -0.062387   \n",
       "...                                     ...            ...         ...   \n",
       "world pfizer                      -0.006238  -3.557979e-03   -0.033133   \n",
       "world pfizer colleagues           -0.006238  -3.557979e-03   -0.033133   \n",
       "world pfizer colleagues work      -0.006172  -3.500602e-03   -0.031214   \n",
       "worlda                            -0.024347   3.585206e-01   -0.045489   \n",
       "worldwide                         -0.008192  -8.772501e-03   -0.044165   \n",
       "write                             -0.000100  -6.487546e-05   -0.007415   \n",
       "writing                           -0.000002  -5.251805e-07   -0.009886   \n",
       "written                            0.000000   0.000000e+00    0.000000   \n",
       "www                               -0.004947  -3.964443e-03   -0.070030   \n",
       "www pfizercareers                 -0.004417  -3.590489e-03   -0.055637   \n",
       "www pfizercareers com             -0.004417  -3.590489e-03   -0.055637   \n",
       "www pfizercareers com search      -0.003806  -3.224359e-03   -0.047281   \n",
       "year                              -0.000005  -1.860068e-06   -0.004694   \n",
       "year experience                    0.000000   0.000000e+00    0.000000   \n",
       "years                             -0.033663  -1.866419e-02   -0.147522   \n",
       "years age                          0.000000   0.000000e+00    0.000000   \n",
       "years experience                  -0.009525  -9.947771e-03   -0.042685   \n",
       "years kwik                        -0.012222  -2.402844e-02   -0.039975   \n",
       "years kwik trip                   -0.012222  -2.402844e-02   -0.039975   \n",
       "years kwik trip commitment        -0.012222  -2.402844e-02   -0.039975   \n",
       "years old                          0.000000   0.000000e+00    0.000000   \n",
       "years sales                        0.000000   0.000000e+00    0.000000   \n",
       "years sales experience             0.000000   0.000000e+00    0.000000   \n",
       "yearsa                            -0.000230  -1.772785e-04   -0.006488   \n",
       "yearsa experience                 -0.000230  -1.772785e-04   -0.006488   \n",
       "yes                               -0.000006  -2.402839e-06   -0.003948   \n",
       "york                              -0.007755  -8.848569e-03   -0.041864   \n",
       "youa                              -0.031050  -3.758714e-02   -0.063415   \n",
       "youa ll                           -0.004135  -4.978829e-03   -0.011999   \n",
       "young                             -0.000104  -2.156664e-04   -0.000270   \n",
       "\n",
       "                                   hospitality  insurance  pharmaceutical  \\\n",
       "index                                -0.000265  -0.000251       -0.000067   \n",
       "00                                   -0.006028  -0.004533        0.049913   \n",
       "00 00                                -0.000797  -0.000608        0.008478   \n",
       "00 hour                              -0.001426  -0.001095       -0.006547   \n",
       "00 pm                                -0.002634  -0.001961        0.051210   \n",
       "000                                  -0.015888  -0.010341       -0.020040   \n",
       "00pm                                 -0.007837  -0.006658        0.038798   \n",
       "10                                   -0.031131  -0.024348       -0.033881   \n",
       "10 years                              0.000000   0.000000        0.000000   \n",
       "100                                  -0.071324  -0.075582       -0.085320   \n",
       "100 best                             -0.030067  -0.038300       -0.036599   \n",
       "100 best companies                   -0.030067  -0.038300       -0.036599   \n",
       "100 best companies work              -0.030067  -0.038300       -0.036599   \n",
       "100 company                          -0.039690  -0.036175       -0.044394   \n",
       "100 company largest                  -0.039690  -0.036175       -0.044394   \n",
       "100 company largest food             -0.039690  -0.036175       -0.044394   \n",
       "11                                   -0.003938  -0.002220        0.020766   \n",
       "12                                   -0.004692  -0.003908        0.011683   \n",
       "13                                   -0.001434  -0.001107       -0.012665   \n",
       "14                                   -0.001426  -0.001095       -0.006547   \n",
       "15                                   -0.012901  -0.011812       -0.034838   \n",
       "16                                   -0.000194  -0.000194       -0.000279   \n",
       "17                                    0.000000   0.000000        0.000000   \n",
       "18                                    0.000000   0.000000        0.000000   \n",
       "18 years                              0.000000   0.000000        0.000000   \n",
       "18 years age                          0.000000   0.000000        0.000000   \n",
       "1986                                 -0.002334  -0.002766       -0.018477   \n",
       "1986 american                        -0.002334  -0.002766       -0.018477   \n",
       "1986 american management             -0.002334  -0.002766       -0.018477   \n",
       "1986 american management services    -0.002334  -0.002766       -0.018477   \n",
       "...                                        ...        ...             ...   \n",
       "world pfizer                         -0.021010  -0.017059        0.089317   \n",
       "world pfizer colleagues              -0.021010  -0.017059        0.089317   \n",
       "world pfizer colleagues work         -0.020490  -0.016647        0.075030   \n",
       "worlda                               -0.043225  -0.047465       -0.058613   \n",
       "worldwide                             0.253468  -0.022209       -0.018211   \n",
       "write                                -0.001568  -0.001238       -0.005646   \n",
       "writing                              -0.000182  -0.000162       -0.002576   \n",
       "written                               0.000000   0.000000        0.000000   \n",
       "www                                  -0.031947  -0.025800        0.171843   \n",
       "www pfizercareers                    -0.027182  -0.022337        0.169076   \n",
       "www pfizercareers com                -0.027182  -0.022337        0.169076   \n",
       "www pfizercareers com search         -0.022530  -0.019775        0.132560   \n",
       "year                                 -0.000225  -0.000185       -0.001806   \n",
       "year experience                       0.000000   0.000000        0.000000   \n",
       "years                                -0.081379  -0.034302        0.018379   \n",
       "years age                             0.000000   0.000000        0.000000   \n",
       "years experience                     -0.020257  -0.017907        0.049159   \n",
       "years kwik                           -0.030480  -0.029177       -0.042299   \n",
       "years kwik trip                      -0.030480  -0.029177       -0.042299   \n",
       "years kwik trip commitment           -0.030480  -0.029177       -0.042299   \n",
       "years old                             0.000000   0.000000        0.000000   \n",
       "years sales                           0.000000   0.000000        0.000000   \n",
       "years sales experience                0.000000   0.000000        0.000000   \n",
       "yearsa                               -0.002178  -0.001645       -0.006135   \n",
       "yearsa experience                    -0.002178  -0.001645       -0.006135   \n",
       "yes                                  -0.000317  -0.000209        0.023635   \n",
       "york                                 -0.019894  -0.014589        0.066034   \n",
       "youa                                 -0.044184  -0.037875       -0.049793   \n",
       "youa ll                              -0.004174  -0.004041       -0.006761   \n",
       "young                                -0.000219  -0.000225       -0.000298   \n",
       "\n",
       "                                     retail    retial  security  technology  \\\n",
       "index                             -0.000151 -0.000152 -0.000155   -0.000172   \n",
       "00                                -0.023726 -0.008175  0.041562    0.047554   \n",
       "00 00                             -0.003251 -0.001154 -0.001249    0.026260   \n",
       "00 hour                           -0.005155 -0.001764  0.029562   -0.001649   \n",
       "00 pm                             -0.008453 -0.003481 -0.003645   -0.003000   \n",
       "000                               -0.039167 -0.012176 -0.011667   -0.011268   \n",
       "00pm                              -0.013272 -0.008886  0.006658   -0.008342   \n",
       "10                                 0.073003 -0.033276  0.000882    0.024057   \n",
       "10 years                           0.000000  0.000000  0.000000    0.000000   \n",
       "100                                0.204272 -0.102783 -0.089546   -0.086240   \n",
       "100 best                           0.137365 -0.049893 -0.037381   -0.038647   \n",
       "100 best companies                 0.137365 -0.049893 -0.037381   -0.038647   \n",
       "100 best companies work            0.137365 -0.049893 -0.037381   -0.038647   \n",
       "100 company                        0.075728 -0.051390 -0.050503   -0.046360   \n",
       "100 company largest                0.075728 -0.051390 -0.050503   -0.046360   \n",
       "100 company largest food           0.075728 -0.051390 -0.050503   -0.046360   \n",
       "11                                 0.007889 -0.003408 -0.003411   -0.002694   \n",
       "12                                -0.006037 -0.008593  0.011451    0.048132   \n",
       "13                                -0.012379 -0.002269  0.016135   -0.001314   \n",
       "14                                -0.005155 -0.001764  0.029562   -0.001649   \n",
       "15                                -0.059480  0.350661 -0.014242   -0.011261   \n",
       "16                                 0.000419 -0.000263 -0.000275   -0.000269   \n",
       "17                                 0.000000  0.000000  0.000000    0.000000   \n",
       "18                                 0.000000  0.000000  0.000000    0.000000   \n",
       "18 years                           0.000000  0.000000  0.000000    0.000000   \n",
       "18 years age                       0.000000  0.000000  0.000000    0.000000   \n",
       "1986                              -0.017744 -0.004472 -0.007157   -0.002657   \n",
       "1986 american                     -0.017744 -0.004472 -0.007157   -0.002657   \n",
       "1986 american management          -0.017744 -0.004472 -0.007157   -0.002657   \n",
       "1986 american management services -0.017744 -0.004472 -0.007157   -0.002657   \n",
       "...                                     ...       ...       ...         ...   \n",
       "world pfizer                      -0.040611 -0.032735 -0.026681   -0.027088   \n",
       "world pfizer colleagues           -0.040611 -0.032735 -0.026681   -0.027088   \n",
       "world pfizer colleagues work      -0.036520 -0.032079 -0.026058   -0.026564   \n",
       "worlda                            -0.114917 -0.041869 -0.019868   -0.041757   \n",
       "worldwide                         -0.061346 -0.026004 -0.022544   -0.022681   \n",
       "write                              0.035386 -0.001544 -0.001610   -0.001341   \n",
       "writing                           -0.002919  0.047292 -0.000334   -0.000151   \n",
       "written                            0.000000  0.000000  0.000000    0.000000   \n",
       "www                               -0.091892 -0.041491  0.026144   -0.036623   \n",
       "www pfizercareers                 -0.071546 -0.036688 -0.039397   -0.032583   \n",
       "www pfizercareers com             -0.071546 -0.036688 -0.039397   -0.032583   \n",
       "www pfizercareers com search      -0.062339 -0.032751 -0.035025   -0.029105   \n",
       "year                              -0.001938 -0.000302 -0.000329    0.027014   \n",
       "year experience                    0.000000  0.000000  0.000000    0.000000   \n",
       "years                             -0.008154 -0.091608 -0.077096    0.057012   \n",
       "years age                          0.000000  0.000000  0.000000    0.000000   \n",
       "years experience                  -0.009465 -0.020765 -0.008067    0.051945   \n",
       "years kwik                         0.065311 -0.038874 -0.040373   -0.039767   \n",
       "years kwik trip                    0.065311 -0.038874 -0.040373   -0.039767   \n",
       "years kwik trip commitment         0.065311 -0.038874 -0.040373   -0.039767   \n",
       "years old                          0.000000  0.000000  0.000000    0.000000   \n",
       "years sales                        0.000000  0.000000  0.000000    0.000000   \n",
       "years sales experience             0.000000  0.000000  0.000000    0.000000   \n",
       "yearsa                            -0.007840 -0.002212  0.013540   -0.002147   \n",
       "yearsa experience                 -0.007840 -0.002212  0.013540   -0.002147   \n",
       "yes                               -0.002070 -0.000315 -0.000383   -0.000214   \n",
       "york                              -0.045253 -0.016868 -0.016137    0.036745   \n",
       "youa                               0.018264  0.089396 -0.021144   -0.021887   \n",
       "youa ll                           -0.011673  0.018148 -0.004995    0.016868   \n",
       "young                              0.000396 -0.000301 -0.000313   -0.000315   \n",
       "\n",
       "                                   wholesale  \n",
       "index                              -0.000264  \n",
       "00                                 -0.005262  \n",
       "00 00                              -0.000681  \n",
       "00 hour                            -0.001400  \n",
       "00 pm                              -0.002273  \n",
       "000                                -0.010875  \n",
       "00pm                               -0.007086  \n",
       "10                                 -0.025891  \n",
       "10 years                            0.000000  \n",
       "100                                -0.067711  \n",
       "100 best                           -0.027970  \n",
       "100 best companies                 -0.027970  \n",
       "100 best companies work            -0.027970  \n",
       "100 company                        -0.038582  \n",
       "100 company largest                -0.038582  \n",
       "100 company largest food           -0.038582  \n",
       "11                                 -0.002492  \n",
       "12                                 -0.004592  \n",
       "13                                 -0.001073  \n",
       "14                                 -0.001400  \n",
       "15                                 -0.010126  \n",
       "16                                 -0.000202  \n",
       "17                                  0.000000  \n",
       "18                                  0.000000  \n",
       "18 years                            0.000000  \n",
       "18 years age                        0.000000  \n",
       "1986                               -0.002123  \n",
       "1986 american                      -0.002123  \n",
       "1986 american management           -0.002123  \n",
       "1986 american management services  -0.002123  \n",
       "...                                      ...  \n",
       "world pfizer                       -0.013883  \n",
       "world pfizer colleagues            -0.013883  \n",
       "world pfizer colleagues work       -0.013439  \n",
       "worlda                             -0.040148  \n",
       "worldwide                          -0.023592  \n",
       "write                              -0.001116  \n",
       "writing                            -0.000135  \n",
       "written                             0.000000  \n",
       "www                                -0.030161  \n",
       "www pfizercareers                  -0.025827  \n",
       "www pfizercareers com              -0.025827  \n",
       "www pfizercareers com search       -0.022687  \n",
       "year                               -0.000179  \n",
       "year experience                     0.000000  \n",
       "years                              -0.034020  \n",
       "years age                           0.000000  \n",
       "years experience                   -0.017443  \n",
       "years kwik                         -0.030810  \n",
       "years kwik trip                    -0.030810  \n",
       "years kwik trip commitment         -0.030810  \n",
       "years old                           0.000000  \n",
       "years sales                         0.000000  \n",
       "years sales experience              0.000000  \n",
       "yearsa                             -0.001854  \n",
       "yearsa experience                  -0.001854  \n",
       "yes                                -0.000212  \n",
       "york                               -0.016616  \n",
       "youa                               -0.039776  \n",
       "youa ll                            -0.003678  \n",
       "young                              -0.000228  \n",
       "\n",
       "[3454 rows x 15 columns]"
      ]
     },
     "execution_count": 360,
     "metadata": {},
     "output_type": "execute_result"
    }
   ],
   "source": [
    "coef_matrix"
   ]
  },
  {
   "cell_type": "code",
   "execution_count": 377,
   "metadata": {},
   "outputs": [
    {
     "data": {
      "text/plain": [
       "<matplotlib.axes._subplots.AxesSubplot at 0x1111f9d90>"
      ]
     },
     "execution_count": 377,
     "metadata": {},
     "output_type": "execute_result"
    },
    {
     "data": {
      "image/png": "[encoded data removed]",
      "text/plain": [
       "<matplotlib.figure.Figure at 0x1111d7890>"
      ]
     },
     "metadata": {},
     "output_type": "display_data"
    }
   ],
   "source": [
    "# Let's look at the top coefficients for a few categories, and see if they're different.\n",
    "\n",
    "# We could also look at the the intersection of the topwords to see how much overlap there is between industries.\n",
    "\n",
    "# interest that \"sales\" is so high up on retail, along with other intuitive words like 'product' and customer\n",
    "# service related words.\n",
    "\n",
    "# we could even do a jacard similarity between industries.\n",
    "\n",
    "coef_matrix['clothing'].sort_values(ascending=False).head(20).plot(kind='barh', figsize=(7,10))"
   ]
  },
  {
   "cell_type": "code",
   "execution_count": 376,
   "metadata": {},
   "outputs": [
    {
     "data": {
      "text/plain": [
       "<matplotlib.axes._subplots.AxesSubplot at 0x111440d50>"
      ]
     },
     "execution_count": 376,
     "metadata": {},
     "output_type": "execute_result"
    },
    {
     "data": {
      "image/png": "[encoded data removed]",
      "text/plain": [
       "<matplotlib.figure.Figure at 0x111208290>"
      ]
     },
     "metadata": {},
     "output_type": "display_data"
    }
   ],
   "source": [
    "coef_matrix['IT'].sort_values(ascending=False).head(20).plot(kind='barh', figsize=(7,10))"
   ]
  },
  {
   "cell_type": "code",
   "execution_count": 375,
   "metadata": {},
   "outputs": [
    {
     "data": {
      "text/plain": [
       "<matplotlib.axes._subplots.AxesSubplot at 0x111685710>"
      ]
     },
     "execution_count": 375,
     "metadata": {},
     "output_type": "execute_result"
    },
    {
     "data": {
      "image/png": "[encoded data removed]",
      "text/plain": [
       "<matplotlib.figure.Figure at 0x11155ed10>"
      ]
     },
     "metadata": {},
     "output_type": "display_data"
    }
   ],
   "source": [
    "coef_matrix['healthcare'].sort_values(ascending=False).head(20).plot(kind='barh', figsize=(7,10))"
   ]
  },
  {
   "cell_type": "code",
   "execution_count": 378,
   "metadata": {},
   "outputs": [
    {
     "data": {
      "text/plain": [
       "<matplotlib.axes._subplots.AxesSubplot at 0x123bf7490>"
      ]
     },
     "execution_count": 378,
     "metadata": {},
     "output_type": "execute_result"
    },
    {
     "data": {
      "image/png": "[encoded data removed]",
      "text/plain": [
       "<matplotlib.figure.Figure at 0x12143e950>"
      ]
     },
     "metadata": {},
     "output_type": "display_data"
    }
   ],
   "source": [
    "# The model appears to have learned to specific keywords associated with companies more so than industries.\n",
    "\n",
    "# We're seeing names of companies come up here.\n",
    "\n",
    "coef_matrix['retail'].sort_values(ascending=False).head(20).plot(kind='barh', figsize=(7,10), title=\"Retail Coefficients\")"
   ]
  },
  {
   "cell_type": "code",
   "execution_count": 410,
   "metadata": {},
   "outputs": [],
   "source": [
    "def jaccard(list1, list2):\n",
    "    \"\"\" This function takes in two lists and returns the jaccard similarity between them.\"\"\"\n",
    "    union = set(list1).intersection(set(list2))\n",
    "    distinct = set(list1).union(set(list2))\n",
    "    jaccard = float(len(union))/len(distinct)\n",
    "    return jaccard\n",
    "\n",
    "\n",
    "# first we'll go through all the industries, and find the coefficients for the words/phrases that are most strongly\n",
    "# predictive of that industry.\n",
    "industry_list = []\n",
    "for industry in coef_matrix.columns:\n",
    "    industry_top_words = coef_matrix[industry].sort_values(ascending=False).head(50).index.tolist()\n",
    "    industry_dict = {'industry': industry,\n",
    "                    'top_words': industry_top_words}\n",
    "    industry_list.append(industry_dict)\n",
    "\n",
    "# this is a dataframe with two columns, one for each industry, and another with a list of the top words in that\n",
    "# industry.\n",
    "jaccard_df = pd.DataFrame(industry_list)\n",
    "\n",
    "\n",
    "# now we're going to loop through all the industries, calculcate the jaccard score for that industry's words with\n",
    "# every other industry, and put those into a new dataframe.\n",
    "jaccards = []\n",
    "for industry in jaccard_df.industry:\n",
    "    top_words = jaccard_df.loc[jaccard_df['industry'] == industry, 'top_words'].values[0]\n",
    "    jaccard_scores = {}\n",
    "    for i, words in enumerate(jaccard_df.top_words):\n",
    "        jaccard_score = jaccard(words, top_words)\n",
    "        jaccard_scores[coef_matrix.columns[i]] = jaccard_score\n",
    "    jaccards.append(jaccard_scores)\n",
    "    \n",
    "industry_jacard_scores= pd.DataFrame(jaccards, index=coef_matrix.columns)"
   ]
  },
  {
   "cell_type": "code",
   "execution_count": 411,
   "metadata": {
    "collapsed": true
   },
   "outputs": [],
   "source": [
    "def heat_map(df):\n",
    "    \n",
    "    # set figure size\n",
    "    fig, ax = plt.subplots(figsize = (11, 7))\n",
    "    \n",
    "    # generate a mask for the upper triagle \n",
    "    mask = np.zeros_like(df, dtype=np.bool)\n",
    "    mask[np.triu_indices_from(mask)] = True\n",
    "    \n",
    "    #plot heatmap\n",
    "    ax = sns.heatmap(df, mask=mask, annot = True)\n",
    "    \n",
    "    #resize labels\n",
    "    ax.set_xticklabels(ax.xaxis.get_ticklabels(), fontsize=14, rotation=90)\n",
    "    ax.set_yticklabels(ax.yaxis.get_ticklabels(), fontsize=14, rotation=0)\n",
    "    \n",
    "    plt.show()"
   ]
  },
  {
   "cell_type": "code",
   "execution_count": 412,
   "metadata": {},
   "outputs": [
    {
     "data": {
      "image/png": "[encoded data removed]",
      "text/plain": [
       "<matplotlib.figure.Figure at 0x121533d50>"
      ]
     },
     "metadata": {},
     "output_type": "display_data"
    }
   ],
   "source": [
    "heat_map(industry_jacard_scores)\n",
    "\n",
    "# Looks like there really isn't too much similarity between industries with regard to what words define those\n",
    "# roles."
   ]
  },
  {
   "cell_type": "markdown",
   "metadata": {},
   "source": [
    "One drawback of looking at if there are differences between what skills are required for jobs using a model like this is that the model is going to intentionally try to find the differences as opposed to similarities between words.  Rather than doing any modelling at all, we may just want to look at the jacard similaries between the top words associated from the count vectorization step for each industry, and look at the jaccard similarities between those."
   ]
  },
  {
   "cell_type": "code",
   "execution_count": 414,
   "metadata": {
    "collapsed": true
   },
   "outputs": [],
   "source": [
    "## let's look at jaccard similarities of just the top 50 most common words for each industry.\n",
    "\n",
    "del(X_ind['industry'])"
   ]
  },
  {
   "cell_type": "code",
   "execution_count": 433,
   "metadata": {},
   "outputs": [
    {
     "data": {
      "image/png": "[encoded data removed]",
      "text/plain": [
       "<matplotlib.figure.Figure at 0x131652e90>"
      ]
     },
     "metadata": {},
     "output_type": "display_data"
    }
   ],
   "source": [
    "# first we'll go through all the industries, and find the coefficients for the words/phrases that are most strongly\n",
    "# predictive of that industry.\n",
    "\n",
    "def jaccard_sims_ind(top_x_words=50):\n",
    "    industry_list = []\n",
    "    for industry in coef_matrix.columns:\n",
    "        x_df = pd.DataFrame(X_ind[y_ind == industry], columns=columns)\n",
    "        tf_df = pd.DataFrame(x_df.sum(), columns=[\"freq\"])\n",
    "\n",
    "        # looking at the top 100 most frequent words and phrases for each industry\n",
    "        industry_top_words = tf_df.sort_values(\"freq\", ascending=False).head(top_x_words).index.tolist()\n",
    "        industry_dict = {'industry': industry,\n",
    "                        'top_words': industry_top_words}\n",
    "        industry_list.append(industry_dict)\n",
    "\n",
    "    # this is a dataframe with two columns, one for each industry, and another with a list of the top words in that\n",
    "    # industry.\n",
    "    jaccard_df = pd.DataFrame(industry_list)\n",
    "\n",
    "\n",
    "    # now we're going to loop through all the industries, calculcate the jaccard score for that industry's words with\n",
    "    # every other industry, and put those into a new dataframe.\n",
    "    jaccards = []\n",
    "    for industry in jaccard_df.industry:\n",
    "        top_words = jaccard_df.loc[jaccard_df['industry'] == industry, 'top_words'].values[0]\n",
    "        jaccard_scores = {}\n",
    "        for i, words in enumerate(jaccard_df.top_words):\n",
    "            jaccard_score = jaccard(words, top_words)\n",
    "            jaccard_scores[coef_matrix.columns[i]] = jaccard_score\n",
    "        jaccards.append(jaccard_scores)\n",
    "\n",
    "    industry_jaccard_scores = pd.DataFrame(jaccards, index=coef_matrix.columns)\n",
    "\n",
    "    heat_map(industry_jaccard_scores)\n",
    "    return\n",
    "\n",
    "jaccard_sims_ind()"
   ]
  },
  {
   "cell_type": "code",
   "execution_count": 434,
   "metadata": {
    "scrolled": true
   },
   "outputs": [],
   "source": [
    "# even looking at things this way, there really doesn't appear to be TOO much overlap with regard to key words \n",
    "# in job descriptions.  We see the most similarity between technology and IT.   There are some odd connections,\n",
    "# like with consulting and fitness.  It may be interesting to dive deeper into the industries where there are overlaps\n",
    "# and explort that a little deeper."
   ]
  },
  {
   "cell_type": "code",
   "execution_count": 437,
   "metadata": {},
   "outputs": [
    {
     "data": {
      "image/png": "[encoded data removed]",
      "text/plain": [
       "<matplotlib.figure.Figure at 0x11e7b0150>"
      ]
     },
     "metadata": {},
     "output_type": "display_data"
    }
   ],
   "source": [
    "# Let's look at just the top 20 words.\n",
    "\n",
    "jaccard_sims_ind(20)"
   ]
  },
  {
   "cell_type": "markdown",
   "metadata": {},
   "source": [
    "### Results\n",
    "\n",
    "Without looking deeper, it seems pretty clear that there are some skills that differentiate between industries, but also some words that show up in multiple industries.\n",
    "\n",
    "For instances, words associated with sales seem to come up a lot in the context of retail jobs, and not in others, but we see things associated with customer service in both healthcare and retail.  \n",
    "\n",
    "In general, there do seem to be industry specific keywords that differentiate them from one another.\n",
    "\n",
    "Moving forward, it would be good to go back to the industry definition part of this process, and expand the number\n",
    "of companies involved.  By picking to classify industries based on large companies, the model seems to have learned more of the specific keywords associated with companies as opposed to whole industries."
   ]
  }
 ],
 "metadata": {
  "kernelspec": {
   "display_name": "Python 2",
   "language": "python",
   "name": "python2"
  },
  "language_info": {
   "codemirror_mode": {
    "name": "ipython",
    "version": 2
   },
   "file_extension": ".py",
   "mimetype": "text/x-python",
   "name": "python",
   "nbconvert_exporter": "python",
   "pygments_lexer": "ipython2",
   "version": "2.7.12"
  }
 },
 "nbformat": 4,
 "nbformat_minor": 2
}
